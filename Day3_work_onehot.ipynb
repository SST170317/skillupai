{
 "cells": [
  {
   "cell_type": "markdown",
   "metadata": {},
   "source": [
    "# STEP.1 必要なライブラリのインポート"
   ]
  },
  {
   "cell_type": "code",
   "execution_count": 1,
   "metadata": {},
   "outputs": [],
   "source": [
    "%matplotlib inline\n",
    "import pandas as pd\n",
    "import numpy as np\n",
    "import matplotlib.pyplot as plt\n",
    "import datetime\n",
    "import seaborn as sns\n",
    "import pydotplus\n",
    "import xgboost as xgb\n",
    "\n",
    "from sklearn.model_selection import GridSearchCV\n",
    "from IPython.display import Image\n",
    "from sklearn.svm import SVC\n",
    "from sklearn.svm import LinearSVC\n",
    "from sklearn.feature_selection import RFECV\n",
    "from sklearn.linear_model import LassoCV\n",
    "from sklearn.feature_selection import SelectFromModel\n",
    "from sklearn.linear_model import SGDClassifier\n",
    "from sklearn.metrics import log_loss, accuracy_score, confusion_matrix, roc_auc_score, roc_curve\n",
    "from sklearn.model_selection import train_test_split # ホールドアウト法に関する関数\n",
    "from sklearn.model_selection import KFold # 交差検証法に関する関数\n",
    "from sklearn.preprocessing import StandardScaler\n",
    "from sklearn.model_selection import cross_val_score, cross_validate, StratifiedKFold, cross_val_predict\n",
    "from sklearn.tree import DecisionTreeClassifier, export_graphviz\n",
    "from sklearn.ensemble import RandomForestClassifier\n",
    "\n",
    "from tensorflow.compat.v1.keras import Sequential\n",
    "from tensorflow.compat.v1.keras.layers import Dense, Dropout, Activation\n",
    "from tensorflow.compat.v1.keras.optimizers import SGD,RMSprop, Adagrad, Adadelta, Adam\n",
    "from tensorflow.compat.v1.keras.models import load_model"
   ]
  },
  {
   "cell_type": "markdown",
   "metadata": {},
   "source": [
    "# STEP.2 CSVファイルの読み込み"
   ]
  },
  {
   "cell_type": "code",
   "execution_count": 2,
   "metadata": {},
   "outputs": [],
   "source": [
    "# CSVファイルの読み込み\n",
    "df = pd.read_csv('ks-projects-201801.csv')\n",
    "df.head(3)\n",
    "\n",
    "# 使用するCPU数を指定しておく\n",
    "cpu_cnt=-1"
   ]
  },
  {
   "cell_type": "code",
   "execution_count": 3,
   "metadata": {},
   "outputs": [
    {
     "name": "stdout",
     "output_type": "stream",
     "text": [
      "378661\n"
     ]
    }
   ],
   "source": [
    "# 件数の確認\n",
    "print(len(df))"
   ]
  },
  {
   "cell_type": "markdown",
   "metadata": {},
   "source": [
    "# STEP.3 欠損値の処理"
   ]
  },
  {
   "cell_type": "code",
   "execution_count": 4,
   "metadata": {},
   "outputs": [
    {
     "data": {
      "text/plain": [
       "ID                     0\n",
       "name                   4\n",
       "category               0\n",
       "main_category          0\n",
       "currency               0\n",
       "deadline               0\n",
       "goal                   0\n",
       "launched               0\n",
       "pledged                0\n",
       "state                  0\n",
       "backers                0\n",
       "country                0\n",
       "usd pledged         3797\n",
       "usd_pledged_real       0\n",
       "usd_goal_real          0\n",
       "dtype: int64"
      ]
     },
     "execution_count": 4,
     "metadata": {},
     "output_type": "execute_result"
    }
   ],
   "source": [
    "# 欠損値の確認\n",
    "df.isnull().sum()"
   ]
  },
  {
   "cell_type": "code",
   "execution_count": 5,
   "metadata": {},
   "outputs": [
    {
     "data": {
      "text/plain": [
       "ID                  0\n",
       "name                4\n",
       "category            0\n",
       "main_category       0\n",
       "currency            0\n",
       "deadline            0\n",
       "goal                0\n",
       "launched            0\n",
       "pledged             0\n",
       "state               0\n",
       "backers             0\n",
       "country             0\n",
       "usd pledged         0\n",
       "usd_pledged_real    0\n",
       "usd_goal_real       0\n",
       "dtype: int64"
      ]
     },
     "execution_count": 5,
     "metadata": {},
     "output_type": "execute_result"
    }
   ],
   "source": [
    "# 暫定で０埋めにする\n",
    "df['usd pledged'] = df['usd pledged'].fillna('0')\n",
    "df.isnull().sum()"
   ]
  },
  {
   "cell_type": "markdown",
   "metadata": {},
   "source": [
    "※↑usd pledgedは後で消すことになる  \n",
    "本来であれば、平均値・中央値で埋める等検討する  \n",
    "もし平均値をとる場合は、事前にデータの分布・分散を確認する（90点・95点・5点、の場合は平均値を使わない方が良い）  "
   ]
  },
  {
   "cell_type": "markdown",
   "metadata": {},
   "source": [
    "# STEP.4 ダミー変数の作成"
   ]
  },
  {
   "cell_type": "markdown",
   "metadata": {},
   "source": [
    "## STEP4-1.日付データの処理\n",
    "\n",
    "仮説として、クラウドファンディングが発表された日と締め切りまでの日数差が影響を及ぼしているとして、説明変数に加える"
   ]
  },
  {
   "cell_type": "code",
   "execution_count": 6,
   "metadata": {},
   "outputs": [],
   "source": [
    "# 日付型に変換\n",
    "df['deadline'] = pd.to_datetime(df['deadline'])\n",
    "df['launched'] = pd.to_datetime(pd.to_datetime(df['launched']).dt.strftime('%Y-%m-%d'))"
   ]
  },
  {
   "cell_type": "code",
   "execution_count": 7,
   "metadata": {},
   "outputs": [],
   "source": [
    "# launched と deadline の差をとって、日数を計算\n",
    "df['datenum'] = (df['deadline']-df['launched']).astype('timedelta64[D]')"
   ]
  },
  {
   "cell_type": "markdown",
   "metadata": {},
   "source": [
    "## STEP4-2.目的変数の処理\n",
    "\n",
    "目的変数は、成功する場合のみをターゲットとするため、成功の場合は1、成功以外の場合は2とする"
   ]
  },
  {
   "cell_type": "code",
   "execution_count": 8,
   "metadata": {},
   "outputs": [],
   "source": [
    "df.loc[df['state'] == 'successful', 'state_num'] = 1\n",
    "df.loc[df['state'] != 'successful', 'state_num'] = 0"
   ]
  },
  {
   "cell_type": "markdown",
   "metadata": {},
   "source": [
    "## STEP4-3.カテゴリ値の処理\n",
    "\n",
    "カテゴリ値は事前にカテゴリ値毎に目的変数の件数を確認し、極端に偏っていないかなどを確認する"
   ]
  },
  {
   "cell_type": "markdown",
   "metadata": {},
   "source": [
    "### categoryの確認"
   ]
  },
  {
   "cell_type": "code",
   "execution_count": 9,
   "metadata": {
    "scrolled": true
   },
   "outputs": [
    {
     "name": "stdout",
     "output_type": "stream",
     "text": [
      "Product Design       22314\n",
      "Documentary          16139\n",
      "Music                15727\n",
      "Tabletop Games       14180\n",
      "Shorts               12357\n",
      "Video Games          11830\n",
      "Food                 11493\n",
      "Film & Video         10108\n",
      "Fiction               9169\n",
      "Fashion               8554\n",
      "Nonfiction            8318\n",
      "Art                   8253\n",
      "Apparel               7166\n",
      "Theater               7057\n",
      "Technology            6930\n",
      "Rock                  6758\n",
      "Children's Books      6756\n",
      "Apps                  6345\n",
      "Publishing            6018\n",
      "Webseries             5762\n",
      "Photography           5752\n",
      "Indie Rock            5657\n",
      "Narrative Film        5188\n",
      "Web                   5153\n",
      "Comics                4996\n",
      "Crafts                4664\n",
      "Country & Folk        4451\n",
      "Design                4199\n",
      "Hip-Hop               3912\n",
      "Hardware              3663\n",
      "                     ...  \n",
      "Couture                275\n",
      "Blues                  268\n",
      "Animals                255\n",
      "Fabrication Tools      250\n",
      "Makerspaces            238\n",
      "Printing               238\n",
      "Movie Theaters         232\n",
      "Puzzles                231\n",
      "Bacon                  221\n",
      "Stationery             219\n",
      "Photo                  196\n",
      "Video Art              194\n",
      "Romance                190\n",
      "Knitting               181\n",
      "Workshops              164\n",
      "Crochet                162\n",
      "Translations           153\n",
      "Pet Fashion            139\n",
      "Glass                  138\n",
      "Latin                  137\n",
      "Embroidery             113\n",
      "Typography             108\n",
      "Pottery                100\n",
      "Weaving                 93\n",
      "Quilts                  81\n",
      "Residencies             69\n",
      "Letterpress             49\n",
      "Chiptune                35\n",
      "Literary Spaces         27\n",
      "Taxidermy               13\n",
      "Name: category, Length: 159, dtype: int64\n",
      "<class 'pandas.core.series.Series'>\n"
     ]
    }
   ],
   "source": [
    "# カテゴリ値の種別を確認\n",
    "vc = df['category'].value_counts()\n",
    "print(vc)\n",
    "print(type(vc))"
   ]
  },
  {
   "cell_type": "code",
   "execution_count": 10,
   "metadata": {},
   "outputs": [
    {
     "data": {
      "text/plain": [
       "114148"
      ]
     },
     "execution_count": 10,
     "metadata": {},
     "output_type": "execute_result"
    }
   ],
   "source": [
    "# 件数上位10カテゴリの分布を確認しておおよその傾向をつかむ\n",
    "df_wk = df.loc[:,['category', 'state_num']]\n",
    "df_wk = df_wk[df_wk['category'].isin(['Product Design' , 'Documentary', 'Music', 'Tabletop Games', 'Shorts', 'Video Games', 'Food', 'Film & Video'])]\n",
    "len(df_wk)"
   ]
  },
  {
   "cell_type": "code",
   "execution_count": 11,
   "metadata": {
    "scrolled": true
   },
   "outputs": [
    {
     "data": {
      "text/plain": [
       "<seaborn.axisgrid.FacetGrid at 0x7fccb157ef98>"
      ]
     },
     "execution_count": 11,
     "metadata": {},
     "output_type": "execute_result"
    },
    {
     "data": {
      "image/png": "[encoded data removed]",
      "text/plain": [
       "<Figure size 416.625x360 with 1 Axes>"
      ]
     },
     "metadata": {
      "needs_background": "light"
     },
     "output_type": "display_data"
    }
   ],
   "source": [
    "sns.catplot(x=\"category\", hue=\"state_num\", data=df_wk, kind=\"count\")"
   ]
  },
  {
   "cell_type": "markdown",
   "metadata": {},
   "source": [
    "↑ categoryは特定カテゴリ値での相関が強すぎる結果はないはずなので説明変数として有効"
   ]
  },
  {
   "cell_type": "markdown",
   "metadata": {},
   "source": [
    "### main_categoryの確認"
   ]
  },
  {
   "cell_type": "code",
   "execution_count": 12,
   "metadata": {},
   "outputs": [
    {
     "name": "stdout",
     "output_type": "stream",
     "text": [
      "Film & Video    63585\n",
      "Music           51918\n",
      "Publishing      39874\n",
      "Games           35231\n",
      "Technology      32569\n",
      "Design          30070\n",
      "Art             28153\n",
      "Food            24602\n",
      "Fashion         22816\n",
      "Theater         10913\n",
      "Comics          10819\n",
      "Photography     10779\n",
      "Crafts           8809\n",
      "Journalism       4755\n",
      "Dance            3768\n",
      "Name: main_category, dtype: int64\n"
     ]
    }
   ],
   "source": [
    "vc = df['main_category'].value_counts()\n",
    "print(vc)"
   ]
  },
  {
   "cell_type": "code",
   "execution_count": 13,
   "metadata": {},
   "outputs": [
    {
     "data": {
      "text/plain": [
       "<seaborn.axisgrid.FacetGrid at 0x7fccb981f668>"
      ]
     },
     "execution_count": 13,
     "metadata": {},
     "output_type": "execute_result"
    },
    {
     "data": {
      "image/png": "[encoded data removed]",
      "text/plain": [
       "<Figure size 416.625x360 with 1 Axes>"
      ]
     },
     "metadata": {
      "needs_background": "light"
     },
     "output_type": "display_data"
    }
   ],
   "source": [
    "sns.catplot(x=\"main_category\", hue=\"state_num\", data=df, kind=\"count\")"
   ]
  },
  {
   "cell_type": "markdown",
   "metadata": {},
   "source": [
    "main_categoryは特定カテゴリ値での相関が強すぎる結果はないはずなので説明変数として有効"
   ]
  },
  {
   "cell_type": "markdown",
   "metadata": {},
   "source": [
    "### currencyカテゴリの確認"
   ]
  },
  {
   "cell_type": "code",
   "execution_count": 14,
   "metadata": {},
   "outputs": [
    {
     "data": {
      "text/plain": [
       "<seaborn.axisgrid.FacetGrid at 0x7fccb835d048>"
      ]
     },
     "execution_count": 14,
     "metadata": {},
     "output_type": "execute_result"
    },
    {
     "data": {
      "image/png": "[encoded data removed]",
      "text/plain": [
       "<Figure size 416.625x360 with 1 Axes>"
      ]
     },
     "metadata": {
      "needs_background": "light"
     },
     "output_type": "display_data"
    }
   ],
   "source": [
    "sns.catplot(x=\"currency\", hue=\"state_num\", data=df, kind=\"count\")"
   ]
  },
  {
   "cell_type": "markdown",
   "metadata": {},
   "source": [
    "currencyは特定カテゴリ値での相関が強すぎる結果はないはずだが、そもそもUSDしかないのであれば説明変数で不要か"
   ]
  },
  {
   "cell_type": "markdown",
   "metadata": {},
   "source": [
    "### countryカテゴリの確認"
   ]
  },
  {
   "cell_type": "code",
   "execution_count": 15,
   "metadata": {},
   "outputs": [
    {
     "data": {
      "text/plain": [
       "<seaborn.axisgrid.FacetGrid at 0x7fccb18fd5c0>"
      ]
     },
     "execution_count": 15,
     "metadata": {},
     "output_type": "execute_result"
    },
    {
     "data": {
      "image/png": "[encoded data removed]",
      "text/plain": [
       "<Figure size 416.625x360 with 1 Axes>"
      ]
     },
     "metadata": {
      "needs_background": "light"
     },
     "output_type": "display_data"
    }
   ],
   "source": [
    "sns.catplot(x=\"country\", hue=\"state_num\", data=df, kind=\"count\")"
   ]
  },
  {
   "cell_type": "markdown",
   "metadata": {},
   "source": [
    "countryは特定カテゴリ値での相関が強すぎる結果はないはずだが、そもそもUSAしかないのであれば説明変数で不要か"
   ]
  },
  {
   "cell_type": "markdown",
   "metadata": {},
   "source": [
    "## STEP4-4.カテゴリ値の変換（OneHotEncoding）"
   ]
  },
  {
   "cell_type": "code",
   "execution_count": 16,
   "metadata": {},
   "outputs": [],
   "source": [
    "# OneHotEncoding\n",
    "df = pd.get_dummies(df, columns=['category','main_category'])"
   ]
  },
  {
   "cell_type": "markdown",
   "metadata": {},
   "source": [
    "#### ※OneHotEncodinを実施したいが、学習に時間がかかりすぎるので今回はカテゴリ値に変換することで我慢する"
   ]
  },
  {
   "cell_type": "markdown",
   "metadata": {},
   "source": [
    "## STEP4-4.カテゴリ値の変換（区分値）"
   ]
  },
  {
   "cell_type": "code",
   "execution_count": 17,
   "metadata": {},
   "outputs": [],
   "source": [
    "# カテゴリ値版\n",
    "# categoryをカテゴリ値に変換\n",
    "#labels, uniques = pd.factorize(df['category'])\n",
    "#df['category'] = labels\n",
    "\n",
    "# main_categoryをカテゴリ値に変換\n",
    "#labels, uniques = pd.factorize(df['main_category'])\n",
    "#df['main_category'] = labels\n"
   ]
  },
  {
   "cell_type": "markdown",
   "metadata": {},
   "source": [
    "## STEP4-5.一次前処理結果の確認"
   ]
  },
  {
   "cell_type": "code",
   "execution_count": 18,
   "metadata": {},
   "outputs": [
    {
     "data": {
      "text/html": [
       "<div>\n",
       "<style scoped>\n",
       "    .dataframe tbody tr th:only-of-type {\n",
       "        vertical-align: middle;\n",
       "    }\n",
       "\n",
       "    .dataframe tbody tr th {\n",
       "        vertical-align: top;\n",
       "    }\n",
       "\n",
       "    .dataframe thead th {\n",
       "        text-align: right;\n",
       "    }\n",
       "</style>\n",
       "<table border=\"1\" class=\"dataframe\">\n",
       "  <thead>\n",
       "    <tr style=\"text-align: right;\">\n",
       "      <th></th>\n",
       "      <th>ID</th>\n",
       "      <th>goal</th>\n",
       "      <th>pledged</th>\n",
       "      <th>backers</th>\n",
       "      <th>usd_pledged_real</th>\n",
       "      <th>usd_goal_real</th>\n",
       "      <th>datenum</th>\n",
       "      <th>state_num</th>\n",
       "      <th>category_3D Printing</th>\n",
       "      <th>category_Academic</th>\n",
       "      <th>...</th>\n",
       "      <th>main_category_Fashion</th>\n",
       "      <th>main_category_Film &amp; Video</th>\n",
       "      <th>main_category_Food</th>\n",
       "      <th>main_category_Games</th>\n",
       "      <th>main_category_Journalism</th>\n",
       "      <th>main_category_Music</th>\n",
       "      <th>main_category_Photography</th>\n",
       "      <th>main_category_Publishing</th>\n",
       "      <th>main_category_Technology</th>\n",
       "      <th>main_category_Theater</th>\n",
       "    </tr>\n",
       "  </thead>\n",
       "  <tbody>\n",
       "    <tr>\n",
       "      <th>count</th>\n",
       "      <td>3.786610e+05</td>\n",
       "      <td>3.786610e+05</td>\n",
       "      <td>3.786610e+05</td>\n",
       "      <td>378661.000000</td>\n",
       "      <td>3.786610e+05</td>\n",
       "      <td>3.786610e+05</td>\n",
       "      <td>378661.000000</td>\n",
       "      <td>378661.000000</td>\n",
       "      <td>378661.000000</td>\n",
       "      <td>378661.000000</td>\n",
       "      <td>...</td>\n",
       "      <td>378661.000000</td>\n",
       "      <td>378661.000000</td>\n",
       "      <td>378661.000000</td>\n",
       "      <td>378661.000000</td>\n",
       "      <td>378661.000000</td>\n",
       "      <td>378661.000000</td>\n",
       "      <td>378661.000000</td>\n",
       "      <td>378661.000000</td>\n",
       "      <td>378661.000000</td>\n",
       "      <td>378661.00000</td>\n",
       "    </tr>\n",
       "    <tr>\n",
       "      <th>mean</th>\n",
       "      <td>1.074731e+09</td>\n",
       "      <td>4.908079e+04</td>\n",
       "      <td>9.682979e+03</td>\n",
       "      <td>105.617476</td>\n",
       "      <td>9.058924e+03</td>\n",
       "      <td>4.545440e+04</td>\n",
       "      <td>34.481095</td>\n",
       "      <td>0.353762</td>\n",
       "      <td>0.001804</td>\n",
       "      <td>0.002419</td>\n",
       "      <td>...</td>\n",
       "      <td>0.060254</td>\n",
       "      <td>0.167921</td>\n",
       "      <td>0.064971</td>\n",
       "      <td>0.093041</td>\n",
       "      <td>0.012557</td>\n",
       "      <td>0.137109</td>\n",
       "      <td>0.028466</td>\n",
       "      <td>0.105303</td>\n",
       "      <td>0.086011</td>\n",
       "      <td>0.02882</td>\n",
       "    </tr>\n",
       "    <tr>\n",
       "      <th>std</th>\n",
       "      <td>6.190862e+08</td>\n",
       "      <td>1.183391e+06</td>\n",
       "      <td>9.563601e+04</td>\n",
       "      <td>907.185035</td>\n",
       "      <td>9.097334e+04</td>\n",
       "      <td>1.152950e+06</td>\n",
       "      <td>65.909173</td>\n",
       "      <td>0.478137</td>\n",
       "      <td>0.042432</td>\n",
       "      <td>0.049124</td>\n",
       "      <td>...</td>\n",
       "      <td>0.237958</td>\n",
       "      <td>0.373796</td>\n",
       "      <td>0.246475</td>\n",
       "      <td>0.290490</td>\n",
       "      <td>0.111354</td>\n",
       "      <td>0.343963</td>\n",
       "      <td>0.166300</td>\n",
       "      <td>0.306943</td>\n",
       "      <td>0.280381</td>\n",
       "      <td>0.16730</td>\n",
       "    </tr>\n",
       "    <tr>\n",
       "      <th>min</th>\n",
       "      <td>5.971000e+03</td>\n",
       "      <td>1.000000e-02</td>\n",
       "      <td>0.000000e+00</td>\n",
       "      <td>0.000000</td>\n",
       "      <td>0.000000e+00</td>\n",
       "      <td>1.000000e-02</td>\n",
       "      <td>1.000000</td>\n",
       "      <td>0.000000</td>\n",
       "      <td>0.000000</td>\n",
       "      <td>0.000000</td>\n",
       "      <td>...</td>\n",
       "      <td>0.000000</td>\n",
       "      <td>0.000000</td>\n",
       "      <td>0.000000</td>\n",
       "      <td>0.000000</td>\n",
       "      <td>0.000000</td>\n",
       "      <td>0.000000</td>\n",
       "      <td>0.000000</td>\n",
       "      <td>0.000000</td>\n",
       "      <td>0.000000</td>\n",
       "      <td>0.00000</td>\n",
       "    </tr>\n",
       "    <tr>\n",
       "      <th>25%</th>\n",
       "      <td>5.382635e+08</td>\n",
       "      <td>2.000000e+03</td>\n",
       "      <td>3.000000e+01</td>\n",
       "      <td>2.000000</td>\n",
       "      <td>3.100000e+01</td>\n",
       "      <td>2.000000e+03</td>\n",
       "      <td>30.000000</td>\n",
       "      <td>0.000000</td>\n",
       "      <td>0.000000</td>\n",
       "      <td>0.000000</td>\n",
       "      <td>...</td>\n",
       "      <td>0.000000</td>\n",
       "      <td>0.000000</td>\n",
       "      <td>0.000000</td>\n",
       "      <td>0.000000</td>\n",
       "      <td>0.000000</td>\n",
       "      <td>0.000000</td>\n",
       "      <td>0.000000</td>\n",
       "      <td>0.000000</td>\n",
       "      <td>0.000000</td>\n",
       "      <td>0.00000</td>\n",
       "    </tr>\n",
       "    <tr>\n",
       "      <th>50%</th>\n",
       "      <td>1.075276e+09</td>\n",
       "      <td>5.200000e+03</td>\n",
       "      <td>6.200000e+02</td>\n",
       "      <td>12.000000</td>\n",
       "      <td>6.243300e+02</td>\n",
       "      <td>5.500000e+03</td>\n",
       "      <td>30.000000</td>\n",
       "      <td>0.000000</td>\n",
       "      <td>0.000000</td>\n",
       "      <td>0.000000</td>\n",
       "      <td>...</td>\n",
       "      <td>0.000000</td>\n",
       "      <td>0.000000</td>\n",
       "      <td>0.000000</td>\n",
       "      <td>0.000000</td>\n",
       "      <td>0.000000</td>\n",
       "      <td>0.000000</td>\n",
       "      <td>0.000000</td>\n",
       "      <td>0.000000</td>\n",
       "      <td>0.000000</td>\n",
       "      <td>0.00000</td>\n",
       "    </tr>\n",
       "    <tr>\n",
       "      <th>75%</th>\n",
       "      <td>1.610149e+09</td>\n",
       "      <td>1.600000e+04</td>\n",
       "      <td>4.076000e+03</td>\n",
       "      <td>56.000000</td>\n",
       "      <td>4.050000e+03</td>\n",
       "      <td>1.550000e+04</td>\n",
       "      <td>37.000000</td>\n",
       "      <td>1.000000</td>\n",
       "      <td>0.000000</td>\n",
       "      <td>0.000000</td>\n",
       "      <td>...</td>\n",
       "      <td>0.000000</td>\n",
       "      <td>0.000000</td>\n",
       "      <td>0.000000</td>\n",
       "      <td>0.000000</td>\n",
       "      <td>0.000000</td>\n",
       "      <td>0.000000</td>\n",
       "      <td>0.000000</td>\n",
       "      <td>0.000000</td>\n",
       "      <td>0.000000</td>\n",
       "      <td>0.00000</td>\n",
       "    </tr>\n",
       "    <tr>\n",
       "      <th>max</th>\n",
       "      <td>2.147476e+09</td>\n",
       "      <td>1.000000e+08</td>\n",
       "      <td>2.033899e+07</td>\n",
       "      <td>219382.000000</td>\n",
       "      <td>2.033899e+07</td>\n",
       "      <td>1.663614e+08</td>\n",
       "      <td>16739.000000</td>\n",
       "      <td>1.000000</td>\n",
       "      <td>1.000000</td>\n",
       "      <td>1.000000</td>\n",
       "      <td>...</td>\n",
       "      <td>1.000000</td>\n",
       "      <td>1.000000</td>\n",
       "      <td>1.000000</td>\n",
       "      <td>1.000000</td>\n",
       "      <td>1.000000</td>\n",
       "      <td>1.000000</td>\n",
       "      <td>1.000000</td>\n",
       "      <td>1.000000</td>\n",
       "      <td>1.000000</td>\n",
       "      <td>1.00000</td>\n",
       "    </tr>\n",
       "  </tbody>\n",
       "</table>\n",
       "<p>8 rows × 182 columns</p>\n",
       "</div>"
      ],
      "text/plain": [
       "                 ID          goal       pledged        backers  \\\n",
       "count  3.786610e+05  3.786610e+05  3.786610e+05  378661.000000   \n",
       "mean   1.074731e+09  4.908079e+04  9.682979e+03     105.617476   \n",
       "std    6.190862e+08  1.183391e+06  9.563601e+04     907.185035   \n",
       "min    5.971000e+03  1.000000e-02  0.000000e+00       0.000000   \n",
       "25%    5.382635e+08  2.000000e+03  3.000000e+01       2.000000   \n",
       "50%    1.075276e+09  5.200000e+03  6.200000e+02      12.000000   \n",
       "75%    1.610149e+09  1.600000e+04  4.076000e+03      56.000000   \n",
       "max    2.147476e+09  1.000000e+08  2.033899e+07  219382.000000   \n",
       "\n",
       "       usd_pledged_real  usd_goal_real        datenum      state_num  \\\n",
       "count      3.786610e+05   3.786610e+05  378661.000000  378661.000000   \n",
       "mean       9.058924e+03   4.545440e+04      34.481095       0.353762   \n",
       "std        9.097334e+04   1.152950e+06      65.909173       0.478137   \n",
       "min        0.000000e+00   1.000000e-02       1.000000       0.000000   \n",
       "25%        3.100000e+01   2.000000e+03      30.000000       0.000000   \n",
       "50%        6.243300e+02   5.500000e+03      30.000000       0.000000   \n",
       "75%        4.050000e+03   1.550000e+04      37.000000       1.000000   \n",
       "max        2.033899e+07   1.663614e+08   16739.000000       1.000000   \n",
       "\n",
       "       category_3D Printing  category_Academic          ...            \\\n",
       "count         378661.000000      378661.000000          ...             \n",
       "mean               0.001804           0.002419          ...             \n",
       "std                0.042432           0.049124          ...             \n",
       "min                0.000000           0.000000          ...             \n",
       "25%                0.000000           0.000000          ...             \n",
       "50%                0.000000           0.000000          ...             \n",
       "75%                0.000000           0.000000          ...             \n",
       "max                1.000000           1.000000          ...             \n",
       "\n",
       "       main_category_Fashion  main_category_Film & Video  main_category_Food  \\\n",
       "count          378661.000000               378661.000000       378661.000000   \n",
       "mean                0.060254                    0.167921            0.064971   \n",
       "std                 0.237958                    0.373796            0.246475   \n",
       "min                 0.000000                    0.000000            0.000000   \n",
       "25%                 0.000000                    0.000000            0.000000   \n",
       "50%                 0.000000                    0.000000            0.000000   \n",
       "75%                 0.000000                    0.000000            0.000000   \n",
       "max                 1.000000                    1.000000            1.000000   \n",
       "\n",
       "       main_category_Games  main_category_Journalism  main_category_Music  \\\n",
       "count        378661.000000             378661.000000        378661.000000   \n",
       "mean              0.093041                  0.012557             0.137109   \n",
       "std               0.290490                  0.111354             0.343963   \n",
       "min               0.000000                  0.000000             0.000000   \n",
       "25%               0.000000                  0.000000             0.000000   \n",
       "50%               0.000000                  0.000000             0.000000   \n",
       "75%               0.000000                  0.000000             0.000000   \n",
       "max               1.000000                  1.000000             1.000000   \n",
       "\n",
       "       main_category_Photography  main_category_Publishing  \\\n",
       "count              378661.000000             378661.000000   \n",
       "mean                    0.028466                  0.105303   \n",
       "std                     0.166300                  0.306943   \n",
       "min                     0.000000                  0.000000   \n",
       "25%                     0.000000                  0.000000   \n",
       "50%                     0.000000                  0.000000   \n",
       "75%                     0.000000                  0.000000   \n",
       "max                     1.000000                  1.000000   \n",
       "\n",
       "       main_category_Technology  main_category_Theater  \n",
       "count             378661.000000           378661.00000  \n",
       "mean                   0.086011                0.02882  \n",
       "std                    0.280381                0.16730  \n",
       "min                    0.000000                0.00000  \n",
       "25%                    0.000000                0.00000  \n",
       "50%                    0.000000                0.00000  \n",
       "75%                    0.000000                0.00000  \n",
       "max                    1.000000                1.00000  \n",
       "\n",
       "[8 rows x 182 columns]"
      ]
     },
     "execution_count": 18,
     "metadata": {},
     "output_type": "execute_result"
    }
   ],
   "source": [
    "df.describe()"
   ]
  },
  {
   "cell_type": "markdown",
   "metadata": {},
   "source": [
    "# STEP.5 説明変数・目的変数の取り出し"
   ]
  },
  {
   "cell_type": "markdown",
   "metadata": {},
   "source": [
    "## STEP5-1.不要説明変数の削除\n",
    "\n",
    "以下説明変数は不要  \n",
    "　- ID：恐らくlaunched毎に新しく振られるので意味がない  \n",
    "　- currency：基礎解析結果、ほとんどUSDなので不要と判断  \n",
    "　- country：基礎解析結果、ほとんどUSAなので不要と判断  \n",
    "　- name：もし仮にネーミングが効くなら言語処理をしなければいけないので、今回はパス  \n",
    "　- deadline：launchedとの日数差を説明変数にしたので不要  \n",
    "　- launched：同↑  \n",
    "　- state：目的変数として前処理したので不要  \n",
    "　- backers：募集した結果集まった人数だと思われるので、予測時点では使えないので削除  \n",
    "　- pledged：募集した結果集まった金額だと思われるので、予測時点では使えないので削除  \n",
    "  - usd_pledged_real：募集した結果集まった金額だと思われるので、予測時点では使えないので削除  \n",
    "　- usd pledged：usd_pledged_realにより正確な値が入っていると思われるので削除  "
   ]
  },
  {
   "cell_type": "code",
   "execution_count": 19,
   "metadata": {},
   "outputs": [],
   "source": [
    "# 不要な説明変数の設定\n",
    "drop_col = ['ID', 'currency', 'country', 'name','deadline','launched','state','backers','pledged','usd pledged', 'usd_pledged_real']"
   ]
  },
  {
   "cell_type": "code",
   "execution_count": 20,
   "metadata": {},
   "outputs": [
    {
     "data": {
      "text/html": [
       "<div>\n",
       "<style scoped>\n",
       "    .dataframe tbody tr th:only-of-type {\n",
       "        vertical-align: middle;\n",
       "    }\n",
       "\n",
       "    .dataframe tbody tr th {\n",
       "        vertical-align: top;\n",
       "    }\n",
       "\n",
       "    .dataframe thead th {\n",
       "        text-align: right;\n",
       "    }\n",
       "</style>\n",
       "<table border=\"1\" class=\"dataframe\">\n",
       "  <thead>\n",
       "    <tr style=\"text-align: right;\">\n",
       "      <th></th>\n",
       "      <th>goal</th>\n",
       "      <th>usd_goal_real</th>\n",
       "      <th>datenum</th>\n",
       "      <th>state_num</th>\n",
       "      <th>category_3D Printing</th>\n",
       "      <th>category_Academic</th>\n",
       "      <th>category_Accessories</th>\n",
       "      <th>category_Action</th>\n",
       "      <th>category_Animals</th>\n",
       "      <th>category_Animation</th>\n",
       "      <th>...</th>\n",
       "      <th>main_category_Fashion</th>\n",
       "      <th>main_category_Film &amp; Video</th>\n",
       "      <th>main_category_Food</th>\n",
       "      <th>main_category_Games</th>\n",
       "      <th>main_category_Journalism</th>\n",
       "      <th>main_category_Music</th>\n",
       "      <th>main_category_Photography</th>\n",
       "      <th>main_category_Publishing</th>\n",
       "      <th>main_category_Technology</th>\n",
       "      <th>main_category_Theater</th>\n",
       "    </tr>\n",
       "  </thead>\n",
       "  <tbody>\n",
       "    <tr>\n",
       "      <th>0</th>\n",
       "      <td>1000.0</td>\n",
       "      <td>1533.95</td>\n",
       "      <td>59.0</td>\n",
       "      <td>0.0</td>\n",
       "      <td>0</td>\n",
       "      <td>0</td>\n",
       "      <td>0</td>\n",
       "      <td>0</td>\n",
       "      <td>0</td>\n",
       "      <td>0</td>\n",
       "      <td>...</td>\n",
       "      <td>0</td>\n",
       "      <td>0</td>\n",
       "      <td>0</td>\n",
       "      <td>0</td>\n",
       "      <td>0</td>\n",
       "      <td>0</td>\n",
       "      <td>0</td>\n",
       "      <td>1</td>\n",
       "      <td>0</td>\n",
       "      <td>0</td>\n",
       "    </tr>\n",
       "    <tr>\n",
       "      <th>1</th>\n",
       "      <td>30000.0</td>\n",
       "      <td>30000.00</td>\n",
       "      <td>60.0</td>\n",
       "      <td>0.0</td>\n",
       "      <td>0</td>\n",
       "      <td>0</td>\n",
       "      <td>0</td>\n",
       "      <td>0</td>\n",
       "      <td>0</td>\n",
       "      <td>0</td>\n",
       "      <td>...</td>\n",
       "      <td>0</td>\n",
       "      <td>1</td>\n",
       "      <td>0</td>\n",
       "      <td>0</td>\n",
       "      <td>0</td>\n",
       "      <td>0</td>\n",
       "      <td>0</td>\n",
       "      <td>0</td>\n",
       "      <td>0</td>\n",
       "      <td>0</td>\n",
       "    </tr>\n",
       "    <tr>\n",
       "      <th>2</th>\n",
       "      <td>45000.0</td>\n",
       "      <td>45000.00</td>\n",
       "      <td>45.0</td>\n",
       "      <td>0.0</td>\n",
       "      <td>0</td>\n",
       "      <td>0</td>\n",
       "      <td>0</td>\n",
       "      <td>0</td>\n",
       "      <td>0</td>\n",
       "      <td>0</td>\n",
       "      <td>...</td>\n",
       "      <td>0</td>\n",
       "      <td>1</td>\n",
       "      <td>0</td>\n",
       "      <td>0</td>\n",
       "      <td>0</td>\n",
       "      <td>0</td>\n",
       "      <td>0</td>\n",
       "      <td>0</td>\n",
       "      <td>0</td>\n",
       "      <td>0</td>\n",
       "    </tr>\n",
       "  </tbody>\n",
       "</table>\n",
       "<p>3 rows × 178 columns</p>\n",
       "</div>"
      ],
      "text/plain": [
       "      goal  usd_goal_real  datenum  state_num  category_3D Printing  \\\n",
       "0   1000.0        1533.95     59.0        0.0                     0   \n",
       "1  30000.0       30000.00     60.0        0.0                     0   \n",
       "2  45000.0       45000.00     45.0        0.0                     0   \n",
       "\n",
       "   category_Academic  category_Accessories  category_Action  category_Animals  \\\n",
       "0                  0                     0                0                 0   \n",
       "1                  0                     0                0                 0   \n",
       "2                  0                     0                0                 0   \n",
       "\n",
       "   category_Animation          ...            main_category_Fashion  \\\n",
       "0                   0          ...                                0   \n",
       "1                   0          ...                                0   \n",
       "2                   0          ...                                0   \n",
       "\n",
       "   main_category_Film & Video  main_category_Food  main_category_Games  \\\n",
       "0                           0                   0                    0   \n",
       "1                           1                   0                    0   \n",
       "2                           1                   0                    0   \n",
       "\n",
       "   main_category_Journalism  main_category_Music  main_category_Photography  \\\n",
       "0                         0                    0                          0   \n",
       "1                         0                    0                          0   \n",
       "2                         0                    0                          0   \n",
       "\n",
       "   main_category_Publishing  main_category_Technology  main_category_Theater  \n",
       "0                         1                         0                      0  \n",
       "1                         0                         0                      0  \n",
       "2                         0                         0                      0  \n",
       "\n",
       "[3 rows x 178 columns]"
      ]
     },
     "execution_count": 20,
     "metadata": {},
     "output_type": "execute_result"
    }
   ],
   "source": [
    "# 不要列の削除\n",
    "df=df.drop(drop_col, axis=1)\n",
    "df.head(3)"
   ]
  },
  {
   "cell_type": "markdown",
   "metadata": {},
   "source": [
    "## STEP5-2.説明変数間の相関を確認"
   ]
  },
  {
   "cell_type": "code",
   "execution_count": 21,
   "metadata": {},
   "outputs": [
    {
     "data": {
      "image/png": "[encoded data removed]",
      "text/plain": [
       "<Figure size 720x720 with 4 Axes>"
      ]
     },
     "metadata": {
      "needs_background": "light"
     },
     "output_type": "display_data"
    }
   ],
   "source": [
    "df_wk = df.loc[:,['goal', 'datenum']]\n",
    "pd.plotting.scatter_matrix(df_wk, figsize=(10,10))\n",
    "plt.show()"
   ]
  },
  {
   "cell_type": "code",
   "execution_count": 22,
   "metadata": {},
   "outputs": [
    {
     "data": {
      "image/png": "[encoded data removed]",
      "text/plain": [
       "<Figure size 432x288 with 2 Axes>"
      ]
     },
     "metadata": {
      "needs_background": "light"
     },
     "output_type": "display_data"
    }
   ],
   "source": [
    "# 相関係数をヒートマップにして可視化\n",
    "sns.heatmap(df_wk.corr())\n",
    "plt.show()\n",
    "\n",
    "# メモリ食うので削除\n",
    "del df_wk"
   ]
  },
  {
   "cell_type": "markdown",
   "metadata": {},
   "source": [
    "恐らく相関が強すぎる説明変数はなくなったのでOK  \n",
    "いったん使用する説明変数はここで確定させる"
   ]
  },
  {
   "cell_type": "markdown",
   "metadata": {},
   "source": [
    "# STEP.6 外れ値処理"
   ]
  },
  {
   "cell_type": "markdown",
   "metadata": {},
   "source": [
    "## STEP6-1.箱ひげ図でデータの分布を確認する"
   ]
  },
  {
   "cell_type": "code",
   "execution_count": 23,
   "metadata": {},
   "outputs": [
    {
     "data": {
      "text/plain": [
       "goal          AxesSubplot(0.125,0.125;0.352273x0.755)\n",
       "datenum    AxesSubplot(0.547727,0.125;0.352273x0.755)\n",
       "dtype: object"
      ]
     },
     "execution_count": 23,
     "metadata": {},
     "output_type": "execute_result"
    },
    {
     "data": {
      "image/png": "[encoded data removed]",
      "text/plain": [
       "<Figure size 432x288 with 2 Axes>"
      ]
     },
     "metadata": {
      "needs_background": "light"
     },
     "output_type": "display_data"
    }
   ],
   "source": [
    "# いったん箱ひげ図で確認\n",
    "df_wk = df.loc[:,['goal', 'datenum']]\n",
    "df_wk.plot(kind='box', subplots=True, sharex=True)"
   ]
  },
  {
   "cell_type": "markdown",
   "metadata": {},
   "source": [
    "明らかに外れ値があることが見て取れるので削除しにかかる  \n",
    "念のため、統計量も確認しておく"
   ]
  },
  {
   "cell_type": "code",
   "execution_count": 24,
   "metadata": {},
   "outputs": [
    {
     "data": {
      "text/html": [
       "<div>\n",
       "<style scoped>\n",
       "    .dataframe tbody tr th:only-of-type {\n",
       "        vertical-align: middle;\n",
       "    }\n",
       "\n",
       "    .dataframe tbody tr th {\n",
       "        vertical-align: top;\n",
       "    }\n",
       "\n",
       "    .dataframe thead th {\n",
       "        text-align: right;\n",
       "    }\n",
       "</style>\n",
       "<table border=\"1\" class=\"dataframe\">\n",
       "  <thead>\n",
       "    <tr style=\"text-align: right;\">\n",
       "      <th></th>\n",
       "      <th>goal</th>\n",
       "      <th>datenum</th>\n",
       "    </tr>\n",
       "  </thead>\n",
       "  <tbody>\n",
       "    <tr>\n",
       "      <th>count</th>\n",
       "      <td>3.786610e+05</td>\n",
       "      <td>378661.000000</td>\n",
       "    </tr>\n",
       "    <tr>\n",
       "      <th>mean</th>\n",
       "      <td>4.908079e+04</td>\n",
       "      <td>34.481095</td>\n",
       "    </tr>\n",
       "    <tr>\n",
       "      <th>std</th>\n",
       "      <td>1.183391e+06</td>\n",
       "      <td>65.909173</td>\n",
       "    </tr>\n",
       "    <tr>\n",
       "      <th>min</th>\n",
       "      <td>1.000000e-02</td>\n",
       "      <td>1.000000</td>\n",
       "    </tr>\n",
       "    <tr>\n",
       "      <th>25%</th>\n",
       "      <td>2.000000e+03</td>\n",
       "      <td>30.000000</td>\n",
       "    </tr>\n",
       "    <tr>\n",
       "      <th>50%</th>\n",
       "      <td>5.200000e+03</td>\n",
       "      <td>30.000000</td>\n",
       "    </tr>\n",
       "    <tr>\n",
       "      <th>75%</th>\n",
       "      <td>1.600000e+04</td>\n",
       "      <td>37.000000</td>\n",
       "    </tr>\n",
       "    <tr>\n",
       "      <th>max</th>\n",
       "      <td>1.000000e+08</td>\n",
       "      <td>16739.000000</td>\n",
       "    </tr>\n",
       "  </tbody>\n",
       "</table>\n",
       "</div>"
      ],
      "text/plain": [
       "               goal        datenum\n",
       "count  3.786610e+05  378661.000000\n",
       "mean   4.908079e+04      34.481095\n",
       "std    1.183391e+06      65.909173\n",
       "min    1.000000e-02       1.000000\n",
       "25%    2.000000e+03      30.000000\n",
       "50%    5.200000e+03      30.000000\n",
       "75%    1.600000e+04      37.000000\n",
       "max    1.000000e+08   16739.000000"
      ]
     },
     "execution_count": 24,
     "metadata": {},
     "output_type": "execute_result"
    }
   ],
   "source": [
    "# 統計量を再確認する\n",
    "df_wk.describe()"
   ]
  },
  {
   "cell_type": "markdown",
   "metadata": {},
   "source": [
    "## STEP6-2.外れ値の削除処理\n",
    "\n",
    "3σより外の値は外れ値とみなして削除する"
   ]
  },
  {
   "cell_type": "code",
   "execution_count": 25,
   "metadata": {},
   "outputs": [],
   "source": [
    "# 3σで削除する関数定義\n",
    "def sigma3(df, col):\n",
    "    mean = df[col].mean()\n",
    "    sigma = df[col].std()\n",
    "    low = mean - 3 * sigma\n",
    "    high = mean + 3 * sigma\n",
    "    df = df[(df[col]>low) & (df[col]<high)]\n",
    "    sns.distplot(df[col])\n",
    "    return df"
   ]
  },
  {
   "cell_type": "markdown",
   "metadata": {},
   "source": [
    "### datenum"
   ]
  },
  {
   "cell_type": "code",
   "execution_count": 26,
   "metadata": {},
   "outputs": [
    {
     "data": {
      "text/plain": [
       "<matplotlib.axes._subplots.AxesSubplot at 0x7fccb6d90588>"
      ]
     },
     "execution_count": 26,
     "metadata": {},
     "output_type": "execute_result"
    },
    {
     "data": {
      "image/png": "[encoded data removed]",
      "text/plain": [
       "<Figure size 432x288 with 1 Axes>"
      ]
     },
     "metadata": {
      "needs_background": "light"
     },
     "output_type": "display_data"
    }
   ],
   "source": [
    "col = 'datenum'\n",
    "# 現状の散布図確認\n",
    "sns.distplot(df[col])"
   ]
  },
  {
   "cell_type": "code",
   "execution_count": 27,
   "metadata": {},
   "outputs": [
    {
     "data": {
      "text/plain": [
       "count    378661.000000\n",
       "mean         34.481095\n",
       "std          65.909173\n",
       "min           1.000000\n",
       "25%          30.000000\n",
       "50%          30.000000\n",
       "75%          37.000000\n",
       "max       16739.000000\n",
       "Name: datenum, dtype: float64"
      ]
     },
     "execution_count": 27,
     "metadata": {},
     "output_type": "execute_result"
    }
   ],
   "source": [
    "df[col].describe()"
   ]
  },
  {
   "cell_type": "markdown",
   "metadata": {},
   "source": [
    "↑MAX値が16739日のデータがあるので明らか外れ値"
   ]
  },
  {
   "cell_type": "code",
   "execution_count": 28,
   "metadata": {},
   "outputs": [
    {
     "data": {
      "image/png": "[encoded data removed]",
      "text/plain": [
       "<Figure size 432x288 with 1 Axes>"
      ]
     },
     "metadata": {
      "needs_background": "light"
     },
     "output_type": "display_data"
    }
   ],
   "source": [
    "# 3σより外の値を消す\n",
    "df = sigma3(df, col)"
   ]
  },
  {
   "cell_type": "code",
   "execution_count": 29,
   "metadata": {},
   "outputs": [
    {
     "data": {
      "text/plain": [
       "count    378654.000000\n",
       "mean         34.203394\n",
       "std          12.793171\n",
       "min           1.000000\n",
       "25%          30.000000\n",
       "50%          30.000000\n",
       "75%          37.000000\n",
       "max          92.000000\n",
       "Name: datenum, dtype: float64"
      ]
     },
     "execution_count": 29,
     "metadata": {},
     "output_type": "execute_result"
    }
   ],
   "source": [
    "df[col].describe()"
   ]
  },
  {
   "cell_type": "markdown",
   "metadata": {},
   "source": [
    "おさまったっぽいのでいったんこれでヨシとする"
   ]
  },
  {
   "cell_type": "markdown",
   "metadata": {},
   "source": [
    "### goal"
   ]
  },
  {
   "cell_type": "code",
   "execution_count": 30,
   "metadata": {},
   "outputs": [
    {
     "data": {
      "text/plain": [
       "<matplotlib.axes._subplots.AxesSubplot at 0x7fccb6b65f98>"
      ]
     },
     "execution_count": 30,
     "metadata": {},
     "output_type": "execute_result"
    },
    {
     "data": {
      "image/png": "[encoded data removed]",
      "text/plain": [
       "<Figure size 432x288 with 1 Axes>"
      ]
     },
     "metadata": {
      "needs_background": "light"
     },
     "output_type": "display_data"
    }
   ],
   "source": [
    "col = 'goal'\n",
    "\n",
    "# 現状の散布図確認\n",
    "sns.distplot(df[col])"
   ]
  },
  {
   "cell_type": "code",
   "execution_count": 31,
   "metadata": {},
   "outputs": [
    {
     "data": {
      "text/plain": [
       "count       378654.000000\n",
       "mean         49081.600876\n",
       "std        1183402.182306\n",
       "min              0.010000\n",
       "25%           2000.000000\n",
       "50%           5200.000000\n",
       "75%          16000.000000\n",
       "max      100000000.000000\n",
       "Name: goal, dtype: object"
      ]
     },
     "execution_count": 31,
     "metadata": {},
     "output_type": "execute_result"
    }
   ],
   "source": [
    "df[col].describe().apply(lambda x: format(x, 'f'))"
   ]
  },
  {
   "cell_type": "markdown",
   "metadata": {},
   "source": [
    "↑MAX値が100000000.000000のデータがあるので明らか外れ値"
   ]
  },
  {
   "cell_type": "code",
   "execution_count": 32,
   "metadata": {},
   "outputs": [
    {
     "data": {
      "image/png": "[encoded data removed]",
      "text/plain": [
       "<Figure size 432x288 with 1 Axes>"
      ]
     },
     "metadata": {
      "needs_background": "light"
     },
     "output_type": "display_data"
    }
   ],
   "source": [
    "# 3σより外の値を消す\n",
    "df = sigma3(df, col)"
   ]
  },
  {
   "cell_type": "code",
   "execution_count": 33,
   "metadata": {},
   "outputs": [
    {
     "data": {
      "text/plain": [
       "count     378249.000000\n",
       "mean       25619.495415\n",
       "std       111742.421127\n",
       "min            0.010000\n",
       "25%         2000.000000\n",
       "50%         5100.000000\n",
       "75%        16000.000000\n",
       "max      3500000.000000\n",
       "Name: goal, dtype: object"
      ]
     },
     "execution_count": 33,
     "metadata": {},
     "output_type": "execute_result"
    }
   ],
   "source": [
    "df[col].describe().apply(lambda x: format(x, 'f'))"
   ]
  },
  {
   "cell_type": "markdown",
   "metadata": {},
   "source": [
    "まだ外れ値っぽいのでもう一回やる"
   ]
  },
  {
   "cell_type": "code",
   "execution_count": 34,
   "metadata": {},
   "outputs": [
    {
     "data": {
      "image/png": "[encoded data removed]",
      "text/plain": [
       "<Figure size 432x288 with 1 Axes>"
      ]
     },
     "metadata": {
      "needs_background": "light"
     },
     "output_type": "display_data"
    }
   ],
   "source": [
    "df = sigma3(df, col)"
   ]
  },
  {
   "cell_type": "code",
   "execution_count": 35,
   "metadata": {},
   "outputs": [
    {
     "data": {
      "text/plain": [
       "count    374678.000000\n",
       "mean      17231.733562\n",
       "std       35237.054407\n",
       "min           0.010000\n",
       "25%        2000.000000\n",
       "50%        5000.000000\n",
       "75%       15000.000000\n",
       "max      360360.000000\n",
       "Name: goal, dtype: object"
      ]
     },
     "execution_count": 35,
     "metadata": {},
     "output_type": "execute_result"
    }
   ],
   "source": [
    "df[col].describe().apply(lambda x: format(x, 'f'))"
   ]
  },
  {
   "cell_type": "markdown",
   "metadata": {},
   "source": [
    "おさまったっぽいのでいったんこれでヨシとする"
   ]
  },
  {
   "cell_type": "markdown",
   "metadata": {},
   "source": [
    "## STEP6-3.再度、箱ひげ図でデータの分布を確認する"
   ]
  },
  {
   "cell_type": "code",
   "execution_count": 36,
   "metadata": {},
   "outputs": [
    {
     "data": {
      "text/plain": [
       "goal          AxesSubplot(0.125,0.125;0.352273x0.755)\n",
       "datenum    AxesSubplot(0.547727,0.125;0.352273x0.755)\n",
       "dtype: object"
      ]
     },
     "execution_count": 36,
     "metadata": {},
     "output_type": "execute_result"
    },
    {
     "data": {
      "image/png": "[encoded data removed]",
      "text/plain": [
       "<Figure size 432x288 with 2 Axes>"
      ]
     },
     "metadata": {
      "needs_background": "light"
     },
     "output_type": "display_data"
    }
   ],
   "source": [
    "# いったん箱ひげ図で確認\n",
    "df_wk = df.loc[:,['goal', 'datenum']]\n",
    "df_wk.plot(kind='box', subplots=True, sharex=True)"
   ]
  },
  {
   "cell_type": "markdown",
   "metadata": {},
   "source": [
    "まぁそれなりっぽくなったので、これでOK？"
   ]
  },
  {
   "cell_type": "markdown",
   "metadata": {},
   "source": [
    "## STEP6-4.データ件数がどの程度減ったか確認する"
   ]
  },
  {
   "cell_type": "code",
   "execution_count": 37,
   "metadata": {},
   "outputs": [
    {
     "data": {
      "text/plain": [
       "374678"
      ]
     },
     "execution_count": 37,
     "metadata": {},
     "output_type": "execute_result"
    }
   ],
   "source": [
    "len(df)"
   ]
  },
  {
   "cell_type": "markdown",
   "metadata": {},
   "source": [
    "件数 378661→374678  \n",
    "3,983件減少しているが、370,000件あれば学習には使えると思うので、これでヨシ"
   ]
  },
  {
   "cell_type": "markdown",
   "metadata": {},
   "source": [
    "## STEP6-5.説明変数と目的変数のデータを用意する"
   ]
  },
  {
   "cell_type": "code",
   "execution_count": 38,
   "metadata": {},
   "outputs": [],
   "source": [
    "y = df['state_num'].values\n",
    "X = df[df.columns[df.columns != 'state_num']]"
   ]
  },
  {
   "cell_type": "code",
   "execution_count": 39,
   "metadata": {},
   "outputs": [
    {
     "data": {
      "text/html": [
       "<div>\n",
       "<style scoped>\n",
       "    .dataframe tbody tr th:only-of-type {\n",
       "        vertical-align: middle;\n",
       "    }\n",
       "\n",
       "    .dataframe tbody tr th {\n",
       "        vertical-align: top;\n",
       "    }\n",
       "\n",
       "    .dataframe thead th {\n",
       "        text-align: right;\n",
       "    }\n",
       "</style>\n",
       "<table border=\"1\" class=\"dataframe\">\n",
       "  <thead>\n",
       "    <tr style=\"text-align: right;\">\n",
       "      <th></th>\n",
       "      <th>goal</th>\n",
       "      <th>usd_goal_real</th>\n",
       "      <th>datenum</th>\n",
       "      <th>state_num</th>\n",
       "      <th>category_3D Printing</th>\n",
       "      <th>category_Academic</th>\n",
       "      <th>category_Accessories</th>\n",
       "      <th>category_Action</th>\n",
       "      <th>category_Animals</th>\n",
       "      <th>category_Animation</th>\n",
       "      <th>...</th>\n",
       "      <th>main_category_Fashion</th>\n",
       "      <th>main_category_Film &amp; Video</th>\n",
       "      <th>main_category_Food</th>\n",
       "      <th>main_category_Games</th>\n",
       "      <th>main_category_Journalism</th>\n",
       "      <th>main_category_Music</th>\n",
       "      <th>main_category_Photography</th>\n",
       "      <th>main_category_Publishing</th>\n",
       "      <th>main_category_Technology</th>\n",
       "      <th>main_category_Theater</th>\n",
       "    </tr>\n",
       "  </thead>\n",
       "  <tbody>\n",
       "    <tr>\n",
       "      <th>count</th>\n",
       "      <td>374678.000000</td>\n",
       "      <td>374678.000000</td>\n",
       "      <td>374678.000000</td>\n",
       "      <td>374678.000000</td>\n",
       "      <td>374678.000000</td>\n",
       "      <td>374678.000000</td>\n",
       "      <td>374678.000000</td>\n",
       "      <td>374678.000000</td>\n",
       "      <td>374678.000000</td>\n",
       "      <td>374678.000000</td>\n",
       "      <td>...</td>\n",
       "      <td>374678.000000</td>\n",
       "      <td>374678.000000</td>\n",
       "      <td>374678.000000</td>\n",
       "      <td>374678.000000</td>\n",
       "      <td>374678.000000</td>\n",
       "      <td>374678.000000</td>\n",
       "      <td>374678.000000</td>\n",
       "      <td>374678.000000</td>\n",
       "      <td>374678.000000</td>\n",
       "      <td>374678.000000</td>\n",
       "    </tr>\n",
       "    <tr>\n",
       "      <th>mean</th>\n",
       "      <td>17231.733562</td>\n",
       "      <td>16688.087877</td>\n",
       "      <td>34.134118</td>\n",
       "      <td>0.357168</td>\n",
       "      <td>0.001794</td>\n",
       "      <td>0.002418</td>\n",
       "      <td>0.008421</td>\n",
       "      <td>0.001828</td>\n",
       "      <td>0.000681</td>\n",
       "      <td>0.006651</td>\n",
       "      <td>...</td>\n",
       "      <td>0.060649</td>\n",
       "      <td>0.166941</td>\n",
       "      <td>0.064736</td>\n",
       "      <td>0.092551</td>\n",
       "      <td>0.012555</td>\n",
       "      <td>0.138121</td>\n",
       "      <td>0.028705</td>\n",
       "      <td>0.106131</td>\n",
       "      <td>0.084275</td>\n",
       "      <td>0.028940</td>\n",
       "    </tr>\n",
       "    <tr>\n",
       "      <th>std</th>\n",
       "      <td>35237.054407</td>\n",
       "      <td>34432.991052</td>\n",
       "      <td>12.756912</td>\n",
       "      <td>0.479166</td>\n",
       "      <td>0.042312</td>\n",
       "      <td>0.049115</td>\n",
       "      <td>0.091377</td>\n",
       "      <td>0.042719</td>\n",
       "      <td>0.026079</td>\n",
       "      <td>0.081282</td>\n",
       "      <td>...</td>\n",
       "      <td>0.238686</td>\n",
       "      <td>0.372923</td>\n",
       "      <td>0.246059</td>\n",
       "      <td>0.289803</td>\n",
       "      <td>0.111343</td>\n",
       "      <td>0.345028</td>\n",
       "      <td>0.166975</td>\n",
       "      <td>0.308006</td>\n",
       "      <td>0.277800</td>\n",
       "      <td>0.167637</td>\n",
       "    </tr>\n",
       "    <tr>\n",
       "      <th>min</th>\n",
       "      <td>0.010000</td>\n",
       "      <td>0.010000</td>\n",
       "      <td>1.000000</td>\n",
       "      <td>0.000000</td>\n",
       "      <td>0.000000</td>\n",
       "      <td>0.000000</td>\n",
       "      <td>0.000000</td>\n",
       "      <td>0.000000</td>\n",
       "      <td>0.000000</td>\n",
       "      <td>0.000000</td>\n",
       "      <td>...</td>\n",
       "      <td>0.000000</td>\n",
       "      <td>0.000000</td>\n",
       "      <td>0.000000</td>\n",
       "      <td>0.000000</td>\n",
       "      <td>0.000000</td>\n",
       "      <td>0.000000</td>\n",
       "      <td>0.000000</td>\n",
       "      <td>0.000000</td>\n",
       "      <td>0.000000</td>\n",
       "      <td>0.000000</td>\n",
       "    </tr>\n",
       "    <tr>\n",
       "      <th>25%</th>\n",
       "      <td>2000.000000</td>\n",
       "      <td>2000.000000</td>\n",
       "      <td>30.000000</td>\n",
       "      <td>0.000000</td>\n",
       "      <td>0.000000</td>\n",
       "      <td>0.000000</td>\n",
       "      <td>0.000000</td>\n",
       "      <td>0.000000</td>\n",
       "      <td>0.000000</td>\n",
       "      <td>0.000000</td>\n",
       "      <td>...</td>\n",
       "      <td>0.000000</td>\n",
       "      <td>0.000000</td>\n",
       "      <td>0.000000</td>\n",
       "      <td>0.000000</td>\n",
       "      <td>0.000000</td>\n",
       "      <td>0.000000</td>\n",
       "      <td>0.000000</td>\n",
       "      <td>0.000000</td>\n",
       "      <td>0.000000</td>\n",
       "      <td>0.000000</td>\n",
       "    </tr>\n",
       "    <tr>\n",
       "      <th>50%</th>\n",
       "      <td>5000.000000</td>\n",
       "      <td>5139.010000</td>\n",
       "      <td>30.000000</td>\n",
       "      <td>0.000000</td>\n",
       "      <td>0.000000</td>\n",
       "      <td>0.000000</td>\n",
       "      <td>0.000000</td>\n",
       "      <td>0.000000</td>\n",
       "      <td>0.000000</td>\n",
       "      <td>0.000000</td>\n",
       "      <td>...</td>\n",
       "      <td>0.000000</td>\n",
       "      <td>0.000000</td>\n",
       "      <td>0.000000</td>\n",
       "      <td>0.000000</td>\n",
       "      <td>0.000000</td>\n",
       "      <td>0.000000</td>\n",
       "      <td>0.000000</td>\n",
       "      <td>0.000000</td>\n",
       "      <td>0.000000</td>\n",
       "      <td>0.000000</td>\n",
       "    </tr>\n",
       "    <tr>\n",
       "      <th>75%</th>\n",
       "      <td>15000.000000</td>\n",
       "      <td>15000.000000</td>\n",
       "      <td>37.000000</td>\n",
       "      <td>1.000000</td>\n",
       "      <td>0.000000</td>\n",
       "      <td>0.000000</td>\n",
       "      <td>0.000000</td>\n",
       "      <td>0.000000</td>\n",
       "      <td>0.000000</td>\n",
       "      <td>0.000000</td>\n",
       "      <td>...</td>\n",
       "      <td>0.000000</td>\n",
       "      <td>0.000000</td>\n",
       "      <td>0.000000</td>\n",
       "      <td>0.000000</td>\n",
       "      <td>0.000000</td>\n",
       "      <td>0.000000</td>\n",
       "      <td>0.000000</td>\n",
       "      <td>0.000000</td>\n",
       "      <td>0.000000</td>\n",
       "      <td>0.000000</td>\n",
       "    </tr>\n",
       "    <tr>\n",
       "      <th>max</th>\n",
       "      <td>360360.000000</td>\n",
       "      <td>570794.870000</td>\n",
       "      <td>92.000000</td>\n",
       "      <td>1.000000</td>\n",
       "      <td>1.000000</td>\n",
       "      <td>1.000000</td>\n",
       "      <td>1.000000</td>\n",
       "      <td>1.000000</td>\n",
       "      <td>1.000000</td>\n",
       "      <td>1.000000</td>\n",
       "      <td>...</td>\n",
       "      <td>1.000000</td>\n",
       "      <td>1.000000</td>\n",
       "      <td>1.000000</td>\n",
       "      <td>1.000000</td>\n",
       "      <td>1.000000</td>\n",
       "      <td>1.000000</td>\n",
       "      <td>1.000000</td>\n",
       "      <td>1.000000</td>\n",
       "      <td>1.000000</td>\n",
       "      <td>1.000000</td>\n",
       "    </tr>\n",
       "  </tbody>\n",
       "</table>\n",
       "<p>8 rows × 178 columns</p>\n",
       "</div>"
      ],
      "text/plain": [
       "                goal  usd_goal_real        datenum      state_num  \\\n",
       "count  374678.000000  374678.000000  374678.000000  374678.000000   \n",
       "mean    17231.733562   16688.087877      34.134118       0.357168   \n",
       "std     35237.054407   34432.991052      12.756912       0.479166   \n",
       "min         0.010000       0.010000       1.000000       0.000000   \n",
       "25%      2000.000000    2000.000000      30.000000       0.000000   \n",
       "50%      5000.000000    5139.010000      30.000000       0.000000   \n",
       "75%     15000.000000   15000.000000      37.000000       1.000000   \n",
       "max    360360.000000  570794.870000      92.000000       1.000000   \n",
       "\n",
       "       category_3D Printing  category_Academic  category_Accessories  \\\n",
       "count         374678.000000      374678.000000         374678.000000   \n",
       "mean               0.001794           0.002418              0.008421   \n",
       "std                0.042312           0.049115              0.091377   \n",
       "min                0.000000           0.000000              0.000000   \n",
       "25%                0.000000           0.000000              0.000000   \n",
       "50%                0.000000           0.000000              0.000000   \n",
       "75%                0.000000           0.000000              0.000000   \n",
       "max                1.000000           1.000000              1.000000   \n",
       "\n",
       "       category_Action  category_Animals  category_Animation  \\\n",
       "count    374678.000000     374678.000000       374678.000000   \n",
       "mean          0.001828          0.000681            0.006651   \n",
       "std           0.042719          0.026079            0.081282   \n",
       "min           0.000000          0.000000            0.000000   \n",
       "25%           0.000000          0.000000            0.000000   \n",
       "50%           0.000000          0.000000            0.000000   \n",
       "75%           0.000000          0.000000            0.000000   \n",
       "max           1.000000          1.000000            1.000000   \n",
       "\n",
       "               ...            main_category_Fashion  \\\n",
       "count          ...                    374678.000000   \n",
       "mean           ...                         0.060649   \n",
       "std            ...                         0.238686   \n",
       "min            ...                         0.000000   \n",
       "25%            ...                         0.000000   \n",
       "50%            ...                         0.000000   \n",
       "75%            ...                         0.000000   \n",
       "max            ...                         1.000000   \n",
       "\n",
       "       main_category_Film & Video  main_category_Food  main_category_Games  \\\n",
       "count               374678.000000       374678.000000        374678.000000   \n",
       "mean                     0.166941            0.064736             0.092551   \n",
       "std                      0.372923            0.246059             0.289803   \n",
       "min                      0.000000            0.000000             0.000000   \n",
       "25%                      0.000000            0.000000             0.000000   \n",
       "50%                      0.000000            0.000000             0.000000   \n",
       "75%                      0.000000            0.000000             0.000000   \n",
       "max                      1.000000            1.000000             1.000000   \n",
       "\n",
       "       main_category_Journalism  main_category_Music  \\\n",
       "count             374678.000000        374678.000000   \n",
       "mean                   0.012555             0.138121   \n",
       "std                    0.111343             0.345028   \n",
       "min                    0.000000             0.000000   \n",
       "25%                    0.000000             0.000000   \n",
       "50%                    0.000000             0.000000   \n",
       "75%                    0.000000             0.000000   \n",
       "max                    1.000000             1.000000   \n",
       "\n",
       "       main_category_Photography  main_category_Publishing  \\\n",
       "count              374678.000000             374678.000000   \n",
       "mean                    0.028705                  0.106131   \n",
       "std                     0.166975                  0.308006   \n",
       "min                     0.000000                  0.000000   \n",
       "25%                     0.000000                  0.000000   \n",
       "50%                     0.000000                  0.000000   \n",
       "75%                     0.000000                  0.000000   \n",
       "max                     1.000000                  1.000000   \n",
       "\n",
       "       main_category_Technology  main_category_Theater  \n",
       "count             374678.000000          374678.000000  \n",
       "mean                   0.084275               0.028940  \n",
       "std                    0.277800               0.167637  \n",
       "min                    0.000000               0.000000  \n",
       "25%                    0.000000               0.000000  \n",
       "50%                    0.000000               0.000000  \n",
       "75%                    0.000000               0.000000  \n",
       "max                    1.000000               1.000000  \n",
       "\n",
       "[8 rows x 178 columns]"
      ]
     },
     "execution_count": 39,
     "metadata": {},
     "output_type": "execute_result"
    }
   ],
   "source": [
    "df.describe()"
   ]
  },
  {
   "cell_type": "markdown",
   "metadata": {},
   "source": [
    "# STEP.7 機械的説明変数選択"
   ]
  },
  {
   "cell_type": "markdown",
   "metadata": {},
   "source": [
    "## STEP7-1.ステップワイズ法(重くて帰ってこないので中断)"
   ]
  },
  {
   "cell_type": "code",
   "execution_count": 40,
   "metadata": {},
   "outputs": [],
   "source": [
    "#estimator = SGDClassifier(loss='log', penalty='none', max_iter=10000, fit_intercept=True, random_state=1234, tol=1e-3, n_jobs=cpu_cnt)\n",
    "\n",
    "# RFECVは交差検証によってステップワイズ法による特徴選択を行う\n",
    "# cvにはFold（=グループ）の数，scoringには評価指標を指定する\n",
    "# 今回は回帰なのでneg_mean_absolute_errorを評価指標に指定（分類ならaccuracy）\n",
    "#rfecv = RFECV(estimator, cv=10, scoring='accuracy')\n",
    "\n",
    "#rfecv.fit(X, y)"
   ]
  },
  {
   "cell_type": "code",
   "execution_count": 41,
   "metadata": {},
   "outputs": [],
   "source": [
    "# 特徴のランキングを表示（1が最も重要な特徴）\n",
    "#print('Feature ranking: \\n{}'.format(rfecv.ranking_))"
   ]
  },
  {
   "cell_type": "markdown",
   "metadata": {},
   "source": [
    "全部重要！"
   ]
  },
  {
   "cell_type": "markdown",
   "metadata": {},
   "source": [
    "## STEP7-2.埋め込み法"
   ]
  },
  {
   "cell_type": "code",
   "execution_count": 42,
   "metadata": {},
   "outputs": [
    {
     "data": {
      "text/plain": [
       "SelectFromModel(estimator=LassoCV(alphas=None, copy_X=True, cv=10, eps=0.001,\n",
       "                                  fit_intercept=True, max_iter=1000,\n",
       "                                  n_alphas=100, n_jobs=-1, normalize=True,\n",
       "                                  positive=False, precompute='auto',\n",
       "                                  random_state=None, selection='cyclic',\n",
       "                                  tol=0.0001, verbose=False),\n",
       "                max_features=None, norm_order=1, prefit=False, threshold=1e-05)"
      ]
     },
     "execution_count": 42,
     "metadata": {},
     "output_type": "execute_result"
    }
   ],
   "source": [
    "# estimatorにモデルをセット\n",
    "# LassoCVを使って、正則化の強さは自動決定\n",
    "estimator = LassoCV(normalize=True, cv=10, n_jobs=cpu_cnt)\n",
    "\n",
    "# モデルの情報を使って特徴選択を行う場合は、SelectFromModelを使う\n",
    "# 今回は係数が1e-5以下である特徴を削除する\n",
    "# 係数のしきい値はthresholdで指定する\n",
    "sfm = SelectFromModel(estimator, threshold=1e-5)\n",
    "\n",
    "# fitで特徴選択を実行\n",
    "sfm.fit(X, y)"
   ]
  },
  {
   "cell_type": "code",
   "execution_count": 43,
   "metadata": {},
   "outputs": [
    {
     "data": {
      "text/plain": [
       "array([False, False,  True,  True,  True,  True,  True,  True,  True,\n",
       "        True,  True,  True,  True,  True,  True,  True,  True,  True,\n",
       "        True,  True,  True,  True,  True,  True,  True,  True,  True,\n",
       "        True,  True,  True,  True, False,  True,  True,  True,  True,\n",
       "        True,  True,  True,  True, False,  True,  True,  True,  True,\n",
       "        True,  True,  True,  True,  True,  True,  True, False,  True,\n",
       "        True, False,  True,  True,  True,  True,  True,  True,  True,\n",
       "        True,  True,  True,  True,  True, False,  True,  True,  True,\n",
       "        True,  True,  True,  True,  True,  True,  True,  True,  True,\n",
       "        True,  True,  True,  True,  True,  True,  True,  True,  True,\n",
       "        True,  True,  True, False,  True,  True,  True,  True,  True,\n",
       "        True,  True,  True,  True,  True,  True,  True,  True, False,\n",
       "        True,  True,  True,  True,  True,  True,  True,  True,  True,\n",
       "        True,  True,  True,  True,  True,  True,  True,  True,  True,\n",
       "        True,  True,  True,  True,  True,  True,  True,  True,  True,\n",
       "        True,  True,  True,  True,  True,  True,  True,  True,  True,\n",
       "        True,  True,  True,  True,  True,  True,  True,  True,  True,\n",
       "        True,  True,  True,  True, False,  True,  True,  True,  True,\n",
       "        True,  True,  True,  True,  True,  True, False,  True, False,\n",
       "        True,  True,  True,  True,  True,  True])"
      ]
     },
     "execution_count": 43,
     "metadata": {},
     "output_type": "execute_result"
    }
   ],
   "source": [
    "# get_support関数で使用する特徴のインデックスを使用\n",
    "# Trueになっている特徴が使用する特徴\n",
    "sfm.get_support()"
   ]
  },
  {
   "cell_type": "code",
   "execution_count": 44,
   "metadata": {},
   "outputs": [
    {
     "data": {
      "text/html": [
       "<div>\n",
       "<style scoped>\n",
       "    .dataframe tbody tr th:only-of-type {\n",
       "        vertical-align: middle;\n",
       "    }\n",
       "\n",
       "    .dataframe tbody tr th {\n",
       "        vertical-align: top;\n",
       "    }\n",
       "\n",
       "    .dataframe thead th {\n",
       "        text-align: right;\n",
       "    }\n",
       "</style>\n",
       "<table border=\"1\" class=\"dataframe\">\n",
       "  <thead>\n",
       "    <tr style=\"text-align: right;\">\n",
       "      <th></th>\n",
       "      <th>goal</th>\n",
       "      <th>usd_goal_real</th>\n",
       "      <th>datenum</th>\n",
       "      <th>state_num</th>\n",
       "      <th>category_3D Printing</th>\n",
       "      <th>category_Academic</th>\n",
       "      <th>category_Accessories</th>\n",
       "      <th>category_Action</th>\n",
       "      <th>category_Animals</th>\n",
       "      <th>category_Animation</th>\n",
       "      <th>...</th>\n",
       "      <th>main_category_Fashion</th>\n",
       "      <th>main_category_Film &amp; Video</th>\n",
       "      <th>main_category_Food</th>\n",
       "      <th>main_category_Games</th>\n",
       "      <th>main_category_Journalism</th>\n",
       "      <th>main_category_Music</th>\n",
       "      <th>main_category_Photography</th>\n",
       "      <th>main_category_Publishing</th>\n",
       "      <th>main_category_Technology</th>\n",
       "      <th>main_category_Theater</th>\n",
       "    </tr>\n",
       "  </thead>\n",
       "  <tbody>\n",
       "    <tr>\n",
       "      <th>count</th>\n",
       "      <td>374678.000000</td>\n",
       "      <td>374678.000000</td>\n",
       "      <td>374678.000000</td>\n",
       "      <td>374678.000000</td>\n",
       "      <td>374678.000000</td>\n",
       "      <td>374678.000000</td>\n",
       "      <td>374678.000000</td>\n",
       "      <td>374678.000000</td>\n",
       "      <td>374678.000000</td>\n",
       "      <td>374678.000000</td>\n",
       "      <td>...</td>\n",
       "      <td>374678.000000</td>\n",
       "      <td>374678.000000</td>\n",
       "      <td>374678.000000</td>\n",
       "      <td>374678.000000</td>\n",
       "      <td>374678.000000</td>\n",
       "      <td>374678.000000</td>\n",
       "      <td>374678.000000</td>\n",
       "      <td>374678.000000</td>\n",
       "      <td>374678.000000</td>\n",
       "      <td>374678.000000</td>\n",
       "    </tr>\n",
       "    <tr>\n",
       "      <th>mean</th>\n",
       "      <td>17231.733562</td>\n",
       "      <td>16688.087877</td>\n",
       "      <td>34.134118</td>\n",
       "      <td>0.357168</td>\n",
       "      <td>0.001794</td>\n",
       "      <td>0.002418</td>\n",
       "      <td>0.008421</td>\n",
       "      <td>0.001828</td>\n",
       "      <td>0.000681</td>\n",
       "      <td>0.006651</td>\n",
       "      <td>...</td>\n",
       "      <td>0.060649</td>\n",
       "      <td>0.166941</td>\n",
       "      <td>0.064736</td>\n",
       "      <td>0.092551</td>\n",
       "      <td>0.012555</td>\n",
       "      <td>0.138121</td>\n",
       "      <td>0.028705</td>\n",
       "      <td>0.106131</td>\n",
       "      <td>0.084275</td>\n",
       "      <td>0.028940</td>\n",
       "    </tr>\n",
       "    <tr>\n",
       "      <th>std</th>\n",
       "      <td>35237.054407</td>\n",
       "      <td>34432.991052</td>\n",
       "      <td>12.756912</td>\n",
       "      <td>0.479166</td>\n",
       "      <td>0.042312</td>\n",
       "      <td>0.049115</td>\n",
       "      <td>0.091377</td>\n",
       "      <td>0.042719</td>\n",
       "      <td>0.026079</td>\n",
       "      <td>0.081282</td>\n",
       "      <td>...</td>\n",
       "      <td>0.238686</td>\n",
       "      <td>0.372923</td>\n",
       "      <td>0.246059</td>\n",
       "      <td>0.289803</td>\n",
       "      <td>0.111343</td>\n",
       "      <td>0.345028</td>\n",
       "      <td>0.166975</td>\n",
       "      <td>0.308006</td>\n",
       "      <td>0.277800</td>\n",
       "      <td>0.167637</td>\n",
       "    </tr>\n",
       "    <tr>\n",
       "      <th>min</th>\n",
       "      <td>0.010000</td>\n",
       "      <td>0.010000</td>\n",
       "      <td>1.000000</td>\n",
       "      <td>0.000000</td>\n",
       "      <td>0.000000</td>\n",
       "      <td>0.000000</td>\n",
       "      <td>0.000000</td>\n",
       "      <td>0.000000</td>\n",
       "      <td>0.000000</td>\n",
       "      <td>0.000000</td>\n",
       "      <td>...</td>\n",
       "      <td>0.000000</td>\n",
       "      <td>0.000000</td>\n",
       "      <td>0.000000</td>\n",
       "      <td>0.000000</td>\n",
       "      <td>0.000000</td>\n",
       "      <td>0.000000</td>\n",
       "      <td>0.000000</td>\n",
       "      <td>0.000000</td>\n",
       "      <td>0.000000</td>\n",
       "      <td>0.000000</td>\n",
       "    </tr>\n",
       "    <tr>\n",
       "      <th>25%</th>\n",
       "      <td>2000.000000</td>\n",
       "      <td>2000.000000</td>\n",
       "      <td>30.000000</td>\n",
       "      <td>0.000000</td>\n",
       "      <td>0.000000</td>\n",
       "      <td>0.000000</td>\n",
       "      <td>0.000000</td>\n",
       "      <td>0.000000</td>\n",
       "      <td>0.000000</td>\n",
       "      <td>0.000000</td>\n",
       "      <td>...</td>\n",
       "      <td>0.000000</td>\n",
       "      <td>0.000000</td>\n",
       "      <td>0.000000</td>\n",
       "      <td>0.000000</td>\n",
       "      <td>0.000000</td>\n",
       "      <td>0.000000</td>\n",
       "      <td>0.000000</td>\n",
       "      <td>0.000000</td>\n",
       "      <td>0.000000</td>\n",
       "      <td>0.000000</td>\n",
       "    </tr>\n",
       "    <tr>\n",
       "      <th>50%</th>\n",
       "      <td>5000.000000</td>\n",
       "      <td>5139.010000</td>\n",
       "      <td>30.000000</td>\n",
       "      <td>0.000000</td>\n",
       "      <td>0.000000</td>\n",
       "      <td>0.000000</td>\n",
       "      <td>0.000000</td>\n",
       "      <td>0.000000</td>\n",
       "      <td>0.000000</td>\n",
       "      <td>0.000000</td>\n",
       "      <td>...</td>\n",
       "      <td>0.000000</td>\n",
       "      <td>0.000000</td>\n",
       "      <td>0.000000</td>\n",
       "      <td>0.000000</td>\n",
       "      <td>0.000000</td>\n",
       "      <td>0.000000</td>\n",
       "      <td>0.000000</td>\n",
       "      <td>0.000000</td>\n",
       "      <td>0.000000</td>\n",
       "      <td>0.000000</td>\n",
       "    </tr>\n",
       "    <tr>\n",
       "      <th>75%</th>\n",
       "      <td>15000.000000</td>\n",
       "      <td>15000.000000</td>\n",
       "      <td>37.000000</td>\n",
       "      <td>1.000000</td>\n",
       "      <td>0.000000</td>\n",
       "      <td>0.000000</td>\n",
       "      <td>0.000000</td>\n",
       "      <td>0.000000</td>\n",
       "      <td>0.000000</td>\n",
       "      <td>0.000000</td>\n",
       "      <td>...</td>\n",
       "      <td>0.000000</td>\n",
       "      <td>0.000000</td>\n",
       "      <td>0.000000</td>\n",
       "      <td>0.000000</td>\n",
       "      <td>0.000000</td>\n",
       "      <td>0.000000</td>\n",
       "      <td>0.000000</td>\n",
       "      <td>0.000000</td>\n",
       "      <td>0.000000</td>\n",
       "      <td>0.000000</td>\n",
       "    </tr>\n",
       "    <tr>\n",
       "      <th>max</th>\n",
       "      <td>360360.000000</td>\n",
       "      <td>570794.870000</td>\n",
       "      <td>92.000000</td>\n",
       "      <td>1.000000</td>\n",
       "      <td>1.000000</td>\n",
       "      <td>1.000000</td>\n",
       "      <td>1.000000</td>\n",
       "      <td>1.000000</td>\n",
       "      <td>1.000000</td>\n",
       "      <td>1.000000</td>\n",
       "      <td>...</td>\n",
       "      <td>1.000000</td>\n",
       "      <td>1.000000</td>\n",
       "      <td>1.000000</td>\n",
       "      <td>1.000000</td>\n",
       "      <td>1.000000</td>\n",
       "      <td>1.000000</td>\n",
       "      <td>1.000000</td>\n",
       "      <td>1.000000</td>\n",
       "      <td>1.000000</td>\n",
       "      <td>1.000000</td>\n",
       "    </tr>\n",
       "  </tbody>\n",
       "</table>\n",
       "<p>8 rows × 178 columns</p>\n",
       "</div>"
      ],
      "text/plain": [
       "                goal  usd_goal_real        datenum      state_num  \\\n",
       "count  374678.000000  374678.000000  374678.000000  374678.000000   \n",
       "mean    17231.733562   16688.087877      34.134118       0.357168   \n",
       "std     35237.054407   34432.991052      12.756912       0.479166   \n",
       "min         0.010000       0.010000       1.000000       0.000000   \n",
       "25%      2000.000000    2000.000000      30.000000       0.000000   \n",
       "50%      5000.000000    5139.010000      30.000000       0.000000   \n",
       "75%     15000.000000   15000.000000      37.000000       1.000000   \n",
       "max    360360.000000  570794.870000      92.000000       1.000000   \n",
       "\n",
       "       category_3D Printing  category_Academic  category_Accessories  \\\n",
       "count         374678.000000      374678.000000         374678.000000   \n",
       "mean               0.001794           0.002418              0.008421   \n",
       "std                0.042312           0.049115              0.091377   \n",
       "min                0.000000           0.000000              0.000000   \n",
       "25%                0.000000           0.000000              0.000000   \n",
       "50%                0.000000           0.000000              0.000000   \n",
       "75%                0.000000           0.000000              0.000000   \n",
       "max                1.000000           1.000000              1.000000   \n",
       "\n",
       "       category_Action  category_Animals  category_Animation  \\\n",
       "count    374678.000000     374678.000000       374678.000000   \n",
       "mean          0.001828          0.000681            0.006651   \n",
       "std           0.042719          0.026079            0.081282   \n",
       "min           0.000000          0.000000            0.000000   \n",
       "25%           0.000000          0.000000            0.000000   \n",
       "50%           0.000000          0.000000            0.000000   \n",
       "75%           0.000000          0.000000            0.000000   \n",
       "max           1.000000          1.000000            1.000000   \n",
       "\n",
       "               ...            main_category_Fashion  \\\n",
       "count          ...                    374678.000000   \n",
       "mean           ...                         0.060649   \n",
       "std            ...                         0.238686   \n",
       "min            ...                         0.000000   \n",
       "25%            ...                         0.000000   \n",
       "50%            ...                         0.000000   \n",
       "75%            ...                         0.000000   \n",
       "max            ...                         1.000000   \n",
       "\n",
       "       main_category_Film & Video  main_category_Food  main_category_Games  \\\n",
       "count               374678.000000       374678.000000        374678.000000   \n",
       "mean                     0.166941            0.064736             0.092551   \n",
       "std                      0.372923            0.246059             0.289803   \n",
       "min                      0.000000            0.000000             0.000000   \n",
       "25%                      0.000000            0.000000             0.000000   \n",
       "50%                      0.000000            0.000000             0.000000   \n",
       "75%                      0.000000            0.000000             0.000000   \n",
       "max                      1.000000            1.000000             1.000000   \n",
       "\n",
       "       main_category_Journalism  main_category_Music  \\\n",
       "count             374678.000000        374678.000000   \n",
       "mean                   0.012555             0.138121   \n",
       "std                    0.111343             0.345028   \n",
       "min                    0.000000             0.000000   \n",
       "25%                    0.000000             0.000000   \n",
       "50%                    0.000000             0.000000   \n",
       "75%                    0.000000             0.000000   \n",
       "max                    1.000000             1.000000   \n",
       "\n",
       "       main_category_Photography  main_category_Publishing  \\\n",
       "count              374678.000000             374678.000000   \n",
       "mean                    0.028705                  0.106131   \n",
       "std                     0.166975                  0.308006   \n",
       "min                     0.000000                  0.000000   \n",
       "25%                     0.000000                  0.000000   \n",
       "50%                     0.000000                  0.000000   \n",
       "75%                     0.000000                  0.000000   \n",
       "max                     1.000000                  1.000000   \n",
       "\n",
       "       main_category_Technology  main_category_Theater  \n",
       "count             374678.000000          374678.000000  \n",
       "mean                   0.084275               0.028940  \n",
       "std                    0.277800               0.167637  \n",
       "min                    0.000000               0.000000  \n",
       "25%                    0.000000               0.000000  \n",
       "50%                    0.000000               0.000000  \n",
       "75%                    0.000000               0.000000  \n",
       "max                    1.000000               1.000000  \n",
       "\n",
       "[8 rows x 178 columns]"
      ]
     },
     "execution_count": 44,
     "metadata": {},
     "output_type": "execute_result"
    }
   ],
   "source": [
    "df.describe()"
   ]
  },
  {
   "cell_type": "code",
   "execution_count": 45,
   "metadata": {},
   "outputs": [
    {
     "data": {
      "text/plain": [
       "Index(['goal', 'usd_goal_real', 'category_Conceptual Art', 'category_Design',\n",
       "       'category_Fantasy', 'category_Fashion', 'category_Graphic Design',\n",
       "       'category_Music', 'category_Photography', 'category_Woodworking',\n",
       "       'main_category_Film & Video', 'main_category_Games'],\n",
       "      dtype='object')"
      ]
     },
     "execution_count": 45,
     "metadata": {},
     "output_type": "execute_result"
    }
   ],
   "source": [
    "# 削除すべき特徴の名前を取得 \n",
    "removed_idx  = ~sfm.get_support()\n",
    "X.columns[removed_idx]"
   ]
  },
  {
   "cell_type": "markdown",
   "metadata": {},
   "source": [
    "埋め込み法をやってみたものの、さすがにこれだけ消すと全く予測できなくなりそうなので、いったん残す  \n",
    "後で余裕があれば、消してやってみる  "
   ]
  },
  {
   "cell_type": "markdown",
   "metadata": {},
   "source": [
    "# STEP.8 学習用データ準備"
   ]
  },
  {
   "cell_type": "markdown",
   "metadata": {},
   "source": [
    "## STEP8-1.ホールドアウト"
   ]
  },
  {
   "cell_type": "code",
   "execution_count": 46,
   "metadata": {},
   "outputs": [
    {
     "name": "stdout",
     "output_type": "stream",
     "text": [
      "X_train: 299742\n",
      "y_train: 299742\n",
      "X_test: 74936\n",
      "y_test: 74936\n"
     ]
    }
   ],
   "source": [
    "# 全データのうち、何%をテストデータにするか（今回は20%に設定）\n",
    "test_size = 0.2\n",
    "\n",
    "# ホールドアウト法を実行（テストデータはランダム選択）\n",
    "X_train, X_test, y_train, y_test = train_test_split(X, y, test_size=test_size, random_state=1234) \n",
    "\n",
    "# 件数に誤りがないか確認する\n",
    "print('X_train:',len(X_train))\n",
    "print('y_train:',len(y_train))\n",
    "print('X_test:',len(X_test))\n",
    "print('y_test:',len(y_test))"
   ]
  },
  {
   "cell_type": "markdown",
   "metadata": {},
   "source": [
    "## STEP8-2. 説明変数の標準化"
   ]
  },
  {
   "cell_type": "code",
   "execution_count": 47,
   "metadata": {},
   "outputs": [
    {
     "name": "stdout",
     "output_type": "stream",
     "text": [
      "X_train: 299742\n",
      "y_train: 299742\n",
      "X_test: 74936\n",
      "y_test: 74936\n",
      "X_train_kf: 299742\n",
      "X_test_kf: 74936\n"
     ]
    }
   ],
   "source": [
    "stdsc = StandardScaler()\n",
    "\n",
    "X_train_kf = stdsc.fit_transform(X_train)\n",
    "X_test_kf = stdsc.fit_transform(X_test)\n",
    "\n",
    "# 件数に誤りがないか確認する\n",
    "print('X_train:',len(X_train))\n",
    "print('y_train:',len(y_train))\n",
    "print('X_test:',len(X_test))\n",
    "print('y_test:',len(y_test))\n",
    "print('X_train_kf:',len(X_train_kf))\n",
    "print('X_test_kf:',len(X_test_kf))"
   ]
  },
  {
   "cell_type": "markdown",
   "metadata": {},
   "source": [
    "## STEP8-3.検定を関数化しておく"
   ]
  },
  {
   "cell_type": "code",
   "execution_count": 48,
   "metadata": {},
   "outputs": [],
   "source": [
    "# 交差検定\n",
    "def fx_cross_validate(estimator,X, y):\n",
    "    scoring = {\"accuracy\": \"accuracy\"\n",
    "               , \"recall\": \"recall\"\n",
    "               , \"precision\":\"precision\"\n",
    "               , \"log_loss\":\"neg_log_loss\"\n",
    "               , \"AUC\":\"roc_auc\"}\n",
    "    \n",
    "    scores = cross_validate(estimator, X, y, cv=5, scoring=scoring)\n",
    "    \n",
    "    print('Cross-Validation scores(accuracy): {}'.format(scores['test_accuracy']))\n",
    "    print('Cross-Validation scores(recall): {}'.format(scores['test_recall']))\n",
    "    print('Cross-Validation scores(precision): {}'.format(scores['test_precision']))\n",
    "    print('Cross-Validation scores(log_loss): {}'.format(scores['test_log_loss']))\n",
    "    print('Cross-Validation scores(AUC): {}'.format(scores['test_AUC']))\n",
    "    print('')\n",
    "    print('Average score(accuracy): {}'.format(np.mean(scores['test_accuracy'])))\n",
    "    print('Average score(recall): {}'.format(np.mean(scores['test_recall'])))\n",
    "    print('Average score(precision): {}'.format(np.mean(scores['test_precision'])))\n",
    "    print('Average score(log_loss): {}'.format(np.mean(scores['test_log_loss'])))\n",
    "    print('Average score(AUC): {}'.format(np.mean(scores['test_AUC'])))"
   ]
  },
  {
   "cell_type": "code",
   "execution_count": 49,
   "metadata": {},
   "outputs": [],
   "source": [
    "# ROC曲線\n",
    "def fx_roc_curve(y,y_predict):\n",
    "    \n",
    "    # 一応、モデルのスコアも再度表示\n",
    "    score_acs = accuracy_score(y_test, y_pred_test)\n",
    "    score_logloss = log_loss(y_test, y_pred_test)\n",
    "    score_auc = roc_auc_score(y_test, y_pred_test)\n",
    "    \n",
    "    print('acs:', score_acs)\n",
    "    print('log_loss:-', score_logloss)\n",
    "    print('AUC:', score_auc)\n",
    "    \n",
    "    # ROC曲線の情報を取得\n",
    "    fpr, tpr, thresholds = roc_curve(y, y_predict)\n",
    "    \n",
    "    plt.plot(fpr, tpr, label='ROC curve (area = %.2f)'%score_auc)\n",
    "    plt.legend()\n",
    "    plt.title('ROC curve')\n",
    "    plt.xlabel('False Positive Rate')\n",
    "    plt.ylabel('True Positive Rate')\n",
    "    plt.grid(True)"
   ]
  },
  {
   "cell_type": "code",
   "execution_count": 50,
   "metadata": {},
   "outputs": [],
   "source": [
    "def fx_confusion_matrix(y,y_predict):    \n",
    "    \n",
    "    conf_mat = pd.DataFrame(confusion_matrix(y, y_predict), \n",
    "                        index=['Actual = Nagative', 'Actual = Positive'], \n",
    "                        columns=['predict = Nagative', 'predict = Positive'])\n",
    "    \n",
    "    print(conf_mat)"
   ]
  },
  {
   "cell_type": "markdown",
   "metadata": {},
   "source": [
    "# STEP.9 学習"
   ]
  },
  {
   "cell_type": "markdown",
   "metadata": {},
   "source": [
    "## 9-1.ロジスティック回帰で交差検定を実施してみる(cross_val_score)"
   ]
  },
  {
   "cell_type": "code",
   "execution_count": 51,
   "metadata": {},
   "outputs": [
    {
     "name": "stdout",
     "output_type": "stream",
     "text": [
      "Cross-Validation scores(accuracy): [0.67744249 0.6775259  0.68106224 0.67857143 0.68567234]\n",
      "Cross-Validation scores(recall): [0.3505554  0.39148698 0.35013535 0.35453909 0.34679113]\n",
      "Cross-Validation scores(precision): [0.58076239 0.57131181 0.5908017  0.58269408 0.60514742]\n",
      "Cross-Validation scores(log_loss): [-0.60225862 -0.60036765 -0.59467249 -0.5978193  -0.59101226]\n",
      "Cross-Validation scores(AUC): [0.68930463 0.69388958 0.69919355 0.69588257 0.7048156 ]\n",
      "\n",
      "Average score(accuracy): 0.6800548797014675\n",
      "Average score(recall): 0.3587015899395286\n",
      "Average score(precision): 0.586143479660581\n",
      "Average score(log_loss): -0.5972260652018132\n",
      "Average score(AUC): 0.6966171849693645\n"
     ]
    }
   ],
   "source": [
    "# モデル作成\n",
    "clf = SGDClassifier(loss='log', penalty='none', max_iter=10000, fit_intercept=True, random_state=1234, tol=1e-3, n_jobs=cpu_cnt)\n",
    "\n",
    "# 交差検定\n",
    "fx_cross_validate(clf, X_train_kf, y_train)"
   ]
  },
  {
   "cell_type": "code",
   "execution_count": 52,
   "metadata": {},
   "outputs": [],
   "source": [
    "# いったんモデルを作ってみる\n",
    "clf.fit(X_train_kf, y_train)\n",
    "\n",
    "# ホールドアウトのデータで予測\n",
    "y_pred_test = clf.predict(X_test_kf)"
   ]
  },
  {
   "cell_type": "code",
   "execution_count": 53,
   "metadata": {},
   "outputs": [
    {
     "name": "stdout",
     "output_type": "stream",
     "text": [
      "acs: 0.6780452652930501\n",
      "log_loss:- 11.119956523212384\n",
      "AUC: 0.5747198249359071\n"
     ]
    },
    {
     "data": {
      "image/png": "[encoded data removed]",
      "text/plain": [
       "<Figure size 432x288 with 1 Axes>"
      ]
     },
     "metadata": {
      "needs_background": "light"
     },
     "output_type": "display_data"
    }
   ],
   "source": [
    "fx_roc_curve(y_test, y_pred_test)"
   ]
  },
  {
   "cell_type": "code",
   "execution_count": 54,
   "metadata": {},
   "outputs": [
    {
     "name": "stdout",
     "output_type": "stream",
     "text": [
      "                   predict = Nagative  predict = Positive\n",
      "Actual = Nagative               45061                3180\n",
      "Actual = Positive               20946                5749\n"
     ]
    }
   ],
   "source": [
    "fx_confusion_matrix(y_test, y_pred_test)"
   ]
  },
  {
   "cell_type": "markdown",
   "metadata": {},
   "source": [
    "まぁこんなもん？"
   ]
  },
  {
   "cell_type": "markdown",
   "metadata": {},
   "source": [
    "## 9-2.説明変数の重みチェック"
   ]
  },
  {
   "cell_type": "code",
   "execution_count": 55,
   "metadata": {},
   "outputs": [
    {
     "name": "stdout",
     "output_type": "stream",
     "text": [
      "w0 = -4.643, w1 = -0.097, w2 = -0.536, w3 = -0.231, w4 = 0.112, w5 = 0.212, w6 = 0.201\n"
     ]
    }
   ],
   "source": [
    "# 重みを取得して表示\n",
    "w0 = clf.intercept_[0]\n",
    "w1 = clf.coef_[0, 0]\n",
    "w2 = clf.coef_[0, 1]\n",
    "w3 = clf.coef_[0, 2]\n",
    "w4 = clf.coef_[0, 3]\n",
    "w5 = clf.coef_[0, 4]\n",
    "w6 = clf.coef_[0, 5]\n",
    "print('w0 = {:.3f}, w1 = {:.3f}, w2 = {:.3f}, w3 = {:.3f}, w4 = {:.3f}, w5 = {:.3f}, w6 = {:.3f}'.format(w0, w1, w2, w3, w4, w5, w6))\n"
   ]
  },
  {
   "cell_type": "code",
   "execution_count": 56,
   "metadata": {},
   "outputs": [
    {
     "data": {
      "text/html": [
       "<div>\n",
       "<style scoped>\n",
       "    .dataframe tbody tr th:only-of-type {\n",
       "        vertical-align: middle;\n",
       "    }\n",
       "\n",
       "    .dataframe tbody tr th {\n",
       "        vertical-align: top;\n",
       "    }\n",
       "\n",
       "    .dataframe thead th {\n",
       "        text-align: right;\n",
       "    }\n",
       "</style>\n",
       "<table border=\"1\" class=\"dataframe\">\n",
       "  <thead>\n",
       "    <tr style=\"text-align: right;\">\n",
       "      <th></th>\n",
       "      <th>goal</th>\n",
       "      <th>usd_goal_real</th>\n",
       "      <th>datenum</th>\n",
       "      <th>category_3D Printing</th>\n",
       "      <th>category_Academic</th>\n",
       "      <th>category_Accessories</th>\n",
       "      <th>category_Action</th>\n",
       "      <th>category_Animals</th>\n",
       "      <th>category_Animation</th>\n",
       "      <th>category_Anthologies</th>\n",
       "      <th>...</th>\n",
       "      <th>main_category_Fashion</th>\n",
       "      <th>main_category_Film &amp; Video</th>\n",
       "      <th>main_category_Food</th>\n",
       "      <th>main_category_Games</th>\n",
       "      <th>main_category_Journalism</th>\n",
       "      <th>main_category_Music</th>\n",
       "      <th>main_category_Photography</th>\n",
       "      <th>main_category_Publishing</th>\n",
       "      <th>main_category_Technology</th>\n",
       "      <th>main_category_Theater</th>\n",
       "    </tr>\n",
       "  </thead>\n",
       "  <tbody>\n",
       "    <tr>\n",
       "      <th>count</th>\n",
       "      <td>299742.000000</td>\n",
       "      <td>299742.000000</td>\n",
       "      <td>299742.000000</td>\n",
       "      <td>299742.000000</td>\n",
       "      <td>299742.000000</td>\n",
       "      <td>299742.000000</td>\n",
       "      <td>299742.000000</td>\n",
       "      <td>299742.000000</td>\n",
       "      <td>299742.000000</td>\n",
       "      <td>299742.000000</td>\n",
       "      <td>...</td>\n",
       "      <td>299742.000000</td>\n",
       "      <td>299742.000000</td>\n",
       "      <td>299742.000000</td>\n",
       "      <td>299742.000000</td>\n",
       "      <td>299742.000000</td>\n",
       "      <td>299742.000000</td>\n",
       "      <td>299742.000000</td>\n",
       "      <td>299742.000000</td>\n",
       "      <td>299742.000000</td>\n",
       "      <td>299742.000000</td>\n",
       "    </tr>\n",
       "    <tr>\n",
       "      <th>mean</th>\n",
       "      <td>17214.851470</td>\n",
       "      <td>16666.891890</td>\n",
       "      <td>34.119863</td>\n",
       "      <td>0.001795</td>\n",
       "      <td>0.002352</td>\n",
       "      <td>0.008367</td>\n",
       "      <td>0.001852</td>\n",
       "      <td>0.000644</td>\n",
       "      <td>0.006726</td>\n",
       "      <td>0.002095</td>\n",
       "      <td>...</td>\n",
       "      <td>0.060742</td>\n",
       "      <td>0.166563</td>\n",
       "      <td>0.064599</td>\n",
       "      <td>0.092806</td>\n",
       "      <td>0.012541</td>\n",
       "      <td>0.138332</td>\n",
       "      <td>0.028421</td>\n",
       "      <td>0.106395</td>\n",
       "      <td>0.084249</td>\n",
       "      <td>0.028755</td>\n",
       "    </tr>\n",
       "    <tr>\n",
       "      <th>std</th>\n",
       "      <td>35191.778283</td>\n",
       "      <td>34352.102421</td>\n",
       "      <td>12.747811</td>\n",
       "      <td>0.042328</td>\n",
       "      <td>0.048441</td>\n",
       "      <td>0.091089</td>\n",
       "      <td>0.042990</td>\n",
       "      <td>0.025367</td>\n",
       "      <td>0.081735</td>\n",
       "      <td>0.045725</td>\n",
       "      <td>...</td>\n",
       "      <td>0.238857</td>\n",
       "      <td>0.372586</td>\n",
       "      <td>0.245817</td>\n",
       "      <td>0.290162</td>\n",
       "      <td>0.111281</td>\n",
       "      <td>0.345249</td>\n",
       "      <td>0.166173</td>\n",
       "      <td>0.308343</td>\n",
       "      <td>0.277762</td>\n",
       "      <td>0.167117</td>\n",
       "    </tr>\n",
       "    <tr>\n",
       "      <th>min</th>\n",
       "      <td>0.010000</td>\n",
       "      <td>0.010000</td>\n",
       "      <td>1.000000</td>\n",
       "      <td>0.000000</td>\n",
       "      <td>0.000000</td>\n",
       "      <td>0.000000</td>\n",
       "      <td>0.000000</td>\n",
       "      <td>0.000000</td>\n",
       "      <td>0.000000</td>\n",
       "      <td>0.000000</td>\n",
       "      <td>...</td>\n",
       "      <td>0.000000</td>\n",
       "      <td>0.000000</td>\n",
       "      <td>0.000000</td>\n",
       "      <td>0.000000</td>\n",
       "      <td>0.000000</td>\n",
       "      <td>0.000000</td>\n",
       "      <td>0.000000</td>\n",
       "      <td>0.000000</td>\n",
       "      <td>0.000000</td>\n",
       "      <td>0.000000</td>\n",
       "    </tr>\n",
       "    <tr>\n",
       "      <th>25%</th>\n",
       "      <td>2000.000000</td>\n",
       "      <td>2000.000000</td>\n",
       "      <td>30.000000</td>\n",
       "      <td>0.000000</td>\n",
       "      <td>0.000000</td>\n",
       "      <td>0.000000</td>\n",
       "      <td>0.000000</td>\n",
       "      <td>0.000000</td>\n",
       "      <td>0.000000</td>\n",
       "      <td>0.000000</td>\n",
       "      <td>...</td>\n",
       "      <td>0.000000</td>\n",
       "      <td>0.000000</td>\n",
       "      <td>0.000000</td>\n",
       "      <td>0.000000</td>\n",
       "      <td>0.000000</td>\n",
       "      <td>0.000000</td>\n",
       "      <td>0.000000</td>\n",
       "      <td>0.000000</td>\n",
       "      <td>0.000000</td>\n",
       "      <td>0.000000</td>\n",
       "    </tr>\n",
       "    <tr>\n",
       "      <th>50%</th>\n",
       "      <td>5000.000000</td>\n",
       "      <td>5200.000000</td>\n",
       "      <td>30.000000</td>\n",
       "      <td>0.000000</td>\n",
       "      <td>0.000000</td>\n",
       "      <td>0.000000</td>\n",
       "      <td>0.000000</td>\n",
       "      <td>0.000000</td>\n",
       "      <td>0.000000</td>\n",
       "      <td>0.000000</td>\n",
       "      <td>...</td>\n",
       "      <td>0.000000</td>\n",
       "      <td>0.000000</td>\n",
       "      <td>0.000000</td>\n",
       "      <td>0.000000</td>\n",
       "      <td>0.000000</td>\n",
       "      <td>0.000000</td>\n",
       "      <td>0.000000</td>\n",
       "      <td>0.000000</td>\n",
       "      <td>0.000000</td>\n",
       "      <td>0.000000</td>\n",
       "    </tr>\n",
       "    <tr>\n",
       "      <th>75%</th>\n",
       "      <td>15000.000000</td>\n",
       "      <td>15000.000000</td>\n",
       "      <td>37.000000</td>\n",
       "      <td>0.000000</td>\n",
       "      <td>0.000000</td>\n",
       "      <td>0.000000</td>\n",
       "      <td>0.000000</td>\n",
       "      <td>0.000000</td>\n",
       "      <td>0.000000</td>\n",
       "      <td>0.000000</td>\n",
       "      <td>...</td>\n",
       "      <td>0.000000</td>\n",
       "      <td>0.000000</td>\n",
       "      <td>0.000000</td>\n",
       "      <td>0.000000</td>\n",
       "      <td>0.000000</td>\n",
       "      <td>0.000000</td>\n",
       "      <td>0.000000</td>\n",
       "      <td>0.000000</td>\n",
       "      <td>0.000000</td>\n",
       "      <td>0.000000</td>\n",
       "    </tr>\n",
       "    <tr>\n",
       "      <th>max</th>\n",
       "      <td>360360.000000</td>\n",
       "      <td>570794.870000</td>\n",
       "      <td>92.000000</td>\n",
       "      <td>1.000000</td>\n",
       "      <td>1.000000</td>\n",
       "      <td>1.000000</td>\n",
       "      <td>1.000000</td>\n",
       "      <td>1.000000</td>\n",
       "      <td>1.000000</td>\n",
       "      <td>1.000000</td>\n",
       "      <td>...</td>\n",
       "      <td>1.000000</td>\n",
       "      <td>1.000000</td>\n",
       "      <td>1.000000</td>\n",
       "      <td>1.000000</td>\n",
       "      <td>1.000000</td>\n",
       "      <td>1.000000</td>\n",
       "      <td>1.000000</td>\n",
       "      <td>1.000000</td>\n",
       "      <td>1.000000</td>\n",
       "      <td>1.000000</td>\n",
       "    </tr>\n",
       "  </tbody>\n",
       "</table>\n",
       "<p>8 rows × 177 columns</p>\n",
       "</div>"
      ],
      "text/plain": [
       "                goal  usd_goal_real        datenum  category_3D Printing  \\\n",
       "count  299742.000000  299742.000000  299742.000000         299742.000000   \n",
       "mean    17214.851470   16666.891890      34.119863              0.001795   \n",
       "std     35191.778283   34352.102421      12.747811              0.042328   \n",
       "min         0.010000       0.010000       1.000000              0.000000   \n",
       "25%      2000.000000    2000.000000      30.000000              0.000000   \n",
       "50%      5000.000000    5200.000000      30.000000              0.000000   \n",
       "75%     15000.000000   15000.000000      37.000000              0.000000   \n",
       "max    360360.000000  570794.870000      92.000000              1.000000   \n",
       "\n",
       "       category_Academic  category_Accessories  category_Action  \\\n",
       "count      299742.000000         299742.000000    299742.000000   \n",
       "mean            0.002352              0.008367         0.001852   \n",
       "std             0.048441              0.091089         0.042990   \n",
       "min             0.000000              0.000000         0.000000   \n",
       "25%             0.000000              0.000000         0.000000   \n",
       "50%             0.000000              0.000000         0.000000   \n",
       "75%             0.000000              0.000000         0.000000   \n",
       "max             1.000000              1.000000         1.000000   \n",
       "\n",
       "       category_Animals  category_Animation  category_Anthologies  \\\n",
       "count     299742.000000       299742.000000         299742.000000   \n",
       "mean           0.000644            0.006726              0.002095   \n",
       "std            0.025367            0.081735              0.045725   \n",
       "min            0.000000            0.000000              0.000000   \n",
       "25%            0.000000            0.000000              0.000000   \n",
       "50%            0.000000            0.000000              0.000000   \n",
       "75%            0.000000            0.000000              0.000000   \n",
       "max            1.000000            1.000000              1.000000   \n",
       "\n",
       "               ...            main_category_Fashion  \\\n",
       "count          ...                    299742.000000   \n",
       "mean           ...                         0.060742   \n",
       "std            ...                         0.238857   \n",
       "min            ...                         0.000000   \n",
       "25%            ...                         0.000000   \n",
       "50%            ...                         0.000000   \n",
       "75%            ...                         0.000000   \n",
       "max            ...                         1.000000   \n",
       "\n",
       "       main_category_Film & Video  main_category_Food  main_category_Games  \\\n",
       "count               299742.000000       299742.000000        299742.000000   \n",
       "mean                     0.166563            0.064599             0.092806   \n",
       "std                      0.372586            0.245817             0.290162   \n",
       "min                      0.000000            0.000000             0.000000   \n",
       "25%                      0.000000            0.000000             0.000000   \n",
       "50%                      0.000000            0.000000             0.000000   \n",
       "75%                      0.000000            0.000000             0.000000   \n",
       "max                      1.000000            1.000000             1.000000   \n",
       "\n",
       "       main_category_Journalism  main_category_Music  \\\n",
       "count             299742.000000        299742.000000   \n",
       "mean                   0.012541             0.138332   \n",
       "std                    0.111281             0.345249   \n",
       "min                    0.000000             0.000000   \n",
       "25%                    0.000000             0.000000   \n",
       "50%                    0.000000             0.000000   \n",
       "75%                    0.000000             0.000000   \n",
       "max                    1.000000             1.000000   \n",
       "\n",
       "       main_category_Photography  main_category_Publishing  \\\n",
       "count              299742.000000             299742.000000   \n",
       "mean                    0.028421                  0.106395   \n",
       "std                     0.166173                  0.308343   \n",
       "min                     0.000000                  0.000000   \n",
       "25%                     0.000000                  0.000000   \n",
       "50%                     0.000000                  0.000000   \n",
       "75%                     0.000000                  0.000000   \n",
       "max                     1.000000                  1.000000   \n",
       "\n",
       "       main_category_Technology  main_category_Theater  \n",
       "count             299742.000000          299742.000000  \n",
       "mean                   0.084249               0.028755  \n",
       "std                    0.277762               0.167117  \n",
       "min                    0.000000               0.000000  \n",
       "25%                    0.000000               0.000000  \n",
       "50%                    0.000000               0.000000  \n",
       "75%                    0.000000               0.000000  \n",
       "max                    1.000000               1.000000  \n",
       "\n",
       "[8 rows x 177 columns]"
      ]
     },
     "execution_count": 56,
     "metadata": {},
     "output_type": "execute_result"
    }
   ],
   "source": [
    "X_train.describe()"
   ]
  },
  {
   "cell_type": "markdown",
   "metadata": {},
   "source": [
    "# STEP.11 SVMの実装"
   ]
  },
  {
   "cell_type": "markdown",
   "metadata": {},
   "source": [
    "## 11-1.SVMの実装(時間かかりすぎで動かず)"
   ]
  },
  {
   "cell_type": "code",
   "execution_count": 57,
   "metadata": {},
   "outputs": [],
   "source": [
    "#clf = SVC(C=5, kernel='rbf', gamma=1)\n",
    "#fx_cross_validate(clf, X_train_kf, y_train)"
   ]
  },
  {
   "cell_type": "code",
   "execution_count": 58,
   "metadata": {},
   "outputs": [],
   "source": [
    "# いったんモデルを作ってみる\n",
    "#clf.fit(X_train_kf, y_train)\n",
    "\n",
    "# ホールドアウトのデータで予測\n",
    "#y_pred_test = clf.predict(X_test_kf)"
   ]
  },
  {
   "cell_type": "code",
   "execution_count": 59,
   "metadata": {},
   "outputs": [],
   "source": [
    "#fx_roc_curve(y_test, y_pred_test)"
   ]
  },
  {
   "cell_type": "markdown",
   "metadata": {},
   "source": [
    "## 11-2.LinearSVCの実装"
   ]
  },
  {
   "cell_type": "code",
   "execution_count": 60,
   "metadata": {},
   "outputs": [],
   "source": [
    "clf = LinearSVC(loss='hinge', C=1.0,class_weight='balanced', random_state=0)\n",
    "# 交差検定は時間かかるのでいったんパス\n",
    "#fx_cross_validate(clf, X_train_kf, y_train)"
   ]
  },
  {
   "cell_type": "code",
   "execution_count": 61,
   "metadata": {},
   "outputs": [
    {
     "name": "stderr",
     "output_type": "stream",
     "text": [
      "/home/ec2-user/anaconda3/lib/python3.7/site-packages/sklearn/svm/base.py:929: ConvergenceWarning: Liblinear failed to converge, increase the number of iterations.\n",
      "  \"the number of iterations.\", ConvergenceWarning)\n"
     ]
    }
   ],
   "source": [
    "# いったんモデルを作ってみる\n",
    "clf.fit(X_train_kf, y_train)\n",
    "\n",
    "# ホールドアウトのデータで予測\n",
    "y_pred_test = clf.predict(X_test_kf)"
   ]
  },
  {
   "cell_type": "code",
   "execution_count": 62,
   "metadata": {},
   "outputs": [
    {
     "name": "stdout",
     "output_type": "stream",
     "text": [
      "acs: 0.6227714316216505\n",
      "log_loss:- 13.029216678946351\n",
      "AUC: 0.6300838295506377\n"
     ]
    },
    {
     "data": {
      "image/png": "[encoded data removed]",
      "text/plain": [
       "<Figure size 432x288 with 1 Axes>"
      ]
     },
     "metadata": {
      "needs_background": "light"
     },
     "output_type": "display_data"
    }
   ],
   "source": [
    "fx_roc_curve(y_test, y_pred_test)"
   ]
  },
  {
   "cell_type": "markdown",
   "metadata": {},
   "source": [
    "# STEP.12 決定木の実装"
   ]
  },
  {
   "cell_type": "code",
   "execution_count": 63,
   "metadata": {},
   "outputs": [
    {
     "name": "stdout",
     "output_type": "stream",
     "text": [
      "Cross-Validation scores(accuracy): [0.65482327 0.65564063 0.65418939 0.65316608 0.65215941]\n",
      "Cross-Validation scores(recall): [0.40936246 0.41136936 0.40940913 0.40742124 0.4043874 ]\n",
      "Cross-Validation scores(precision): [0.5218038  0.52321026 0.52062437 0.51881129 0.51709937]\n",
      "Cross-Validation scores(log_loss): [-3.47899139 -3.59980998 -3.58047833 -3.52846172 -3.59525318]\n",
      "Cross-Validation scores(AUC): [0.65420432 0.64931786 0.64933848 0.65016965 0.64825171]\n",
      "\n",
      "Average score(accuracy): 0.6539957546744474\n",
      "Average score(recall): 0.40838991700396504\n",
      "Average score(precision): 0.5203098177305926\n",
      "Average score(log_loss): -3.5565989235956166\n",
      "Average score(AUC): 0.6502564059438428\n"
     ]
    }
   ],
   "source": [
    "clf = DecisionTreeClassifier(criterion=\"gini\", max_depth=None, min_samples_split=3, min_samples_leaf=3, random_state=1234)\n",
    "fx_cross_validate(clf, X_train_kf, y_train)"
   ]
  },
  {
   "cell_type": "code",
   "execution_count": 64,
   "metadata": {},
   "outputs": [],
   "source": [
    "# いったんモデルを作ってみる\n",
    "clf.fit(X_train_kf, y_train)\n",
    "\n",
    "# ホールドアウトのデータで予測\n",
    "y_pred_test = clf.predict(X_test_kf)"
   ]
  },
  {
   "cell_type": "code",
   "execution_count": 65,
   "metadata": {},
   "outputs": [
    {
     "name": "stdout",
     "output_type": "stream",
     "text": [
      "acs: 0.6458978328173375\n",
      "log_loss:- 12.230369074367726\n",
      "AUC: 0.5919803380432513\n"
     ]
    },
    {
     "data": {
      "image/png": "[encoded data removed]",
      "text/plain": [
       "<Figure size 432x288 with 1 Axes>"
      ]
     },
     "metadata": {
      "needs_background": "light"
     },
     "output_type": "display_data"
    }
   ],
   "source": [
    "fx_roc_curve(y_test, y_pred_test)"
   ]
  },
  {
   "cell_type": "code",
   "execution_count": 66,
   "metadata": {},
   "outputs": [
    {
     "name": "stdout",
     "output_type": "stream",
     "text": [
      "                   predict = Nagative  predict = Positive\n",
      "Actual = Nagative               37604               10637\n",
      "Actual = Positive               15898               10797\n"
     ]
    }
   ],
   "source": [
    "fx_confusion_matrix(y_test, y_pred_test)"
   ]
  },
  {
   "cell_type": "code",
   "execution_count": 67,
   "metadata": {},
   "outputs": [
    {
     "data": {
      "text/plain": [
       "'\\ndot_data = export_graphviz(clf, out_file=None,  \\n                     feature_names=[\"category\",\"main_category\",\"goal\",\"usd_goal_real\",\"datenum\"],  \\n                     class_names=[\"0\",\"1\",\"2\",\"3\",\"4\"],  \\n                     filled=True, rounded=True,  \\n                     special_characters=True) \\ngraph = pydotplus.graph_from_dot_data(dot_data) \\nImage(graph.create_png())\\n'"
      ]
     },
     "execution_count": 67,
     "metadata": {},
     "output_type": "execute_result"
    }
   ],
   "source": [
    "# 決定木の描画\n",
    "#dot_data = StringIO() #dotファイル情報の格納先\n",
    "\n",
    "# メモリ不足で断念\n",
    "'''\n",
    "dot_data = export_graphviz(clf, out_file=None,  \n",
    "                     feature_names=[\"category\",\"main_category\",\"goal\",\"usd_goal_real\",\"datenum\"],  \n",
    "                     class_names=[\"0\",\"1\",\"2\",\"3\",\"4\"],  \n",
    "                     filled=True, rounded=True,  \n",
    "                     special_characters=True) \n",
    "graph = pydotplus.graph_from_dot_data(dot_data) \n",
    "Image(graph.create_png())\n",
    "'''"
   ]
  },
  {
   "cell_type": "markdown",
   "metadata": {},
   "source": [
    "# STEP.13 ランダムフォレストの実装"
   ]
  },
  {
   "cell_type": "code",
   "execution_count": 68,
   "metadata": {},
   "outputs": [
    {
     "name": "stderr",
     "output_type": "stream",
     "text": [
      "/home/ec2-user/anaconda3/lib/python3.7/site-packages/sklearn/metrics/classification.py:1437: UndefinedMetricWarning: Precision is ill-defined and being set to 0.0 due to no predicted samples.\n",
      "  'precision', 'predicted', average, warn_for)\n",
      "/home/ec2-user/anaconda3/lib/python3.7/site-packages/sklearn/metrics/classification.py:1437: UndefinedMetricWarning: Precision is ill-defined and being set to 0.0 due to no predicted samples.\n",
      "  'precision', 'predicted', average, warn_for)\n",
      "/home/ec2-user/anaconda3/lib/python3.7/site-packages/sklearn/metrics/classification.py:1437: UndefinedMetricWarning: Precision is ill-defined and being set to 0.0 due to no predicted samples.\n",
      "  'precision', 'predicted', average, warn_for)\n",
      "/home/ec2-user/anaconda3/lib/python3.7/site-packages/sklearn/metrics/classification.py:1437: UndefinedMetricWarning: Precision is ill-defined and being set to 0.0 due to no predicted samples.\n",
      "  'precision', 'predicted', average, warn_for)\n"
     ]
    },
    {
     "name": "stdout",
     "output_type": "stream",
     "text": [
      "Cross-Validation scores(accuracy): [0.64259621 0.64259621 0.64259621 0.64260693 0.64260096]\n",
      "Cross-Validation scores(recall): [0. 0. 0. 0. 0.]\n",
      "Cross-Validation scores(precision): [0. 0. 0. 0. 0.]\n",
      "Cross-Validation scores(log_loss): [-0.63676101 -0.63668273 -0.63658449 -0.63656241 -0.6366664 ]\n",
      "Cross-Validation scores(AUC): [0.6625182  0.66704171 0.66537789 0.66915937 0.66605094]\n",
      "\n",
      "Average score(accuracy): 0.6425993021029688\n",
      "Average score(recall): 0.0\n",
      "Average score(precision): 0.0\n",
      "Average score(log_loss): -0.6366514090805123\n",
      "Average score(AUC): 0.6660296216445091\n"
     ]
    },
    {
     "name": "stderr",
     "output_type": "stream",
     "text": [
      "/home/ec2-user/anaconda3/lib/python3.7/site-packages/sklearn/metrics/classification.py:1437: UndefinedMetricWarning: Precision is ill-defined and being set to 0.0 due to no predicted samples.\n",
      "  'precision', 'predicted', average, warn_for)\n"
     ]
    }
   ],
   "source": [
    "clf = RandomForestClassifier(n_estimators=10, max_depth=2, criterion=\"gini\",\n",
    "                                                 min_samples_leaf=2, min_samples_split=2, random_state=1234, n_jobs=cpu_cnt)\n",
    "fx_cross_validate(clf, X_train_kf, y_train)"
   ]
  },
  {
   "cell_type": "code",
   "execution_count": 69,
   "metadata": {},
   "outputs": [],
   "source": [
    "# いったんモデルを作ってみる\n",
    "clf.fit(X_train_kf, y_train)\n",
    "\n",
    "# ホールドアウトのデータで予測\n",
    "y_pred_test = clf.predict(X_test_kf)"
   ]
  },
  {
   "cell_type": "code",
   "execution_count": 70,
   "metadata": {},
   "outputs": [
    {
     "name": "stdout",
     "output_type": "stream",
     "text": [
      "acs: 0.643762677484787\n",
      "log_loss:- 12.30400122587462\n",
      "AUC: 0.5\n"
     ]
    },
    {
     "data": {
      "image/png": "[encoded data removed]",
      "text/plain": [
       "<Figure size 432x288 with 1 Axes>"
      ]
     },
     "metadata": {
      "needs_background": "light"
     },
     "output_type": "display_data"
    }
   ],
   "source": [
    "fx_roc_curve(y_test, y_pred_test)"
   ]
  },
  {
   "cell_type": "code",
   "execution_count": 71,
   "metadata": {},
   "outputs": [
    {
     "name": "stdout",
     "output_type": "stream",
     "text": [
      "                   predict = Nagative  predict = Positive\n",
      "Actual = Nagative               48241                   0\n",
      "Actual = Positive               26695                   0\n"
     ]
    }
   ],
   "source": [
    "fx_confusion_matrix(y_test, y_pred_test)"
   ]
  },
  {
   "cell_type": "code",
   "execution_count": 72,
   "metadata": {},
   "outputs": [
    {
     "name": "stdout",
     "output_type": "stream",
     "text": [
      "[1.09856642e-01 1.41936344e-01 1.64491547e-01 0.00000000e+00\n",
      " 0.00000000e+00 0.00000000e+00 0.00000000e+00 0.00000000e+00\n",
      " 0.00000000e+00 0.00000000e+00 4.43383211e-02 5.90794703e-02\n",
      " 0.00000000e+00 0.00000000e+00 0.00000000e+00 0.00000000e+00\n",
      " 0.00000000e+00 0.00000000e+00 0.00000000e+00 0.00000000e+00\n",
      " 0.00000000e+00 0.00000000e+00 0.00000000e+00 1.95347137e-04\n",
      " 0.00000000e+00 0.00000000e+00 0.00000000e+00 0.00000000e+00\n",
      " 0.00000000e+00 0.00000000e+00 0.00000000e+00 0.00000000e+00\n",
      " 0.00000000e+00 3.82518695e-02 0.00000000e+00 0.00000000e+00\n",
      " 0.00000000e+00 0.00000000e+00 0.00000000e+00 0.00000000e+00\n",
      " 0.00000000e+00 0.00000000e+00 0.00000000e+00 0.00000000e+00\n",
      " 0.00000000e+00 0.00000000e+00 0.00000000e+00 0.00000000e+00\n",
      " 0.00000000e+00 0.00000000e+00 0.00000000e+00 0.00000000e+00\n",
      " 0.00000000e+00 0.00000000e+00 0.00000000e+00 0.00000000e+00\n",
      " 0.00000000e+00 0.00000000e+00 0.00000000e+00 0.00000000e+00\n",
      " 0.00000000e+00 0.00000000e+00 0.00000000e+00 0.00000000e+00\n",
      " 0.00000000e+00 0.00000000e+00 0.00000000e+00 0.00000000e+00\n",
      " 0.00000000e+00 0.00000000e+00 0.00000000e+00 0.00000000e+00\n",
      " 0.00000000e+00 0.00000000e+00 0.00000000e+00 4.15608120e-03\n",
      " 0.00000000e+00 0.00000000e+00 0.00000000e+00 0.00000000e+00\n",
      " 1.53199245e-03 0.00000000e+00 0.00000000e+00 0.00000000e+00\n",
      " 0.00000000e+00 0.00000000e+00 0.00000000e+00 0.00000000e+00\n",
      " 0.00000000e+00 0.00000000e+00 0.00000000e+00 0.00000000e+00\n",
      " 0.00000000e+00 0.00000000e+00 0.00000000e+00 0.00000000e+00\n",
      " 0.00000000e+00 0.00000000e+00 2.50817546e-02 0.00000000e+00\n",
      " 0.00000000e+00 0.00000000e+00 0.00000000e+00 0.00000000e+00\n",
      " 0.00000000e+00 0.00000000e+00 0.00000000e+00 0.00000000e+00\n",
      " 0.00000000e+00 0.00000000e+00 0.00000000e+00 0.00000000e+00\n",
      " 0.00000000e+00 0.00000000e+00 0.00000000e+00 3.23642462e-05\n",
      " 0.00000000e+00 0.00000000e+00 0.00000000e+00 0.00000000e+00\n",
      " 0.00000000e+00 0.00000000e+00 0.00000000e+00 0.00000000e+00\n",
      " 0.00000000e+00 0.00000000e+00 0.00000000e+00 0.00000000e+00\n",
      " 0.00000000e+00 0.00000000e+00 0.00000000e+00 0.00000000e+00\n",
      " 0.00000000e+00 0.00000000e+00 0.00000000e+00 0.00000000e+00\n",
      " 0.00000000e+00 0.00000000e+00 0.00000000e+00 8.42950942e-02\n",
      " 0.00000000e+00 6.02060462e-02 0.00000000e+00 0.00000000e+00\n",
      " 3.73740429e-02 0.00000000e+00 0.00000000e+00 0.00000000e+00\n",
      " 0.00000000e+00 0.00000000e+00 0.00000000e+00 0.00000000e+00\n",
      " 0.00000000e+00 0.00000000e+00 0.00000000e+00 0.00000000e+00\n",
      " 0.00000000e+00 0.00000000e+00 0.00000000e+00 0.00000000e+00\n",
      " 0.00000000e+00 0.00000000e+00 0.00000000e+00 0.00000000e+00\n",
      " 3.85936629e-02 0.00000000e+00 0.00000000e+00 3.29231144e-02\n",
      " 0.00000000e+00 0.00000000e+00 0.00000000e+00 1.41729134e-02\n",
      " 6.68815385e-02 0.00000000e+00 0.00000000e+00 5.41172745e-02\n",
      " 2.24845785e-02]\n"
     ]
    },
    {
     "data": {
      "image/png": "[encoded data removed]",
      "text/plain": [
       "<Figure size 504x144 with 1 Axes>"
      ]
     },
     "metadata": {
      "needs_background": "light"
     },
     "output_type": "display_data"
    }
   ],
   "source": [
    "# 説明変数の重要度を出力する\n",
    "# scikit-learnで算出される重要度は、ある説明変数による不純度の減少量合計である。\n",
    "print(clf.feature_importances_)\n",
    "pd.DataFrame(clf.feature_importances_, index=X.columns).plot.bar(figsize=(7,2))\n",
    "plt.ylabel(\"Importance\")\n",
    "plt.xlabel(\"Features\")\n",
    "plt.show()"
   ]
  },
  {
   "cell_type": "markdown",
   "metadata": {},
   "source": [
    "# STEP.14 XGBoostでの実装"
   ]
  },
  {
   "cell_type": "code",
   "execution_count": 73,
   "metadata": {},
   "outputs": [],
   "source": [
    "dtrain = xgb.DMatrix(X_train_kf, label=y_train)\n",
    "dtest = xgb.DMatrix(X_test_kf, label=y_test)"
   ]
  },
  {
   "cell_type": "code",
   "execution_count": 74,
   "metadata": {},
   "outputs": [
    {
     "name": "stderr",
     "output_type": "stream",
     "text": [
      "/home/ec2-user/anaconda3/lib/python3.7/site-packages/sklearn/model_selection/_split.py:1978: FutureWarning: The default value of cv will change from 3 to 5 in version 0.22. Specify it explicitly to silence this warning.\n",
      "  warnings.warn(CV_WARNING, FutureWarning)\n",
      "[Parallel(n_jobs=-1)]: Using backend SequentialBackend with 1 concurrent workers.\n"
     ]
    },
    {
     "name": "stdout",
     "output_type": "stream",
     "text": [
      "Fitting 3 folds for each of 9 candidates, totalling 27 fits\n"
     ]
    },
    {
     "name": "stderr",
     "output_type": "stream",
     "text": [
      "[Parallel(n_jobs=-1)]: Done  27 out of  27 | elapsed: 39.2min finished\n"
     ]
    },
    {
     "name": "stdout",
     "output_type": "stream",
     "text": [
      "{'max_depth': 6, 'n_estimators': 200} 0.6966991612786997\n"
     ]
    }
   ],
   "source": [
    "clf = xgb.XGBClassifier()\n",
    "\n",
    "# ハイパーパラメータ探索\n",
    "clf_cv = GridSearchCV(clf, {'max_depth': [2,4,6], 'n_estimators': [50,100,200]}, verbose=1, n_jobs=cpu_cnt)\n",
    "clf_cv.fit(X_train_kf, y_train)\n",
    "print(clf_cv.best_params_, clf_cv.best_score_)"
   ]
  },
  {
   "cell_type": "code",
   "execution_count": 75,
   "metadata": {},
   "outputs": [],
   "source": [
    "# 改めて最適パラメータで学習\n",
    "clf = xgb.XGBClassifier(**clf_cv.best_params_, n_jobs=cpu_cnt)\n",
    "clf.fit(X_train_kf, y_train)\n",
    "# ホールドアウトのデータで予測\n",
    "y_pred_test = clf.predict(X_test_kf)"
   ]
  },
  {
   "cell_type": "code",
   "execution_count": 76,
   "metadata": {},
   "outputs": [
    {
     "name": "stdout",
     "output_type": "stream",
     "text": [
      "acs: 0.699743781360094\n",
      "log_loss:- 10.370546376530395\n",
      "AUC: 0.6287321345725542\n"
     ]
    },
    {
     "data": {
      "image/png": "[encoded data removed]",
      "text/plain": [
       "<Figure size 432x288 with 1 Axes>"
      ]
     },
     "metadata": {
      "needs_background": "light"
     },
     "output_type": "display_data"
    }
   ],
   "source": [
    "fx_roc_curve(y_test, y_pred_test)"
   ]
  },
  {
   "cell_type": "markdown",
   "metadata": {},
   "source": [
    "# STEP.15 ニューラルネットワークで実装"
   ]
  },
  {
   "cell_type": "code",
   "execution_count": 77,
   "metadata": {},
   "outputs": [],
   "source": [
    "# 説明変数が多すぎて計算リソースが足りないのでやめとく"
   ]
  },
  {
   "cell_type": "code",
   "execution_count": null,
   "metadata": {},
   "outputs": [],
   "source": []
  }
 ],
 "metadata": {
  "kernelspec": {
   "display_name": "Python 3",
   "language": "python",
   "name": "python3"
  },
  "language_info": {
   "codemirror_mode": {
    "name": "ipython",
    "version": 3
   },
   "file_extension": ".py",
   "mimetype": "text/x-python",
   "name": "python",
   "nbconvert_exporter": "python",
   "pygments_lexer": "ipython3",
   "version": "3.7.3"
  }
 },
 "nbformat": 4,
 "nbformat_minor": 2
}
