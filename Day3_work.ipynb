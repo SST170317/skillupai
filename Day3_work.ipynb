{
 "cells": [
  {
   "cell_type": "markdown",
   "metadata": {},
   "source": [
    "# STEP.1 必要なライブラリのインポート"
   ]
  },
  {
   "cell_type": "code",
   "execution_count": 1,
   "metadata": {},
   "outputs": [],
   "source": [
    "%matplotlib inline\n",
    "import pandas as pd\n",
    "import numpy as np\n",
    "import matplotlib.pyplot as plt\n",
    "import datetime\n",
    "import seaborn as sns\n",
    "import pydotplus\n",
    "import xgboost as xgb\n",
    "\n",
    "from sklearn.model_selection import GridSearchCV\n",
    "from IPython.display import Image\n",
    "from sklearn.svm import SVC\n",
    "from sklearn.svm import LinearSVC\n",
    "from sklearn.feature_selection import RFECV\n",
    "from sklearn.linear_model import LassoCV\n",
    "from sklearn.feature_selection import SelectFromModel\n",
    "from sklearn.linear_model import SGDClassifier\n",
    "from sklearn.metrics import log_loss, accuracy_score, confusion_matrix, roc_auc_score, roc_curve\n",
    "from sklearn.model_selection import train_test_split # ホールドアウト法に関する関数\n",
    "from sklearn.model_selection import KFold # 交差検証法に関する関数\n",
    "from sklearn.preprocessing import StandardScaler\n",
    "from sklearn.model_selection import cross_val_score, cross_validate, StratifiedKFold, cross_val_predict\n",
    "from sklearn.tree import DecisionTreeClassifier, export_graphviz\n",
    "from sklearn.ensemble import RandomForestClassifier\n",
    "\n",
    "from tensorflow.compat.v1.keras import Sequential\n",
    "from tensorflow.compat.v1.keras.layers import Dense, Dropout, Activation\n",
    "from tensorflow.compat.v1.keras.optimizers import SGD,RMSprop, Adagrad, Adadelta, Adam\n",
    "from tensorflow.compat.v1.keras.models import load_model"
   ]
  },
  {
   "cell_type": "markdown",
   "metadata": {},
   "source": [
    "# STEP.2 CSVファイルの読み込み"
   ]
  },
  {
   "cell_type": "code",
   "execution_count": 2,
   "metadata": {},
   "outputs": [],
   "source": [
    "# CSVファイルの読み込み\n",
    "df = pd.read_csv('ks-projects-201801.csv')\n",
    "df.head(3)\n",
    "\n",
    "# 使用するCPU数を指定しておく\n",
    "cpu_cnt=-1"
   ]
  },
  {
   "cell_type": "code",
   "execution_count": 3,
   "metadata": {},
   "outputs": [
    {
     "name": "stdout",
     "output_type": "stream",
     "text": [
      "378661\n"
     ]
    }
   ],
   "source": [
    "# 件数の確認\n",
    "print(len(df))"
   ]
  },
  {
   "cell_type": "markdown",
   "metadata": {},
   "source": [
    "# STEP.3 欠損値の処理"
   ]
  },
  {
   "cell_type": "code",
   "execution_count": 4,
   "metadata": {},
   "outputs": [
    {
     "data": {
      "text/plain": [
       "ID                     0\n",
       "name                   4\n",
       "category               0\n",
       "main_category          0\n",
       "currency               0\n",
       "deadline               0\n",
       "goal                   0\n",
       "launched               0\n",
       "pledged                0\n",
       "state                  0\n",
       "backers                0\n",
       "country                0\n",
       "usd pledged         3797\n",
       "usd_pledged_real       0\n",
       "usd_goal_real          0\n",
       "dtype: int64"
      ]
     },
     "execution_count": 4,
     "metadata": {},
     "output_type": "execute_result"
    }
   ],
   "source": [
    "# 欠損値の確認\n",
    "df.isnull().sum()"
   ]
  },
  {
   "cell_type": "code",
   "execution_count": 5,
   "metadata": {},
   "outputs": [
    {
     "data": {
      "text/plain": [
       "ID                  0\n",
       "name                4\n",
       "category            0\n",
       "main_category       0\n",
       "currency            0\n",
       "deadline            0\n",
       "goal                0\n",
       "launched            0\n",
       "pledged             0\n",
       "state               0\n",
       "backers             0\n",
       "country             0\n",
       "usd pledged         0\n",
       "usd_pledged_real    0\n",
       "usd_goal_real       0\n",
       "dtype: int64"
      ]
     },
     "execution_count": 5,
     "metadata": {},
     "output_type": "execute_result"
    }
   ],
   "source": [
    "# 暫定で０埋めにする\n",
    "df['usd pledged'] = df['usd pledged'].fillna('0')\n",
    "df.isnull().sum()"
   ]
  },
  {
   "cell_type": "markdown",
   "metadata": {},
   "source": [
    "※↑usd pledgedは後で消すことになる  \n",
    "本来であれば、平均値・中央値で埋める等検討する  \n",
    "もし平均値をとる場合は、事前にデータの分布・分散を確認する（90点・95点・5点、の場合は平均値を使わない方が良い）  "
   ]
  },
  {
   "cell_type": "markdown",
   "metadata": {},
   "source": [
    "# STEP.4 ダミー変数の作成"
   ]
  },
  {
   "cell_type": "markdown",
   "metadata": {},
   "source": [
    "## STEP4-1.日付データの処理\n",
    "\n",
    "仮説として、クラウドファンディングが発表された日と締め切りまでの日数差が影響を及ぼしているとして、説明変数に加える"
   ]
  },
  {
   "cell_type": "code",
   "execution_count": 6,
   "metadata": {},
   "outputs": [],
   "source": [
    "# 日付型に変換\n",
    "df['deadline'] = pd.to_datetime(df['deadline'])\n",
    "df['launched'] = pd.to_datetime(pd.to_datetime(df['launched']).dt.strftime('%Y-%m-%d'))"
   ]
  },
  {
   "cell_type": "code",
   "execution_count": 7,
   "metadata": {},
   "outputs": [],
   "source": [
    "# launched と deadline の差をとって、日数を計算\n",
    "df['datenum'] = (df['deadline']-df['launched']).astype('timedelta64[D]')"
   ]
  },
  {
   "cell_type": "markdown",
   "metadata": {},
   "source": [
    "## STEP4-2.目的変数の処理\n",
    "\n",
    "目的変数は、成功する場合のみをターゲットとするため、成功の場合は1、成功以外の場合は2とする"
   ]
  },
  {
   "cell_type": "code",
   "execution_count": 8,
   "metadata": {},
   "outputs": [],
   "source": [
    "df.loc[df['state'] == 'successful', 'state_num'] = 1\n",
    "df.loc[df['state'] != 'successful', 'state_num'] = 0"
   ]
  },
  {
   "cell_type": "markdown",
   "metadata": {},
   "source": [
    "## STEP4-3.カテゴリ値の処理\n",
    "\n",
    "カテゴリ値は事前にカテゴリ値毎に目的変数の件数を確認し、極端に偏っていないかなどを確認する"
   ]
  },
  {
   "cell_type": "markdown",
   "metadata": {},
   "source": [
    "### categoryの確認"
   ]
  },
  {
   "cell_type": "code",
   "execution_count": 9,
   "metadata": {
    "scrolled": true
   },
   "outputs": [
    {
     "name": "stdout",
     "output_type": "stream",
     "text": [
      "Product Design       22314\n",
      "Documentary          16139\n",
      "Music                15727\n",
      "Tabletop Games       14180\n",
      "Shorts               12357\n",
      "Video Games          11830\n",
      "Food                 11493\n",
      "Film & Video         10108\n",
      "Fiction               9169\n",
      "Fashion               8554\n",
      "Nonfiction            8318\n",
      "Art                   8253\n",
      "Apparel               7166\n",
      "Theater               7057\n",
      "Technology            6930\n",
      "Rock                  6758\n",
      "Children's Books      6756\n",
      "Apps                  6345\n",
      "Publishing            6018\n",
      "Webseries             5762\n",
      "Photography           5752\n",
      "Indie Rock            5657\n",
      "Narrative Film        5188\n",
      "Web                   5153\n",
      "Comics                4996\n",
      "Crafts                4664\n",
      "Country & Folk        4451\n",
      "Design                4199\n",
      "Hip-Hop               3912\n",
      "Hardware              3663\n",
      "                     ...  \n",
      "Couture                275\n",
      "Blues                  268\n",
      "Animals                255\n",
      "Fabrication Tools      250\n",
      "Makerspaces            238\n",
      "Printing               238\n",
      "Movie Theaters         232\n",
      "Puzzles                231\n",
      "Bacon                  221\n",
      "Stationery             219\n",
      "Photo                  196\n",
      "Video Art              194\n",
      "Romance                190\n",
      "Knitting               181\n",
      "Workshops              164\n",
      "Crochet                162\n",
      "Translations           153\n",
      "Pet Fashion            139\n",
      "Glass                  138\n",
      "Latin                  137\n",
      "Embroidery             113\n",
      "Typography             108\n",
      "Pottery                100\n",
      "Weaving                 93\n",
      "Quilts                  81\n",
      "Residencies             69\n",
      "Letterpress             49\n",
      "Chiptune                35\n",
      "Literary Spaces         27\n",
      "Taxidermy               13\n",
      "Name: category, Length: 159, dtype: int64\n",
      "<class 'pandas.core.series.Series'>\n"
     ]
    }
   ],
   "source": [
    "# カテゴリ値の種別を確認\n",
    "vc = df['category'].value_counts()\n",
    "print(vc)\n",
    "print(type(vc))"
   ]
  },
  {
   "cell_type": "code",
   "execution_count": 10,
   "metadata": {},
   "outputs": [
    {
     "data": {
      "text/plain": [
       "114148"
      ]
     },
     "execution_count": 10,
     "metadata": {},
     "output_type": "execute_result"
    }
   ],
   "source": [
    "# 件数上位10カテゴリの分布を確認しておおよその傾向をつかむ\n",
    "df_wk = df.loc[:,['category', 'state_num']]\n",
    "df_wk = df_wk[df_wk['category'].isin(['Product Design' , 'Documentary', 'Music', 'Tabletop Games', 'Shorts', 'Video Games', 'Food', 'Film & Video'])]\n",
    "len(df_wk)"
   ]
  },
  {
   "cell_type": "code",
   "execution_count": 11,
   "metadata": {
    "scrolled": true
   },
   "outputs": [
    {
     "data": {
      "text/plain": [
       "<seaborn.axisgrid.FacetGrid at 0x7f6138f92710>"
      ]
     },
     "execution_count": 11,
     "metadata": {},
     "output_type": "execute_result"
    },
    {
     "data": {
      "image/png": "[encoded data removed]",
      "text/plain": [
       "<Figure size 416.625x360 with 1 Axes>"
      ]
     },
     "metadata": {
      "needs_background": "light"
     },
     "output_type": "display_data"
    }
   ],
   "source": [
    "sns.catplot(x=\"category\", hue=\"state_num\", data=df_wk, kind=\"count\")"
   ]
  },
  {
   "cell_type": "markdown",
   "metadata": {},
   "source": [
    "↑ categoryは特定カテゴリ値での相関が強すぎる結果はないはずなので説明変数として有効"
   ]
  },
  {
   "cell_type": "markdown",
   "metadata": {},
   "source": [
    "### main_categoryの確認"
   ]
  },
  {
   "cell_type": "code",
   "execution_count": 12,
   "metadata": {},
   "outputs": [
    {
     "name": "stdout",
     "output_type": "stream",
     "text": [
      "Film & Video    63585\n",
      "Music           51918\n",
      "Publishing      39874\n",
      "Games           35231\n",
      "Technology      32569\n",
      "Design          30070\n",
      "Art             28153\n",
      "Food            24602\n",
      "Fashion         22816\n",
      "Theater         10913\n",
      "Comics          10819\n",
      "Photography     10779\n",
      "Crafts           8809\n",
      "Journalism       4755\n",
      "Dance            3768\n",
      "Name: main_category, dtype: int64\n"
     ]
    }
   ],
   "source": [
    "vc = df['main_category'].value_counts()\n",
    "print(vc)"
   ]
  },
  {
   "cell_type": "code",
   "execution_count": 13,
   "metadata": {},
   "outputs": [
    {
     "data": {
      "text/plain": [
       "<seaborn.axisgrid.FacetGrid at 0x7f60d8e8ceb8>"
      ]
     },
     "execution_count": 13,
     "metadata": {},
     "output_type": "execute_result"
    },
    {
     "data": {
      "image/png": "[encoded data removed]",
      "text/plain": [
       "<Figure size 416.625x360 with 1 Axes>"
      ]
     },
     "metadata": {
      "needs_background": "light"
     },
     "output_type": "display_data"
    }
   ],
   "source": [
    "sns.catplot(x=\"main_category\", hue=\"state_num\", data=df, kind=\"count\")"
   ]
  },
  {
   "cell_type": "markdown",
   "metadata": {},
   "source": [
    "main_categoryは特定カテゴリ値での相関が強すぎる結果はないはずなので説明変数として有効"
   ]
  },
  {
   "cell_type": "markdown",
   "metadata": {},
   "source": [
    "### currencyカテゴリの確認"
   ]
  },
  {
   "cell_type": "code",
   "execution_count": 14,
   "metadata": {},
   "outputs": [
    {
     "data": {
      "text/plain": [
       "<seaborn.axisgrid.FacetGrid at 0x7f60d94a7dd8>"
      ]
     },
     "execution_count": 14,
     "metadata": {},
     "output_type": "execute_result"
    },
    {
     "data": {
      "image/png": "[encoded data removed]",
      "text/plain": [
       "<Figure size 416.625x360 with 1 Axes>"
      ]
     },
     "metadata": {
      "needs_background": "light"
     },
     "output_type": "display_data"
    }
   ],
   "source": [
    "sns.catplot(x=\"currency\", hue=\"state_num\", data=df, kind=\"count\")"
   ]
  },
  {
   "cell_type": "markdown",
   "metadata": {},
   "source": [
    "currencyは特定カテゴリ値での相関が強すぎる結果はないはずだが、そもそもUSDしかないのであれば説明変数で不要か"
   ]
  },
  {
   "cell_type": "markdown",
   "metadata": {},
   "source": [
    "### countryカテゴリの確認"
   ]
  },
  {
   "cell_type": "code",
   "execution_count": 15,
   "metadata": {},
   "outputs": [
    {
     "data": {
      "text/plain": [
       "<seaborn.axisgrid.FacetGrid at 0x7f60bce631d0>"
      ]
     },
     "execution_count": 15,
     "metadata": {},
     "output_type": "execute_result"
    },
    {
     "data": {
      "image/png": "[encoded data removed]",
      "text/plain": [
       "<Figure size 416.625x360 with 1 Axes>"
      ]
     },
     "metadata": {
      "needs_background": "light"
     },
     "output_type": "display_data"
    }
   ],
   "source": [
    "sns.catplot(x=\"country\", hue=\"state_num\", data=df, kind=\"count\")"
   ]
  },
  {
   "cell_type": "markdown",
   "metadata": {},
   "source": [
    "countryは特定カテゴリ値での相関が強すぎる結果はないはずだが、そもそもUSAしかないのであれば説明変数で不要か"
   ]
  },
  {
   "cell_type": "markdown",
   "metadata": {},
   "source": [
    "## STEP4-4.カテゴリ値の変換（OneHotEncoding）"
   ]
  },
  {
   "cell_type": "code",
   "execution_count": 16,
   "metadata": {},
   "outputs": [],
   "source": [
    "# OneHotEncoding\n",
    "#df = pd.get_dummies(df, columns=['category','main_category'])\n",
    "#df.describe()"
   ]
  },
  {
   "cell_type": "markdown",
   "metadata": {},
   "source": [
    "#### ※OneHotEncodinを実施したいが、学習に時間がかかりすぎるので今回はカテゴリ値に変換することで我慢する"
   ]
  },
  {
   "cell_type": "markdown",
   "metadata": {},
   "source": [
    "## STEP4-4.カテゴリ値の変換（区分値）"
   ]
  },
  {
   "cell_type": "code",
   "execution_count": 17,
   "metadata": {},
   "outputs": [],
   "source": [
    "# カテゴリ値版\n",
    "# categoryをカテゴリ値に変換\n",
    "labels, uniques = pd.factorize(df['category'])\n",
    "df['category'] = labels\n",
    "\n",
    "# main_categoryをカテゴリ値に変換\n",
    "labels, uniques = pd.factorize(df['main_category'])\n",
    "df['main_category'] = labels\n"
   ]
  },
  {
   "cell_type": "markdown",
   "metadata": {},
   "source": [
    "## STEP4-5.一次前処理結果の確認"
   ]
  },
  {
   "cell_type": "code",
   "execution_count": 18,
   "metadata": {},
   "outputs": [
    {
     "data": {
      "text/html": [
       "<div>\n",
       "<style scoped>\n",
       "    .dataframe tbody tr th:only-of-type {\n",
       "        vertical-align: middle;\n",
       "    }\n",
       "\n",
       "    .dataframe tbody tr th {\n",
       "        vertical-align: top;\n",
       "    }\n",
       "\n",
       "    .dataframe thead th {\n",
       "        text-align: right;\n",
       "    }\n",
       "</style>\n",
       "<table border=\"1\" class=\"dataframe\">\n",
       "  <thead>\n",
       "    <tr style=\"text-align: right;\">\n",
       "      <th></th>\n",
       "      <th>ID</th>\n",
       "      <th>category</th>\n",
       "      <th>main_category</th>\n",
       "      <th>goal</th>\n",
       "      <th>pledged</th>\n",
       "      <th>backers</th>\n",
       "      <th>usd_pledged_real</th>\n",
       "      <th>usd_goal_real</th>\n",
       "      <th>datenum</th>\n",
       "      <th>state_num</th>\n",
       "    </tr>\n",
       "  </thead>\n",
       "  <tbody>\n",
       "    <tr>\n",
       "      <th>count</th>\n",
       "      <td>3.786610e+05</td>\n",
       "      <td>378661.000000</td>\n",
       "      <td>378661.000000</td>\n",
       "      <td>3.786610e+05</td>\n",
       "      <td>3.786610e+05</td>\n",
       "      <td>378661.000000</td>\n",
       "      <td>3.786610e+05</td>\n",
       "      <td>3.786610e+05</td>\n",
       "      <td>378661.000000</td>\n",
       "      <td>378661.000000</td>\n",
       "    </tr>\n",
       "    <tr>\n",
       "      <th>mean</th>\n",
       "      <td>1.074731e+09</td>\n",
       "      <td>38.764401</td>\n",
       "      <td>4.964591</td>\n",
       "      <td>4.908079e+04</td>\n",
       "      <td>9.682979e+03</td>\n",
       "      <td>105.617476</td>\n",
       "      <td>9.058924e+03</td>\n",
       "      <td>4.545440e+04</td>\n",
       "      <td>34.481095</td>\n",
       "      <td>0.353762</td>\n",
       "    </tr>\n",
       "    <tr>\n",
       "      <th>std</th>\n",
       "      <td>6.190862e+08</td>\n",
       "      <td>34.478769</td>\n",
       "      <td>4.105380</td>\n",
       "      <td>1.183391e+06</td>\n",
       "      <td>9.563601e+04</td>\n",
       "      <td>907.185035</td>\n",
       "      <td>9.097334e+04</td>\n",
       "      <td>1.152950e+06</td>\n",
       "      <td>65.909173</td>\n",
       "      <td>0.478137</td>\n",
       "    </tr>\n",
       "    <tr>\n",
       "      <th>min</th>\n",
       "      <td>5.971000e+03</td>\n",
       "      <td>0.000000</td>\n",
       "      <td>0.000000</td>\n",
       "      <td>1.000000e-02</td>\n",
       "      <td>0.000000e+00</td>\n",
       "      <td>0.000000</td>\n",
       "      <td>0.000000e+00</td>\n",
       "      <td>1.000000e-02</td>\n",
       "      <td>1.000000</td>\n",
       "      <td>0.000000</td>\n",
       "    </tr>\n",
       "    <tr>\n",
       "      <th>25%</th>\n",
       "      <td>5.382635e+08</td>\n",
       "      <td>9.000000</td>\n",
       "      <td>1.000000</td>\n",
       "      <td>2.000000e+03</td>\n",
       "      <td>3.000000e+01</td>\n",
       "      <td>2.000000</td>\n",
       "      <td>3.100000e+01</td>\n",
       "      <td>2.000000e+03</td>\n",
       "      <td>30.000000</td>\n",
       "      <td>0.000000</td>\n",
       "    </tr>\n",
       "    <tr>\n",
       "      <th>50%</th>\n",
       "      <td>1.075276e+09</td>\n",
       "      <td>30.000000</td>\n",
       "      <td>4.000000</td>\n",
       "      <td>5.200000e+03</td>\n",
       "      <td>6.200000e+02</td>\n",
       "      <td>12.000000</td>\n",
       "      <td>6.243300e+02</td>\n",
       "      <td>5.500000e+03</td>\n",
       "      <td>30.000000</td>\n",
       "      <td>0.000000</td>\n",
       "    </tr>\n",
       "    <tr>\n",
       "      <th>75%</th>\n",
       "      <td>1.610149e+09</td>\n",
       "      <td>55.000000</td>\n",
       "      <td>8.000000</td>\n",
       "      <td>1.600000e+04</td>\n",
       "      <td>4.076000e+03</td>\n",
       "      <td>56.000000</td>\n",
       "      <td>4.050000e+03</td>\n",
       "      <td>1.550000e+04</td>\n",
       "      <td>37.000000</td>\n",
       "      <td>1.000000</td>\n",
       "    </tr>\n",
       "    <tr>\n",
       "      <th>max</th>\n",
       "      <td>2.147476e+09</td>\n",
       "      <td>158.000000</td>\n",
       "      <td>14.000000</td>\n",
       "      <td>1.000000e+08</td>\n",
       "      <td>2.033899e+07</td>\n",
       "      <td>219382.000000</td>\n",
       "      <td>2.033899e+07</td>\n",
       "      <td>1.663614e+08</td>\n",
       "      <td>16739.000000</td>\n",
       "      <td>1.000000</td>\n",
       "    </tr>\n",
       "  </tbody>\n",
       "</table>\n",
       "</div>"
      ],
      "text/plain": [
       "                 ID       category  main_category          goal       pledged  \\\n",
       "count  3.786610e+05  378661.000000  378661.000000  3.786610e+05  3.786610e+05   \n",
       "mean   1.074731e+09      38.764401       4.964591  4.908079e+04  9.682979e+03   \n",
       "std    6.190862e+08      34.478769       4.105380  1.183391e+06  9.563601e+04   \n",
       "min    5.971000e+03       0.000000       0.000000  1.000000e-02  0.000000e+00   \n",
       "25%    5.382635e+08       9.000000       1.000000  2.000000e+03  3.000000e+01   \n",
       "50%    1.075276e+09      30.000000       4.000000  5.200000e+03  6.200000e+02   \n",
       "75%    1.610149e+09      55.000000       8.000000  1.600000e+04  4.076000e+03   \n",
       "max    2.147476e+09     158.000000      14.000000  1.000000e+08  2.033899e+07   \n",
       "\n",
       "             backers  usd_pledged_real  usd_goal_real        datenum  \\\n",
       "count  378661.000000      3.786610e+05   3.786610e+05  378661.000000   \n",
       "mean      105.617476      9.058924e+03   4.545440e+04      34.481095   \n",
       "std       907.185035      9.097334e+04   1.152950e+06      65.909173   \n",
       "min         0.000000      0.000000e+00   1.000000e-02       1.000000   \n",
       "25%         2.000000      3.100000e+01   2.000000e+03      30.000000   \n",
       "50%        12.000000      6.243300e+02   5.500000e+03      30.000000   \n",
       "75%        56.000000      4.050000e+03   1.550000e+04      37.000000   \n",
       "max    219382.000000      2.033899e+07   1.663614e+08   16739.000000   \n",
       "\n",
       "           state_num  \n",
       "count  378661.000000  \n",
       "mean        0.353762  \n",
       "std         0.478137  \n",
       "min         0.000000  \n",
       "25%         0.000000  \n",
       "50%         0.000000  \n",
       "75%         1.000000  \n",
       "max         1.000000  "
      ]
     },
     "execution_count": 18,
     "metadata": {},
     "output_type": "execute_result"
    }
   ],
   "source": [
    "df.describe()"
   ]
  },
  {
   "cell_type": "markdown",
   "metadata": {},
   "source": [
    "# STEP.5 説明変数・目的変数の取り出し"
   ]
  },
  {
   "cell_type": "markdown",
   "metadata": {},
   "source": [
    "## STEP5-1.不要説明変数の削除\n",
    "\n",
    "以下説明変数は不要  \n",
    "　- ID：恐らくlaunched毎に新しく振られるので意味がない  \n",
    "　- currency：基礎解析結果、ほとんどUSDなので不要と判断  \n",
    "　- country：基礎解析結果、ほとんどUSAなので不要と判断  \n",
    "　- name：もし仮にネーミングが効くなら言語処理をしなければいけないので、今回はパス  \n",
    "　- deadline：launchedとの日数差を説明変数にしたので不要  \n",
    "　- launched：同↑  \n",
    "　- state：目的変数として前処理したので不要  \n",
    "　- backers：募集した結果集まった人数だと思われるので、予測時点では使えないので削除  \n",
    "　- pledged：募集した結果集まった金額だと思われるので、予測時点では使えないので削除  \n",
    "　- usd pledged：usd_pledged_realにより正確な値が入っていると思われるので削除  "
   ]
  },
  {
   "cell_type": "code",
   "execution_count": 19,
   "metadata": {},
   "outputs": [],
   "source": [
    "# 不要な説明変数の設定\n",
    "drop_col = ['ID', 'currency', 'country', 'name','deadline','launched','state','backers','pledged','usd pledged']"
   ]
  },
  {
   "cell_type": "code",
   "execution_count": 20,
   "metadata": {},
   "outputs": [
    {
     "data": {
      "text/html": [
       "<div>\n",
       "<style scoped>\n",
       "    .dataframe tbody tr th:only-of-type {\n",
       "        vertical-align: middle;\n",
       "    }\n",
       "\n",
       "    .dataframe tbody tr th {\n",
       "        vertical-align: top;\n",
       "    }\n",
       "\n",
       "    .dataframe thead th {\n",
       "        text-align: right;\n",
       "    }\n",
       "</style>\n",
       "<table border=\"1\" class=\"dataframe\">\n",
       "  <thead>\n",
       "    <tr style=\"text-align: right;\">\n",
       "      <th></th>\n",
       "      <th>category</th>\n",
       "      <th>main_category</th>\n",
       "      <th>goal</th>\n",
       "      <th>usd_pledged_real</th>\n",
       "      <th>usd_goal_real</th>\n",
       "      <th>datenum</th>\n",
       "      <th>state_num</th>\n",
       "    </tr>\n",
       "  </thead>\n",
       "  <tbody>\n",
       "    <tr>\n",
       "      <th>0</th>\n",
       "      <td>0</td>\n",
       "      <td>0</td>\n",
       "      <td>1000.0</td>\n",
       "      <td>0.0</td>\n",
       "      <td>1533.95</td>\n",
       "      <td>59.0</td>\n",
       "      <td>0.0</td>\n",
       "    </tr>\n",
       "    <tr>\n",
       "      <th>1</th>\n",
       "      <td>1</td>\n",
       "      <td>1</td>\n",
       "      <td>30000.0</td>\n",
       "      <td>2421.0</td>\n",
       "      <td>30000.00</td>\n",
       "      <td>60.0</td>\n",
       "      <td>0.0</td>\n",
       "    </tr>\n",
       "    <tr>\n",
       "      <th>2</th>\n",
       "      <td>1</td>\n",
       "      <td>1</td>\n",
       "      <td>45000.0</td>\n",
       "      <td>220.0</td>\n",
       "      <td>45000.00</td>\n",
       "      <td>45.0</td>\n",
       "      <td>0.0</td>\n",
       "    </tr>\n",
       "  </tbody>\n",
       "</table>\n",
       "</div>"
      ],
      "text/plain": [
       "   category  main_category     goal  usd_pledged_real  usd_goal_real  datenum  \\\n",
       "0         0              0   1000.0               0.0        1533.95     59.0   \n",
       "1         1              1  30000.0            2421.0       30000.00     60.0   \n",
       "2         1              1  45000.0             220.0       45000.00     45.0   \n",
       "\n",
       "   state_num  \n",
       "0        0.0  \n",
       "1        0.0  \n",
       "2        0.0  "
      ]
     },
     "execution_count": 20,
     "metadata": {},
     "output_type": "execute_result"
    }
   ],
   "source": [
    "# 不要列の削除\n",
    "df=df.drop(drop_col, axis=1)\n",
    "df.head(3)"
   ]
  },
  {
   "cell_type": "markdown",
   "metadata": {},
   "source": [
    "## STEP5-2.説明変数間の相関を確認"
   ]
  },
  {
   "cell_type": "code",
   "execution_count": 21,
   "metadata": {},
   "outputs": [
    {
     "data": {
      "image/png": "[encoded data removed]",
      "text/plain": [
       "<Figure size 720x720 with 25 Axes>"
      ]
     },
     "metadata": {
      "needs_background": "light"
     },
     "output_type": "display_data"
    }
   ],
   "source": [
    "df_wk = df.loc[:,['goal', 'usd_pledged_real', 'datenum', 'category', 'main_category']]\n",
    "pd.plotting.scatter_matrix(df_wk, figsize=(10,10))\n",
    "plt.show()"
   ]
  },
  {
   "cell_type": "code",
   "execution_count": 22,
   "metadata": {},
   "outputs": [
    {
     "data": {
      "image/png": "[encoded data removed]",
      "text/plain": [
       "<Figure size 432x288 with 2 Axes>"
      ]
     },
     "metadata": {
      "needs_background": "light"
     },
     "output_type": "display_data"
    }
   ],
   "source": [
    "# 相関係数をヒートマップにして可視化\n",
    "sns.heatmap(df_wk.corr())\n",
    "plt.show()\n",
    "\n",
    "# メモリ食うので削除\n",
    "del df_wk"
   ]
  },
  {
   "cell_type": "markdown",
   "metadata": {},
   "source": [
    "恐らく相関が強すぎる説明変数はなくなったのでOK  \n",
    "いったん使用する説明変数はここで確定させる"
   ]
  },
  {
   "cell_type": "markdown",
   "metadata": {},
   "source": [
    "# STEP.6 外れ値処理"
   ]
  },
  {
   "cell_type": "markdown",
   "metadata": {},
   "source": [
    "## STEP6-1.箱ひげ図でデータの分布を確認する"
   ]
  },
  {
   "cell_type": "code",
   "execution_count": 23,
   "metadata": {},
   "outputs": [
    {
     "data": {
      "text/plain": [
       "goal          AxesSubplot(0.125,0.125;0.352273x0.755)\n",
       "datenum    AxesSubplot(0.547727,0.125;0.352273x0.755)\n",
       "dtype: object"
      ]
     },
     "execution_count": 23,
     "metadata": {},
     "output_type": "execute_result"
    },
    {
     "data": {
      "image/png": "[encoded data removed]",
      "text/plain": [
       "<Figure size 432x288 with 2 Axes>"
      ]
     },
     "metadata": {
      "needs_background": "light"
     },
     "output_type": "display_data"
    }
   ],
   "source": [
    "# いったん箱ひげ図で確認\n",
    "df_wk = df.loc[:,['goal', 'datenum']]\n",
    "df_wk.plot(kind='box', subplots=True, sharex=True)"
   ]
  },
  {
   "cell_type": "markdown",
   "metadata": {},
   "source": [
    "明らかに外れ値があることが見て取れるので削除しにかかる  \n",
    "念のため、統計量も確認しておく"
   ]
  },
  {
   "cell_type": "code",
   "execution_count": 24,
   "metadata": {},
   "outputs": [
    {
     "data": {
      "text/html": [
       "<div>\n",
       "<style scoped>\n",
       "    .dataframe tbody tr th:only-of-type {\n",
       "        vertical-align: middle;\n",
       "    }\n",
       "\n",
       "    .dataframe tbody tr th {\n",
       "        vertical-align: top;\n",
       "    }\n",
       "\n",
       "    .dataframe thead th {\n",
       "        text-align: right;\n",
       "    }\n",
       "</style>\n",
       "<table border=\"1\" class=\"dataframe\">\n",
       "  <thead>\n",
       "    <tr style=\"text-align: right;\">\n",
       "      <th></th>\n",
       "      <th>goal</th>\n",
       "      <th>datenum</th>\n",
       "    </tr>\n",
       "  </thead>\n",
       "  <tbody>\n",
       "    <tr>\n",
       "      <th>count</th>\n",
       "      <td>3.786610e+05</td>\n",
       "      <td>378661.000000</td>\n",
       "    </tr>\n",
       "    <tr>\n",
       "      <th>mean</th>\n",
       "      <td>4.908079e+04</td>\n",
       "      <td>34.481095</td>\n",
       "    </tr>\n",
       "    <tr>\n",
       "      <th>std</th>\n",
       "      <td>1.183391e+06</td>\n",
       "      <td>65.909173</td>\n",
       "    </tr>\n",
       "    <tr>\n",
       "      <th>min</th>\n",
       "      <td>1.000000e-02</td>\n",
       "      <td>1.000000</td>\n",
       "    </tr>\n",
       "    <tr>\n",
       "      <th>25%</th>\n",
       "      <td>2.000000e+03</td>\n",
       "      <td>30.000000</td>\n",
       "    </tr>\n",
       "    <tr>\n",
       "      <th>50%</th>\n",
       "      <td>5.200000e+03</td>\n",
       "      <td>30.000000</td>\n",
       "    </tr>\n",
       "    <tr>\n",
       "      <th>75%</th>\n",
       "      <td>1.600000e+04</td>\n",
       "      <td>37.000000</td>\n",
       "    </tr>\n",
       "    <tr>\n",
       "      <th>max</th>\n",
       "      <td>1.000000e+08</td>\n",
       "      <td>16739.000000</td>\n",
       "    </tr>\n",
       "  </tbody>\n",
       "</table>\n",
       "</div>"
      ],
      "text/plain": [
       "               goal        datenum\n",
       "count  3.786610e+05  378661.000000\n",
       "mean   4.908079e+04      34.481095\n",
       "std    1.183391e+06      65.909173\n",
       "min    1.000000e-02       1.000000\n",
       "25%    2.000000e+03      30.000000\n",
       "50%    5.200000e+03      30.000000\n",
       "75%    1.600000e+04      37.000000\n",
       "max    1.000000e+08   16739.000000"
      ]
     },
     "execution_count": 24,
     "metadata": {},
     "output_type": "execute_result"
    }
   ],
   "source": [
    "# 統計量を再確認する\n",
    "df_wk.describe()"
   ]
  },
  {
   "cell_type": "markdown",
   "metadata": {},
   "source": [
    "## STEP6-2.外れ値の削除処理\n",
    "\n",
    "3σより外の値は外れ値とみなして削除する"
   ]
  },
  {
   "cell_type": "code",
   "execution_count": 25,
   "metadata": {},
   "outputs": [],
   "source": [
    "# 3σで削除する関数定義\n",
    "def sigma3(df, col):\n",
    "    mean = df[col].mean()\n",
    "    sigma = df[col].std()\n",
    "    low = mean - 3 * sigma\n",
    "    high = mean + 3 * sigma\n",
    "    df = df[(df[col]>low) & (df[col]<high)]\n",
    "    sns.distplot(df[col])\n",
    "    return df"
   ]
  },
  {
   "cell_type": "markdown",
   "metadata": {},
   "source": [
    "### datenum"
   ]
  },
  {
   "cell_type": "code",
   "execution_count": 26,
   "metadata": {},
   "outputs": [
    {
     "data": {
      "text/plain": [
       "<matplotlib.axes._subplots.AxesSubplot at 0x7f60d7ce3240>"
      ]
     },
     "execution_count": 26,
     "metadata": {},
     "output_type": "execute_result"
    },
    {
     "data": {
      "image/png": "[encoded data removed]",
      "text/plain": [
       "<Figure size 432x288 with 1 Axes>"
      ]
     },
     "metadata": {
      "needs_background": "light"
     },
     "output_type": "display_data"
    }
   ],
   "source": [
    "col = 'datenum'\n",
    "# 現状の散布図確認\n",
    "sns.distplot(df[col])"
   ]
  },
  {
   "cell_type": "code",
   "execution_count": 27,
   "metadata": {},
   "outputs": [
    {
     "data": {
      "text/plain": [
       "count    378661.000000\n",
       "mean         34.481095\n",
       "std          65.909173\n",
       "min           1.000000\n",
       "25%          30.000000\n",
       "50%          30.000000\n",
       "75%          37.000000\n",
       "max       16739.000000\n",
       "Name: datenum, dtype: float64"
      ]
     },
     "execution_count": 27,
     "metadata": {},
     "output_type": "execute_result"
    }
   ],
   "source": [
    "df[col].describe()"
   ]
  },
  {
   "cell_type": "markdown",
   "metadata": {},
   "source": [
    "↑MAX値が16739日のデータがあるので明らか外れ値"
   ]
  },
  {
   "cell_type": "code",
   "execution_count": 28,
   "metadata": {},
   "outputs": [
    {
     "data": {
      "image/png": "[encoded data removed]",
      "text/plain": [
       "<Figure size 432x288 with 1 Axes>"
      ]
     },
     "metadata": {
      "needs_background": "light"
     },
     "output_type": "display_data"
    }
   ],
   "source": [
    "# 3σより外の値を消す\n",
    "df = sigma3(df, col)"
   ]
  },
  {
   "cell_type": "code",
   "execution_count": 29,
   "metadata": {},
   "outputs": [
    {
     "data": {
      "text/plain": [
       "count    378654.000000\n",
       "mean         34.203394\n",
       "std          12.793171\n",
       "min           1.000000\n",
       "25%          30.000000\n",
       "50%          30.000000\n",
       "75%          37.000000\n",
       "max          92.000000\n",
       "Name: datenum, dtype: float64"
      ]
     },
     "execution_count": 29,
     "metadata": {},
     "output_type": "execute_result"
    }
   ],
   "source": [
    "df[col].describe()"
   ]
  },
  {
   "cell_type": "markdown",
   "metadata": {},
   "source": [
    "おさまったっぽいのでいったんこれでヨシとする"
   ]
  },
  {
   "cell_type": "markdown",
   "metadata": {},
   "source": [
    "### goal"
   ]
  },
  {
   "cell_type": "code",
   "execution_count": 30,
   "metadata": {},
   "outputs": [
    {
     "data": {
      "text/plain": [
       "<matplotlib.axes._subplots.AxesSubplot at 0x7f60d7b941d0>"
      ]
     },
     "execution_count": 30,
     "metadata": {},
     "output_type": "execute_result"
    },
    {
     "data": {
      "image/png": "[encoded data removed]",
      "text/plain": [
       "<Figure size 432x288 with 1 Axes>"
      ]
     },
     "metadata": {
      "needs_background": "light"
     },
     "output_type": "display_data"
    }
   ],
   "source": [
    "col = 'goal'\n",
    "\n",
    "# 現状の散布図確認\n",
    "sns.distplot(df[col])"
   ]
  },
  {
   "cell_type": "code",
   "execution_count": 31,
   "metadata": {},
   "outputs": [
    {
     "data": {
      "text/plain": [
       "count       378654.000000\n",
       "mean         49081.600876\n",
       "std        1183402.182306\n",
       "min              0.010000\n",
       "25%           2000.000000\n",
       "50%           5200.000000\n",
       "75%          16000.000000\n",
       "max      100000000.000000\n",
       "Name: goal, dtype: object"
      ]
     },
     "execution_count": 31,
     "metadata": {},
     "output_type": "execute_result"
    }
   ],
   "source": [
    "df[col].describe().apply(lambda x: format(x, 'f'))"
   ]
  },
  {
   "cell_type": "markdown",
   "metadata": {},
   "source": [
    "↑MAX値が100000000.000000のデータがあるので明らか外れ値"
   ]
  },
  {
   "cell_type": "code",
   "execution_count": 32,
   "metadata": {},
   "outputs": [
    {
     "data": {
      "image/png": "[encoded data removed]",
      "text/plain": [
       "<Figure size 432x288 with 1 Axes>"
      ]
     },
     "metadata": {
      "needs_background": "light"
     },
     "output_type": "display_data"
    }
   ],
   "source": [
    "# 3σより外の値を消す\n",
    "df = sigma3(df, col)"
   ]
  },
  {
   "cell_type": "code",
   "execution_count": 33,
   "metadata": {},
   "outputs": [
    {
     "data": {
      "text/plain": [
       "count     378249.000000\n",
       "mean       25619.495415\n",
       "std       111742.421127\n",
       "min            0.010000\n",
       "25%         2000.000000\n",
       "50%         5100.000000\n",
       "75%        16000.000000\n",
       "max      3500000.000000\n",
       "Name: goal, dtype: object"
      ]
     },
     "execution_count": 33,
     "metadata": {},
     "output_type": "execute_result"
    }
   ],
   "source": [
    "df[col].describe().apply(lambda x: format(x, 'f'))"
   ]
  },
  {
   "cell_type": "markdown",
   "metadata": {},
   "source": [
    "まだ外れ値っぽいのでもう一回やる"
   ]
  },
  {
   "cell_type": "code",
   "execution_count": 34,
   "metadata": {},
   "outputs": [
    {
     "data": {
      "image/png": "[encoded data removed]",
      "text/plain": [
       "<Figure size 432x288 with 1 Axes>"
      ]
     },
     "metadata": {
      "needs_background": "light"
     },
     "output_type": "display_data"
    }
   ],
   "source": [
    "df = sigma3(df, col)"
   ]
  },
  {
   "cell_type": "code",
   "execution_count": 35,
   "metadata": {},
   "outputs": [
    {
     "data": {
      "text/plain": [
       "count    374678.000000\n",
       "mean      17231.733562\n",
       "std       35237.054407\n",
       "min           0.010000\n",
       "25%        2000.000000\n",
       "50%        5000.000000\n",
       "75%       15000.000000\n",
       "max      360360.000000\n",
       "Name: goal, dtype: object"
      ]
     },
     "execution_count": 35,
     "metadata": {},
     "output_type": "execute_result"
    }
   ],
   "source": [
    "df[col].describe().apply(lambda x: format(x, 'f'))"
   ]
  },
  {
   "cell_type": "markdown",
   "metadata": {},
   "source": [
    "おさまったっぽいのでいったんこれでヨシとする"
   ]
  },
  {
   "cell_type": "markdown",
   "metadata": {},
   "source": [
    "## STEP6-3.再度、箱ひげ図でデータの分布を確認する"
   ]
  },
  {
   "cell_type": "code",
   "execution_count": 36,
   "metadata": {},
   "outputs": [
    {
     "data": {
      "text/plain": [
       "goal          AxesSubplot(0.125,0.125;0.352273x0.755)\n",
       "datenum    AxesSubplot(0.547727,0.125;0.352273x0.755)\n",
       "dtype: object"
      ]
     },
     "execution_count": 36,
     "metadata": {},
     "output_type": "execute_result"
    },
    {
     "data": {
      "image/png": "[encoded data removed]",
      "text/plain": [
       "<Figure size 432x288 with 2 Axes>"
      ]
     },
     "metadata": {
      "needs_background": "light"
     },
     "output_type": "display_data"
    }
   ],
   "source": [
    "# いったん箱ひげ図で確認\n",
    "df_wk = df.loc[:,['goal', 'datenum']]\n",
    "df_wk.plot(kind='box', subplots=True, sharex=True)"
   ]
  },
  {
   "cell_type": "markdown",
   "metadata": {},
   "source": [
    "まぁそれなりっぽくなったので、これでOK？"
   ]
  },
  {
   "cell_type": "markdown",
   "metadata": {},
   "source": [
    "## STEP6-4.データ件数がどの程度減ったか確認する"
   ]
  },
  {
   "cell_type": "code",
   "execution_count": 37,
   "metadata": {},
   "outputs": [
    {
     "data": {
      "text/plain": [
       "374678"
      ]
     },
     "execution_count": 37,
     "metadata": {},
     "output_type": "execute_result"
    }
   ],
   "source": [
    "len(df)"
   ]
  },
  {
   "cell_type": "markdown",
   "metadata": {},
   "source": [
    "件数 378661→374678  \n",
    "3,983件減少しているが、370,000件あれば学習には使えると思うので、これでヨシ"
   ]
  },
  {
   "cell_type": "markdown",
   "metadata": {},
   "source": [
    "## STEP6-5.説明変数と目的変数のデータを用意する"
   ]
  },
  {
   "cell_type": "code",
   "execution_count": 38,
   "metadata": {},
   "outputs": [],
   "source": [
    "y = df['state_num'].values\n",
    "X = df[df.columns[df.columns != 'state_num']]"
   ]
  },
  {
   "cell_type": "code",
   "execution_count": 39,
   "metadata": {},
   "outputs": [
    {
     "data": {
      "text/html": [
       "<div>\n",
       "<style scoped>\n",
       "    .dataframe tbody tr th:only-of-type {\n",
       "        vertical-align: middle;\n",
       "    }\n",
       "\n",
       "    .dataframe tbody tr th {\n",
       "        vertical-align: top;\n",
       "    }\n",
       "\n",
       "    .dataframe thead th {\n",
       "        text-align: right;\n",
       "    }\n",
       "</style>\n",
       "<table border=\"1\" class=\"dataframe\">\n",
       "  <thead>\n",
       "    <tr style=\"text-align: right;\">\n",
       "      <th></th>\n",
       "      <th>category</th>\n",
       "      <th>main_category</th>\n",
       "      <th>goal</th>\n",
       "      <th>usd_pledged_real</th>\n",
       "      <th>usd_goal_real</th>\n",
       "      <th>datenum</th>\n",
       "      <th>state_num</th>\n",
       "    </tr>\n",
       "  </thead>\n",
       "  <tbody>\n",
       "    <tr>\n",
       "      <th>count</th>\n",
       "      <td>374678.000000</td>\n",
       "      <td>374678.000000</td>\n",
       "      <td>374678.000000</td>\n",
       "      <td>3.746780e+05</td>\n",
       "      <td>374678.000000</td>\n",
       "      <td>374678.000000</td>\n",
       "      <td>374678.000000</td>\n",
       "    </tr>\n",
       "    <tr>\n",
       "      <th>mean</th>\n",
       "      <td>38.694823</td>\n",
       "      <td>4.954985</td>\n",
       "      <td>17231.733562</td>\n",
       "      <td>8.574230e+03</td>\n",
       "      <td>16688.087877</td>\n",
       "      <td>34.134118</td>\n",
       "      <td>0.357168</td>\n",
       "    </tr>\n",
       "    <tr>\n",
       "      <th>std</th>\n",
       "      <td>34.437139</td>\n",
       "      <td>4.099854</td>\n",
       "      <td>35237.054407</td>\n",
       "      <td>7.390574e+04</td>\n",
       "      <td>34432.991052</td>\n",
       "      <td>12.756912</td>\n",
       "      <td>0.479166</td>\n",
       "    </tr>\n",
       "    <tr>\n",
       "      <th>min</th>\n",
       "      <td>0.000000</td>\n",
       "      <td>0.000000</td>\n",
       "      <td>0.010000</td>\n",
       "      <td>0.000000e+00</td>\n",
       "      <td>0.010000</td>\n",
       "      <td>1.000000</td>\n",
       "      <td>0.000000</td>\n",
       "    </tr>\n",
       "    <tr>\n",
       "      <th>25%</th>\n",
       "      <td>9.000000</td>\n",
       "      <td>1.000000</td>\n",
       "      <td>2000.000000</td>\n",
       "      <td>3.286000e+01</td>\n",
       "      <td>2000.000000</td>\n",
       "      <td>30.000000</td>\n",
       "      <td>0.000000</td>\n",
       "    </tr>\n",
       "    <tr>\n",
       "      <th>50%</th>\n",
       "      <td>30.000000</td>\n",
       "      <td>4.000000</td>\n",
       "      <td>5000.000000</td>\n",
       "      <td>6.360000e+02</td>\n",
       "      <td>5139.010000</td>\n",
       "      <td>30.000000</td>\n",
       "      <td>0.000000</td>\n",
       "    </tr>\n",
       "    <tr>\n",
       "      <th>75%</th>\n",
       "      <td>55.000000</td>\n",
       "      <td>8.000000</td>\n",
       "      <td>15000.000000</td>\n",
       "      <td>4.069860e+03</td>\n",
       "      <td>15000.000000</td>\n",
       "      <td>37.000000</td>\n",
       "      <td>1.000000</td>\n",
       "    </tr>\n",
       "    <tr>\n",
       "      <th>max</th>\n",
       "      <td>158.000000</td>\n",
       "      <td>14.000000</td>\n",
       "      <td>360360.000000</td>\n",
       "      <td>1.328523e+07</td>\n",
       "      <td>570794.870000</td>\n",
       "      <td>92.000000</td>\n",
       "      <td>1.000000</td>\n",
       "    </tr>\n",
       "  </tbody>\n",
       "</table>\n",
       "</div>"
      ],
      "text/plain": [
       "            category  main_category           goal  usd_pledged_real  \\\n",
       "count  374678.000000  374678.000000  374678.000000      3.746780e+05   \n",
       "mean       38.694823       4.954985   17231.733562      8.574230e+03   \n",
       "std        34.437139       4.099854   35237.054407      7.390574e+04   \n",
       "min         0.000000       0.000000       0.010000      0.000000e+00   \n",
       "25%         9.000000       1.000000    2000.000000      3.286000e+01   \n",
       "50%        30.000000       4.000000    5000.000000      6.360000e+02   \n",
       "75%        55.000000       8.000000   15000.000000      4.069860e+03   \n",
       "max       158.000000      14.000000  360360.000000      1.328523e+07   \n",
       "\n",
       "       usd_goal_real        datenum      state_num  \n",
       "count  374678.000000  374678.000000  374678.000000  \n",
       "mean    16688.087877      34.134118       0.357168  \n",
       "std     34432.991052      12.756912       0.479166  \n",
       "min         0.010000       1.000000       0.000000  \n",
       "25%      2000.000000      30.000000       0.000000  \n",
       "50%      5139.010000      30.000000       0.000000  \n",
       "75%     15000.000000      37.000000       1.000000  \n",
       "max    570794.870000      92.000000       1.000000  "
      ]
     },
     "execution_count": 39,
     "metadata": {},
     "output_type": "execute_result"
    }
   ],
   "source": [
    "df.describe()"
   ]
  },
  {
   "cell_type": "markdown",
   "metadata": {},
   "source": [
    "# STEP.7 機械的説明変数選択"
   ]
  },
  {
   "cell_type": "markdown",
   "metadata": {},
   "source": [
    "## STEP7-1.ステップワイズ法"
   ]
  },
  {
   "cell_type": "code",
   "execution_count": 40,
   "metadata": {},
   "outputs": [
    {
     "data": {
      "text/plain": [
       "RFECV(cv=10,\n",
       "      estimator=SGDClassifier(alpha=0.0001, average=False, class_weight=None,\n",
       "                              early_stopping=False, epsilon=0.1, eta0=0.0,\n",
       "                              fit_intercept=True, l1_ratio=0.15,\n",
       "                              learning_rate='optimal', loss='log',\n",
       "                              max_iter=10000, n_iter_no_change=5, n_jobs=-1,\n",
       "                              penalty='none', power_t=0.5, random_state=1234,\n",
       "                              shuffle=True, tol=0.001, validation_fraction=0.1,\n",
       "                              verbose=0, warm_start=False),\n",
       "      min_features_to_select=1, n_jobs=None, scoring='accuracy', step=1,\n",
       "      verbose=0)"
      ]
     },
     "execution_count": 40,
     "metadata": {},
     "output_type": "execute_result"
    }
   ],
   "source": [
    "estimator = SGDClassifier(loss='log', penalty='none', max_iter=10000, fit_intercept=True, random_state=1234, tol=1e-3, n_jobs=cpu_cnt)\n",
    "\n",
    "# RFECVは交差検証によってステップワイズ法による特徴選択を行う\n",
    "# cvにはFold（=グループ）の数，scoringには評価指標を指定する\n",
    "# 今回は回帰なのでneg_mean_absolute_errorを評価指標に指定（分類ならaccuracy）\n",
    "rfecv = RFECV(estimator, cv=10, scoring='accuracy')\n",
    "\n",
    "rfecv.fit(X, y)"
   ]
  },
  {
   "cell_type": "code",
   "execution_count": 41,
   "metadata": {},
   "outputs": [
    {
     "name": "stdout",
     "output_type": "stream",
     "text": [
      "Feature ranking: \n",
      "[1 1 1 1 1 1]\n"
     ]
    }
   ],
   "source": [
    "# 特徴のランキングを表示（1が最も重要な特徴）\n",
    "print('Feature ranking: \\n{}'.format(rfecv.ranking_))"
   ]
  },
  {
   "cell_type": "markdown",
   "metadata": {},
   "source": [
    "全部重要！"
   ]
  },
  {
   "cell_type": "markdown",
   "metadata": {},
   "source": [
    "## STEP7-2.埋め込み法"
   ]
  },
  {
   "cell_type": "code",
   "execution_count": 42,
   "metadata": {},
   "outputs": [
    {
     "data": {
      "text/plain": [
       "SelectFromModel(estimator=LassoCV(alphas=None, copy_X=True, cv=10, eps=0.001,\n",
       "                                  fit_intercept=True, max_iter=1000,\n",
       "                                  n_alphas=100, n_jobs=-1, normalize=True,\n",
       "                                  positive=False, precompute='auto',\n",
       "                                  random_state=None, selection='cyclic',\n",
       "                                  tol=0.0001, verbose=False),\n",
       "                max_features=None, norm_order=1, prefit=False, threshold=1e-05)"
      ]
     },
     "execution_count": 42,
     "metadata": {},
     "output_type": "execute_result"
    }
   ],
   "source": [
    "# estimatorにモデルをセット\n",
    "# LassoCVを使って、正則化の強さは自動決定\n",
    "estimator = LassoCV(normalize=True, cv=10, n_jobs=cpu_cnt)\n",
    "\n",
    "# モデルの情報を使って特徴選択を行う場合は、SelectFromModelを使う\n",
    "# 今回は係数が1e-5以下である特徴を削除する\n",
    "# 係数のしきい値はthresholdで指定する\n",
    "sfm = SelectFromModel(estimator, threshold=1e-5)\n",
    "\n",
    "# fitで特徴選択を実行\n",
    "sfm.fit(X, y)"
   ]
  },
  {
   "cell_type": "code",
   "execution_count": 43,
   "metadata": {},
   "outputs": [
    {
     "data": {
      "text/plain": [
       "array([ True,  True, False, False, False,  True])"
      ]
     },
     "execution_count": 43,
     "metadata": {},
     "output_type": "execute_result"
    }
   ],
   "source": [
    "# get_support関数で使用する特徴のインデックスを使用\n",
    "# Trueになっている特徴が使用する特徴\n",
    "sfm.get_support()"
   ]
  },
  {
   "cell_type": "code",
   "execution_count": 44,
   "metadata": {},
   "outputs": [
    {
     "data": {
      "text/html": [
       "<div>\n",
       "<style scoped>\n",
       "    .dataframe tbody tr th:only-of-type {\n",
       "        vertical-align: middle;\n",
       "    }\n",
       "\n",
       "    .dataframe tbody tr th {\n",
       "        vertical-align: top;\n",
       "    }\n",
       "\n",
       "    .dataframe thead th {\n",
       "        text-align: right;\n",
       "    }\n",
       "</style>\n",
       "<table border=\"1\" class=\"dataframe\">\n",
       "  <thead>\n",
       "    <tr style=\"text-align: right;\">\n",
       "      <th></th>\n",
       "      <th>category</th>\n",
       "      <th>main_category</th>\n",
       "      <th>goal</th>\n",
       "      <th>usd_pledged_real</th>\n",
       "      <th>usd_goal_real</th>\n",
       "      <th>datenum</th>\n",
       "      <th>state_num</th>\n",
       "    </tr>\n",
       "  </thead>\n",
       "  <tbody>\n",
       "    <tr>\n",
       "      <th>count</th>\n",
       "      <td>374678.000000</td>\n",
       "      <td>374678.000000</td>\n",
       "      <td>374678.000000</td>\n",
       "      <td>3.746780e+05</td>\n",
       "      <td>374678.000000</td>\n",
       "      <td>374678.000000</td>\n",
       "      <td>374678.000000</td>\n",
       "    </tr>\n",
       "    <tr>\n",
       "      <th>mean</th>\n",
       "      <td>38.694823</td>\n",
       "      <td>4.954985</td>\n",
       "      <td>17231.733562</td>\n",
       "      <td>8.574230e+03</td>\n",
       "      <td>16688.087877</td>\n",
       "      <td>34.134118</td>\n",
       "      <td>0.357168</td>\n",
       "    </tr>\n",
       "    <tr>\n",
       "      <th>std</th>\n",
       "      <td>34.437139</td>\n",
       "      <td>4.099854</td>\n",
       "      <td>35237.054407</td>\n",
       "      <td>7.390574e+04</td>\n",
       "      <td>34432.991052</td>\n",
       "      <td>12.756912</td>\n",
       "      <td>0.479166</td>\n",
       "    </tr>\n",
       "    <tr>\n",
       "      <th>min</th>\n",
       "      <td>0.000000</td>\n",
       "      <td>0.000000</td>\n",
       "      <td>0.010000</td>\n",
       "      <td>0.000000e+00</td>\n",
       "      <td>0.010000</td>\n",
       "      <td>1.000000</td>\n",
       "      <td>0.000000</td>\n",
       "    </tr>\n",
       "    <tr>\n",
       "      <th>25%</th>\n",
       "      <td>9.000000</td>\n",
       "      <td>1.000000</td>\n",
       "      <td>2000.000000</td>\n",
       "      <td>3.286000e+01</td>\n",
       "      <td>2000.000000</td>\n",
       "      <td>30.000000</td>\n",
       "      <td>0.000000</td>\n",
       "    </tr>\n",
       "    <tr>\n",
       "      <th>50%</th>\n",
       "      <td>30.000000</td>\n",
       "      <td>4.000000</td>\n",
       "      <td>5000.000000</td>\n",
       "      <td>6.360000e+02</td>\n",
       "      <td>5139.010000</td>\n",
       "      <td>30.000000</td>\n",
       "      <td>0.000000</td>\n",
       "    </tr>\n",
       "    <tr>\n",
       "      <th>75%</th>\n",
       "      <td>55.000000</td>\n",
       "      <td>8.000000</td>\n",
       "      <td>15000.000000</td>\n",
       "      <td>4.069860e+03</td>\n",
       "      <td>15000.000000</td>\n",
       "      <td>37.000000</td>\n",
       "      <td>1.000000</td>\n",
       "    </tr>\n",
       "    <tr>\n",
       "      <th>max</th>\n",
       "      <td>158.000000</td>\n",
       "      <td>14.000000</td>\n",
       "      <td>360360.000000</td>\n",
       "      <td>1.328523e+07</td>\n",
       "      <td>570794.870000</td>\n",
       "      <td>92.000000</td>\n",
       "      <td>1.000000</td>\n",
       "    </tr>\n",
       "  </tbody>\n",
       "</table>\n",
       "</div>"
      ],
      "text/plain": [
       "            category  main_category           goal  usd_pledged_real  \\\n",
       "count  374678.000000  374678.000000  374678.000000      3.746780e+05   \n",
       "mean       38.694823       4.954985   17231.733562      8.574230e+03   \n",
       "std        34.437139       4.099854   35237.054407      7.390574e+04   \n",
       "min         0.000000       0.000000       0.010000      0.000000e+00   \n",
       "25%         9.000000       1.000000    2000.000000      3.286000e+01   \n",
       "50%        30.000000       4.000000    5000.000000      6.360000e+02   \n",
       "75%        55.000000       8.000000   15000.000000      4.069860e+03   \n",
       "max       158.000000      14.000000  360360.000000      1.328523e+07   \n",
       "\n",
       "       usd_goal_real        datenum      state_num  \n",
       "count  374678.000000  374678.000000  374678.000000  \n",
       "mean    16688.087877      34.134118       0.357168  \n",
       "std     34432.991052      12.756912       0.479166  \n",
       "min         0.010000       1.000000       0.000000  \n",
       "25%      2000.000000      30.000000       0.000000  \n",
       "50%      5139.010000      30.000000       0.000000  \n",
       "75%     15000.000000      37.000000       1.000000  \n",
       "max    570794.870000      92.000000       1.000000  "
      ]
     },
     "execution_count": 44,
     "metadata": {},
     "output_type": "execute_result"
    }
   ],
   "source": [
    "df.describe()"
   ]
  },
  {
   "cell_type": "code",
   "execution_count": 45,
   "metadata": {},
   "outputs": [
    {
     "data": {
      "text/plain": [
       "Index(['goal', 'usd_pledged_real', 'usd_goal_real'], dtype='object')"
      ]
     },
     "execution_count": 45,
     "metadata": {},
     "output_type": "execute_result"
    }
   ],
   "source": [
    "# 削除すべき特徴の名前を取得 \n",
    "removed_idx  = ~sfm.get_support()\n",
    "X.columns[removed_idx]"
   ]
  },
  {
   "cell_type": "markdown",
   "metadata": {},
   "source": [
    "埋め込み法をやってみたものの、さすがにこの３つを消すと全く予測できなくなりそうなので、いったん残す  \n",
    "後で余裕があれば、消してやってみる  "
   ]
  },
  {
   "cell_type": "markdown",
   "metadata": {},
   "source": [
    "# STEP.8 学習用データ準備"
   ]
  },
  {
   "cell_type": "markdown",
   "metadata": {},
   "source": [
    "## STEP8-1.ホールドアウト"
   ]
  },
  {
   "cell_type": "code",
   "execution_count": 46,
   "metadata": {},
   "outputs": [
    {
     "name": "stdout",
     "output_type": "stream",
     "text": [
      "X_train: 299742\n",
      "y_train: 299742\n",
      "X_test: 74936\n",
      "y_test: 74936\n"
     ]
    }
   ],
   "source": [
    "# 全データのうち、何%をテストデータにするか（今回は20%に設定）\n",
    "test_size = 0.2\n",
    "\n",
    "# ホールドアウト法を実行（テストデータはランダム選択）\n",
    "X_train, X_test, y_train, y_test = train_test_split(X, y, test_size=test_size, random_state=1234) \n",
    "\n",
    "# 件数に誤りがないか確認する\n",
    "print('X_train:',len(X_train))\n",
    "print('y_train:',len(y_train))\n",
    "print('X_test:',len(X_test))\n",
    "print('y_test:',len(y_test))"
   ]
  },
  {
   "cell_type": "markdown",
   "metadata": {},
   "source": [
    "## STEP8-2. 説明変数の標準化"
   ]
  },
  {
   "cell_type": "code",
   "execution_count": 47,
   "metadata": {},
   "outputs": [
    {
     "name": "stdout",
     "output_type": "stream",
     "text": [
      "X_train: 299742\n",
      "y_train: 299742\n",
      "X_test: 74936\n",
      "y_test: 74936\n",
      "X_train_kf: 299742\n",
      "X_test_kf: 74936\n"
     ]
    }
   ],
   "source": [
    "stdsc = StandardScaler()\n",
    "\n",
    "X_train_kf = stdsc.fit_transform(X_train)\n",
    "X_test_kf = stdsc.fit_transform(X_test)\n",
    "\n",
    "# 件数に誤りがないか確認する\n",
    "print('X_train:',len(X_train))\n",
    "print('y_train:',len(y_train))\n",
    "print('X_test:',len(X_test))\n",
    "print('y_test:',len(y_test))\n",
    "print('X_train_kf:',len(X_train_kf))\n",
    "print('X_test_kf:',len(X_test_kf))"
   ]
  },
  {
   "cell_type": "markdown",
   "metadata": {},
   "source": [
    "# STEP.9 学習"
   ]
  },
  {
   "cell_type": "markdown",
   "metadata": {},
   "source": [
    "## 9-1.ロジスティック回帰で交差検定を実施してみる(cross_val_score)"
   ]
  },
  {
   "cell_type": "code",
   "execution_count": 48,
   "metadata": {},
   "outputs": [],
   "source": [
    "# モデル作成\n",
    "clf = SGDClassifier(loss='log', penalty='none', max_iter=10000, fit_intercept=True, random_state=1234, tol=1e-3, n_jobs=cpu_cnt)\n",
    "\n",
    "\n",
    "# 交差検定\n",
    "scores_accuracy = cross_val_score(clf, X_train_kf, y_train, cv=5, scoring='accuracy', n_jobs=cpu_cnt)\n",
    "scores_recall = cross_val_score(clf, X_train_kf, y_train, cv=5, scoring='recall', n_jobs=cpu_cnt)\n",
    "scores_precision = cross_val_score(clf, X_train_kf, y_train, cv=5, scoring='precision', n_jobs=cpu_cnt)\n",
    "scores_neg_log_lossl = cross_val_score(clf, X_train_kf, y_train, cv=5, scoring='neg_log_loss', n_jobs=cpu_cnt)\n",
    "scores_auc = cross_val_score(clf, X_train_kf, y_train, cv=5, scoring='roc_auc', n_jobs=cpu_cnt)\n"
   ]
  },
  {
   "cell_type": "code",
   "execution_count": 49,
   "metadata": {},
   "outputs": [
    {
     "name": "stdout",
     "output_type": "stream",
     "text": [
      "Cross-Validation scores(accuracy): [0.97411133 0.97271014 0.96990775 0.97389404 0.97521144]\n",
      "Cross-Validation scores(recall): [0.99967329 0.99962662 0.99967329 1.         1.        ]\n",
      "Cross-Validation scores(precision): [0.93272078 0.92935867 0.92259649 0.93192692 0.93514033]\n",
      "Cross-Validation scores(log_loss): [-0.1710889  -0.16324015 -0.17643991 -0.17745419 -0.17701804]\n",
      "Cross-Validation scores(AUC): [0.99307248 0.99374433 0.99272287 0.99376586 0.9932409 ]\n",
      "\n",
      "Average score(accuracy): 0.9731669396217286\n",
      "Average score(recall): 0.9997946420237096\n",
      "Average score(precision): 0.9303486379697201\n",
      "Average score(log_loss): -0.17304823903517502\n",
      "Average score(AUC): 0.9933092887494219\n"
     ]
    }
   ],
   "source": [
    "# 各分割におけるスコア\n",
    "print('Cross-Validation scores(accuracy): {}'.format(scores_accuracy))\n",
    "print('Cross-Validation scores(recall): {}'.format(scores_recall))\n",
    "print('Cross-Validation scores(precision): {}'.format(scores_precision))\n",
    "print('Cross-Validation scores(log_loss): {}'.format(scores_neg_log_lossl))\n",
    "print('Cross-Validation scores(AUC): {}'.format(scores_auc))\n",
    "print('')\n",
    "print('Average score(accuracy): {}'.format(np.mean(scores_accuracy)))\n",
    "print('Average score(recall): {}'.format(np.mean(scores_recall)))\n",
    "print('Average score(precision): {}'.format(np.mean(scores_precision)))\n",
    "print('Average score(log_loss): {}'.format(np.mean(scores_neg_log_lossl)))\n",
    "print('Average score(AUC): {}'.format(np.mean(scores_auc)))"
   ]
  },
  {
   "cell_type": "markdown",
   "metadata": {},
   "source": [
    "正答率が高すぎる気がする。  \n",
    "loglossもAUCも値が良すぎる。\n",
    "何故？"
   ]
  },
  {
   "cell_type": "markdown",
   "metadata": {},
   "source": [
    "## 9-2.ロジスティック回帰で交差検定を実施してみる(cross_validate)"
   ]
  },
  {
   "cell_type": "code",
   "execution_count": 50,
   "metadata": {},
   "outputs": [],
   "source": [
    "scoring = {\"accuracy\": \"accuracy\"\n",
    "           , \"recall\": \"recall\"\n",
    "           , \"precision\":\"precision\"\n",
    "           , \"log_loss\":\"neg_log_loss\"\n",
    "           , \"AUC\":\"roc_auc\"}\n",
    "\n",
    "scores = cross_validate(clf, X_train_kf, y_train, cv=5, scoring=scoring, n_jobs=cpu_cnt)"
   ]
  },
  {
   "cell_type": "code",
   "execution_count": 51,
   "metadata": {},
   "outputs": [
    {
     "name": "stdout",
     "output_type": "stream",
     "text": [
      "Cross-Validation scores(accuracy): [0.97411133 0.97271014 0.96990775 0.97389404 0.97521144]\n",
      "Cross-Validation scores(recall): [0.99967329 0.99962662 0.99967329 1.         1.        ]\n",
      "Cross-Validation scores(precision): [0.93272078 0.92935867 0.92259649 0.93192692 0.93514033]\n",
      "Cross-Validation scores(log_loss): [-0.1710889  -0.16324015 -0.17643991 -0.17745419 -0.17701804]\n",
      "Cross-Validation scores(AUC): [0.99307248 0.99374433 0.99272287 0.99376586 0.9932409 ]\n",
      "\n",
      "Average score(accuracy): 0.9731669396217286\n",
      "Average score(recall): 0.9997946420237096\n",
      "Average score(precision): 0.9303486379697201\n",
      "Average score(log_loss): -0.17304823903517502\n",
      "Average score(AUC): 0.9933092887494219\n"
     ]
    }
   ],
   "source": [
    "print('Cross-Validation scores(accuracy): {}'.format(scores['test_accuracy']))\n",
    "print('Cross-Validation scores(recall): {}'.format(scores['test_recall']))\n",
    "print('Cross-Validation scores(precision): {}'.format(scores['test_precision']))\n",
    "print('Cross-Validation scores(log_loss): {}'.format(scores['test_log_loss']))\n",
    "print('Cross-Validation scores(AUC): {}'.format(scores['test_AUC']))\n",
    "print('')\n",
    "print('Average score(accuracy): {}'.format(np.mean(scores['test_accuracy'])))\n",
    "print('Average score(recall): {}'.format(np.mean(scores['test_recall'])))\n",
    "print('Average score(precision): {}'.format(np.mean(scores['test_precision'])))\n",
    "print('Average score(log_loss): {}'.format(np.mean(scores['test_log_loss'])))\n",
    "print('Average score(AUC): {}'.format(np.mean(scores['test_AUC'])))"
   ]
  },
  {
   "cell_type": "markdown",
   "metadata": {},
   "source": [
    "## 9-3.ROC曲線を描いてみる"
   ]
  },
  {
   "cell_type": "code",
   "execution_count": 52,
   "metadata": {},
   "outputs": [],
   "source": [
    "# いったんモデルを作ってみる\n",
    "clf.fit(X_train_kf, y_train)\n",
    "\n",
    "# ホールドアウトのデータで予測\n",
    "y_pred_test = clf.predict(X_test_kf)"
   ]
  },
  {
   "cell_type": "code",
   "execution_count": 53,
   "metadata": {},
   "outputs": [
    {
     "name": "stdout",
     "output_type": "stream",
     "text": [
      "acs: 0.9598457350272233\n",
      "log_loss:- 1.3869112864438158\n",
      "AUC: 0.9688128355548185\n"
     ]
    }
   ],
   "source": [
    "# 一応、モデルのスコアも再度表示\n",
    "score_acs = accuracy_score(y_test, y_pred_test)\n",
    "score_logloss = log_loss(y_test, y_pred_test)\n",
    "score_auc = roc_auc_score(y_test, y_pred_test)\n",
    "\n",
    "print('acs:', score_acs)\n",
    "print('log_loss:-', score_logloss)\n",
    "print('AUC:', score_auc)"
   ]
  },
  {
   "cell_type": "code",
   "execution_count": 54,
   "metadata": {},
   "outputs": [],
   "source": [
    "# ROC曲線の情報を取得\n",
    "fpr, tpr, thresholds = roc_curve(y_test, y_pred_test)"
   ]
  },
  {
   "cell_type": "code",
   "execution_count": 55,
   "metadata": {},
   "outputs": [
    {
     "data": {
      "image/png": "[encoded data removed]",
      "text/plain": [
       "<Figure size 432x288 with 1 Axes>"
      ]
     },
     "metadata": {
      "needs_background": "light"
     },
     "output_type": "display_data"
    }
   ],
   "source": [
    "plt.plot(fpr, tpr, label='ROC curve (area = %.2f)'%score_auc)\n",
    "plt.legend()\n",
    "plt.title('ROC curve')\n",
    "plt.xlabel('False Positive Rate')\n",
    "plt.ylabel('True Positive Rate')\n",
    "plt.grid(True)"
   ]
  },
  {
   "cell_type": "markdown",
   "metadata": {},
   "source": [
    "急激にカーブ上がりすぎ。"
   ]
  },
  {
   "cell_type": "markdown",
   "metadata": {},
   "source": [
    "## 9-4.説明変数の重みチェック"
   ]
  },
  {
   "cell_type": "code",
   "execution_count": 56,
   "metadata": {},
   "outputs": [
    {
     "name": "stdout",
     "output_type": "stream",
     "text": [
      "w0 = -9.760, w1 = 0.016, w2 = -0.069, w3 = -0.071, w4 = 115.168, w5 = -48.472, w6 = -0.076\n"
     ]
    }
   ],
   "source": [
    "# 重みを取得して表示\n",
    "w0 = clf.intercept_[0]\n",
    "w1 = clf.coef_[0, 0]\n",
    "w2 = clf.coef_[0, 1]\n",
    "w3 = clf.coef_[0, 2]\n",
    "w4 = clf.coef_[0, 3]\n",
    "w5 = clf.coef_[0, 4]\n",
    "w6 = clf.coef_[0, 5]\n",
    "print('w0 = {:.3f}, w1 = {:.3f}, w2 = {:.3f}, w3 = {:.3f}, w4 = {:.3f}, w5 = {:.3f}, w6 = {:.3f}'.format(w0, w1, w2, w3, w4, w5, w6))\n"
   ]
  },
  {
   "cell_type": "code",
   "execution_count": 57,
   "metadata": {},
   "outputs": [
    {
     "data": {
      "text/html": [
       "<div>\n",
       "<style scoped>\n",
       "    .dataframe tbody tr th:only-of-type {\n",
       "        vertical-align: middle;\n",
       "    }\n",
       "\n",
       "    .dataframe tbody tr th {\n",
       "        vertical-align: top;\n",
       "    }\n",
       "\n",
       "    .dataframe thead th {\n",
       "        text-align: right;\n",
       "    }\n",
       "</style>\n",
       "<table border=\"1\" class=\"dataframe\">\n",
       "  <thead>\n",
       "    <tr style=\"text-align: right;\">\n",
       "      <th></th>\n",
       "      <th>category</th>\n",
       "      <th>main_category</th>\n",
       "      <th>goal</th>\n",
       "      <th>usd_pledged_real</th>\n",
       "      <th>usd_goal_real</th>\n",
       "      <th>datenum</th>\n",
       "    </tr>\n",
       "  </thead>\n",
       "  <tbody>\n",
       "    <tr>\n",
       "      <th>count</th>\n",
       "      <td>299742.000000</td>\n",
       "      <td>299742.000000</td>\n",
       "      <td>299742.000000</td>\n",
       "      <td>2.997420e+05</td>\n",
       "      <td>299742.000000</td>\n",
       "      <td>299742.000000</td>\n",
       "    </tr>\n",
       "    <tr>\n",
       "      <th>mean</th>\n",
       "      <td>38.681152</td>\n",
       "      <td>4.952813</td>\n",
       "      <td>17214.851470</td>\n",
       "      <td>8.613138e+03</td>\n",
       "      <td>16666.891890</td>\n",
       "      <td>34.119863</td>\n",
       "    </tr>\n",
       "    <tr>\n",
       "      <th>std</th>\n",
       "      <td>34.451386</td>\n",
       "      <td>4.099020</td>\n",
       "      <td>35191.778283</td>\n",
       "      <td>7.396589e+04</td>\n",
       "      <td>34352.102421</td>\n",
       "      <td>12.747811</td>\n",
       "    </tr>\n",
       "    <tr>\n",
       "      <th>min</th>\n",
       "      <td>0.000000</td>\n",
       "      <td>0.000000</td>\n",
       "      <td>0.010000</td>\n",
       "      <td>0.000000e+00</td>\n",
       "      <td>0.010000</td>\n",
       "      <td>1.000000</td>\n",
       "    </tr>\n",
       "    <tr>\n",
       "      <th>25%</th>\n",
       "      <td>9.000000</td>\n",
       "      <td>1.000000</td>\n",
       "      <td>2000.000000</td>\n",
       "      <td>3.365000e+01</td>\n",
       "      <td>2000.000000</td>\n",
       "      <td>30.000000</td>\n",
       "    </tr>\n",
       "    <tr>\n",
       "      <th>50%</th>\n",
       "      <td>30.000000</td>\n",
       "      <td>4.000000</td>\n",
       "      <td>5000.000000</td>\n",
       "      <td>6.366800e+02</td>\n",
       "      <td>5200.000000</td>\n",
       "      <td>30.000000</td>\n",
       "    </tr>\n",
       "    <tr>\n",
       "      <th>75%</th>\n",
       "      <td>55.000000</td>\n",
       "      <td>8.000000</td>\n",
       "      <td>15000.000000</td>\n",
       "      <td>4.085000e+03</td>\n",
       "      <td>15000.000000</td>\n",
       "      <td>37.000000</td>\n",
       "    </tr>\n",
       "    <tr>\n",
       "      <th>max</th>\n",
       "      <td>158.000000</td>\n",
       "      <td>14.000000</td>\n",
       "      <td>360360.000000</td>\n",
       "      <td>1.239314e+07</td>\n",
       "      <td>570794.870000</td>\n",
       "      <td>92.000000</td>\n",
       "    </tr>\n",
       "  </tbody>\n",
       "</table>\n",
       "</div>"
      ],
      "text/plain": [
       "            category  main_category           goal  usd_pledged_real  \\\n",
       "count  299742.000000  299742.000000  299742.000000      2.997420e+05   \n",
       "mean       38.681152       4.952813   17214.851470      8.613138e+03   \n",
       "std        34.451386       4.099020   35191.778283      7.396589e+04   \n",
       "min         0.000000       0.000000       0.010000      0.000000e+00   \n",
       "25%         9.000000       1.000000    2000.000000      3.365000e+01   \n",
       "50%        30.000000       4.000000    5000.000000      6.366800e+02   \n",
       "75%        55.000000       8.000000   15000.000000      4.085000e+03   \n",
       "max       158.000000      14.000000  360360.000000      1.239314e+07   \n",
       "\n",
       "       usd_goal_real        datenum  \n",
       "count  299742.000000  299742.000000  \n",
       "mean    16666.891890      34.119863  \n",
       "std     34352.102421      12.747811  \n",
       "min         0.010000       1.000000  \n",
       "25%      2000.000000      30.000000  \n",
       "50%      5200.000000      30.000000  \n",
       "75%     15000.000000      37.000000  \n",
       "max    570794.870000      92.000000  "
      ]
     },
     "execution_count": 57,
     "metadata": {},
     "output_type": "execute_result"
    }
   ],
   "source": [
    "X_train.describe()"
   ]
  },
  {
   "cell_type": "markdown",
   "metadata": {},
   "source": [
    "usd_pledged_realは出資金の意味だったので、そりゃ重くなる。\n",
    "なので削除してもう一回。"
   ]
  },
  {
   "cell_type": "markdown",
   "metadata": {},
   "source": [
    "# STEP.10 説明変数を一つ減らして出直し"
   ]
  },
  {
   "cell_type": "markdown",
   "metadata": {},
   "source": [
    "## 10.1 再度学習用データの準備"
   ]
  },
  {
   "cell_type": "code",
   "execution_count": 58,
   "metadata": {},
   "outputs": [
    {
     "data": {
      "text/html": [
       "<div>\n",
       "<style scoped>\n",
       "    .dataframe tbody tr th:only-of-type {\n",
       "        vertical-align: middle;\n",
       "    }\n",
       "\n",
       "    .dataframe tbody tr th {\n",
       "        vertical-align: top;\n",
       "    }\n",
       "\n",
       "    .dataframe thead th {\n",
       "        text-align: right;\n",
       "    }\n",
       "</style>\n",
       "<table border=\"1\" class=\"dataframe\">\n",
       "  <thead>\n",
       "    <tr style=\"text-align: right;\">\n",
       "      <th></th>\n",
       "      <th>category</th>\n",
       "      <th>main_category</th>\n",
       "      <th>goal</th>\n",
       "      <th>usd_goal_real</th>\n",
       "      <th>datenum</th>\n",
       "      <th>state_num</th>\n",
       "    </tr>\n",
       "  </thead>\n",
       "  <tbody>\n",
       "    <tr>\n",
       "      <th>0</th>\n",
       "      <td>0</td>\n",
       "      <td>0</td>\n",
       "      <td>1000.0</td>\n",
       "      <td>1533.95</td>\n",
       "      <td>59.0</td>\n",
       "      <td>0.0</td>\n",
       "    </tr>\n",
       "    <tr>\n",
       "      <th>1</th>\n",
       "      <td>1</td>\n",
       "      <td>1</td>\n",
       "      <td>30000.0</td>\n",
       "      <td>30000.00</td>\n",
       "      <td>60.0</td>\n",
       "      <td>0.0</td>\n",
       "    </tr>\n",
       "    <tr>\n",
       "      <th>2</th>\n",
       "      <td>1</td>\n",
       "      <td>1</td>\n",
       "      <td>45000.0</td>\n",
       "      <td>45000.00</td>\n",
       "      <td>45.0</td>\n",
       "      <td>0.0</td>\n",
       "    </tr>\n",
       "  </tbody>\n",
       "</table>\n",
       "</div>"
      ],
      "text/plain": [
       "   category  main_category     goal  usd_goal_real  datenum  state_num\n",
       "0         0              0   1000.0        1533.95     59.0        0.0\n",
       "1         1              1  30000.0       30000.00     60.0        0.0\n",
       "2         1              1  45000.0       45000.00     45.0        0.0"
      ]
     },
     "execution_count": 58,
     "metadata": {},
     "output_type": "execute_result"
    }
   ],
   "source": [
    "# 不要列の削除\n",
    "df=df.drop(['usd_pledged_real'], axis=1)\n",
    "y = df['state_num'].values\n",
    "X = df[df.columns[df.columns != 'state_num']]\n",
    "df.head(3)"
   ]
  },
  {
   "cell_type": "code",
   "execution_count": 59,
   "metadata": {},
   "outputs": [
    {
     "name": "stdout",
     "output_type": "stream",
     "text": [
      "X_train: 299742\n",
      "y_train: 299742\n",
      "X_test: 74936\n",
      "y_test: 74936\n"
     ]
    }
   ],
   "source": [
    "# 全データのうち、何%をテストデータにするか（今回は20%に設定）\n",
    "test_size = 0.2\n",
    "\n",
    "# ホールドアウト法を実行（テストデータはランダム選択）\n",
    "X_train, X_test, y_train, y_test = train_test_split(X, y, test_size=test_size, random_state=1234) \n",
    "\n",
    "# 件数に誤りがないか確認する\n",
    "print('X_train:',len(X_train))\n",
    "print('y_train:',len(y_train))\n",
    "print('X_test:',len(X_test))\n",
    "print('y_test:',len(y_test))"
   ]
  },
  {
   "cell_type": "code",
   "execution_count": 60,
   "metadata": {},
   "outputs": [
    {
     "name": "stdout",
     "output_type": "stream",
     "text": [
      "X_train: 299742\n",
      "y_train: 299742\n",
      "X_test: 74936\n",
      "y_test: 74936\n",
      "X_train_kf: 299742\n",
      "X_test_kf: 74936\n"
     ]
    }
   ],
   "source": [
    "stdsc = StandardScaler()\n",
    "\n",
    "X_train_kf = stdsc.fit_transform(X_train)\n",
    "X_test_kf = stdsc.fit_transform(X_test)\n",
    "\n",
    "# 件数に誤りがないか確認する\n",
    "print('X_train:',len(X_train))\n",
    "print('y_train:',len(y_train))\n",
    "print('X_test:',len(X_test))\n",
    "print('y_test:',len(y_test))\n",
    "print('X_train_kf:',len(X_train_kf))\n",
    "print('X_test_kf:',len(X_test_kf))"
   ]
  },
  {
   "cell_type": "markdown",
   "metadata": {},
   "source": [
    "## 10.2 検定を関数化しておく"
   ]
  },
  {
   "cell_type": "code",
   "execution_count": 61,
   "metadata": {},
   "outputs": [],
   "source": [
    "# 交差検定\n",
    "def fx_cross_validate(estimator,X, y):\n",
    "    scoring = {\"accuracy\": \"accuracy\"\n",
    "               , \"recall\": \"recall\"\n",
    "               , \"precision\":\"precision\"\n",
    "               , \"log_loss\":\"neg_log_loss\"\n",
    "               , \"AUC\":\"roc_auc\"}\n",
    "    \n",
    "    scores = cross_validate(estimator, X, y, cv=5, scoring=scoring)\n",
    "    \n",
    "    print('Cross-Validation scores(accuracy): {}'.format(scores['test_accuracy']))\n",
    "    print('Cross-Validation scores(recall): {}'.format(scores['test_recall']))\n",
    "    print('Cross-Validation scores(precision): {}'.format(scores['test_precision']))\n",
    "    print('Cross-Validation scores(log_loss): {}'.format(scores['test_log_loss']))\n",
    "    print('Cross-Validation scores(AUC): {}'.format(scores['test_AUC']))\n",
    "    print('')\n",
    "    print('Average score(accuracy): {}'.format(np.mean(scores['test_accuracy'])))\n",
    "    print('Average score(recall): {}'.format(np.mean(scores['test_recall'])))\n",
    "    print('Average score(precision): {}'.format(np.mean(scores['test_precision'])))\n",
    "    print('Average score(log_loss): {}'.format(np.mean(scores['test_log_loss'])))\n",
    "    print('Average score(AUC): {}'.format(np.mean(scores['test_AUC'])))"
   ]
  },
  {
   "cell_type": "code",
   "execution_count": 62,
   "metadata": {},
   "outputs": [],
   "source": [
    "# ROC曲線\n",
    "def fx_roc_curve(y,y_predict):\n",
    "    \n",
    "    # 一応、モデルのスコアも再度表示\n",
    "    score_acs = accuracy_score(y_test, y_pred_test)\n",
    "    score_logloss = log_loss(y_test, y_pred_test)\n",
    "    score_auc = roc_auc_score(y_test, y_pred_test)\n",
    "    \n",
    "    print('acs:', score_acs)\n",
    "    print('log_loss:-', score_logloss)\n",
    "    print('AUC:', score_auc)\n",
    "    \n",
    "    # ROC曲線の情報を取得\n",
    "    fpr, tpr, thresholds = roc_curve(y, y_predict)\n",
    "    \n",
    "    plt.plot(fpr, tpr, label='ROC curve (area = %.2f)'%score_auc)\n",
    "    plt.legend()\n",
    "    plt.title('ROC curve')\n",
    "    plt.xlabel('False Positive Rate')\n",
    "    plt.ylabel('True Positive Rate')\n",
    "    plt.grid(True)"
   ]
  },
  {
   "cell_type": "code",
   "execution_count": 63,
   "metadata": {},
   "outputs": [],
   "source": [
    "def fx_confusion_matrix(y,y_predict):    \n",
    "    \n",
    "    conf_mat = pd.DataFrame(confusion_matrix(y, y_predict), \n",
    "                        index=['Actual = Nagative', 'Actual = Positive'], \n",
    "                        columns=['predict = Nagative', 'predict = Positive'])\n",
    "    \n",
    "    print(conf_mat)"
   ]
  },
  {
   "cell_type": "markdown",
   "metadata": {},
   "source": [
    "## 10-3.交差検定/ROC曲線"
   ]
  },
  {
   "cell_type": "code",
   "execution_count": 64,
   "metadata": {},
   "outputs": [
    {
     "name": "stdout",
     "output_type": "stream",
     "text": [
      "Cross-Validation scores(accuracy): [0.64646616 0.64519842 0.64423093 0.64427504 0.64333495]\n",
      "Cross-Validation scores(recall): [0.08709045 0.09427798 0.03005694 0.04135356 0.01008168]\n",
      "Cross-Validation scores(precision): [0.53314286 0.52008239 0.54117647 0.52990431 0.55670103]\n",
      "Cross-Validation scores(log_loss): [-0.62654083 -0.6269627  -0.62751018 -0.62568341 -0.62686497]\n",
      "Cross-Validation scores(AUC): [0.63500493 0.6290753  0.6295639  0.62886089 0.63562083]\n",
      "\n",
      "Average score(accuracy): 0.6447010990839883\n",
      "Average score(recall): 0.05257212205021196\n",
      "Average score(precision): 0.5362014108336831\n",
      "Average score(log_loss): -0.6267124194849764\n",
      "Average score(AUC): 0.6316251692517217\n"
     ]
    }
   ],
   "source": [
    "# モデル作成\n",
    "clf = SGDClassifier(loss='log', penalty='none', max_iter=10000, fit_intercept=True, random_state=1234, tol=1e-3, n_jobs=cpu_cnt)\n",
    "fx_cross_validate(clf, X_train_kf, y_train)"
   ]
  },
  {
   "cell_type": "code",
   "execution_count": 65,
   "metadata": {},
   "outputs": [],
   "source": [
    "# いったんモデルを作ってみる\n",
    "clf.fit(X_train_kf, y_train)\n",
    "\n",
    "# ホールドアウトのデータで予測\n",
    "y_pred_test = clf.predict(X_test_kf)"
   ]
  },
  {
   "cell_type": "code",
   "execution_count": 66,
   "metadata": {},
   "outputs": [
    {
     "name": "stdout",
     "output_type": "stream",
     "text": [
      "acs: 0.6468052738336714\n",
      "log_loss:- 12.198924992219688\n",
      "AUC: 0.5131462280759541\n"
     ]
    },
    {
     "data": {
      "image/png": "[encoded data removed]",
      "text/plain": [
       "<Figure size 432x288 with 1 Axes>"
      ]
     },
     "metadata": {
      "needs_background": "light"
     },
     "output_type": "display_data"
    }
   ],
   "source": [
    "fx_roc_curve(y_test, y_pred_test)"
   ]
  },
  {
   "cell_type": "code",
   "execution_count": 67,
   "metadata": {},
   "outputs": [
    {
     "name": "stdout",
     "output_type": "stream",
     "text": [
      "                   predict = Nagative  predict = Positive\n",
      "Actual = Nagative               47180                1061\n",
      "Actual = Positive               25406                1289\n"
     ]
    }
   ],
   "source": [
    "fx_confusion_matrix(y_test, y_pred_test)"
   ]
  },
  {
   "cell_type": "markdown",
   "metadata": {},
   "source": [
    "今度は精度が落ちすぎ。  \n",
    "だが、「usd_pledged_real」がリーケージを起こしていたことは証明できた。  \n",
    "#### できればカテゴリ値をOneHotに置き換えて実行したいが、計算コストがかかりすぎるのでいったんこのまま進める"
   ]
  },
  {
   "cell_type": "markdown",
   "metadata": {},
   "source": [
    "# STEP.11 SVMの実装"
   ]
  },
  {
   "cell_type": "markdown",
   "metadata": {},
   "source": [
    "## 11-1.SVMの実装(時間かかりすぎで動かず)"
   ]
  },
  {
   "cell_type": "code",
   "execution_count": 68,
   "metadata": {},
   "outputs": [],
   "source": [
    "#clf = SVC(C=5, kernel='rbf', gamma=1)\n",
    "# 交差検定は時間かかるのでいったんパス\n",
    "#fx_cross_validate(clf, X_train_kf, y_train)"
   ]
  },
  {
   "cell_type": "code",
   "execution_count": 69,
   "metadata": {},
   "outputs": [],
   "source": [
    "# いったんモデルを作ってみる\n",
    "#clf.fit(X_train_kf, y_train)\n",
    "\n",
    "# ホールドアウトのデータで予測\n",
    "#y_pred_test = clf.predict(X_test_kf)"
   ]
  },
  {
   "cell_type": "code",
   "execution_count": 70,
   "metadata": {},
   "outputs": [],
   "source": [
    "#fx_roc_curve(y_test, y_pred_test)"
   ]
  },
  {
   "cell_type": "code",
   "execution_count": 71,
   "metadata": {},
   "outputs": [],
   "source": [
    "#fx_confusion_matrix(y_test, y_pred_test)"
   ]
  },
  {
   "cell_type": "markdown",
   "metadata": {},
   "source": [
    "## 11-2.LinearSVCの実装"
   ]
  },
  {
   "cell_type": "code",
   "execution_count": 73,
   "metadata": {},
   "outputs": [],
   "source": [
    "clf = LinearSVC(loss='hinge', C=1.0,class_weight='balanced', random_state=0)\n",
    "# 交差検定は時間かかるのでいったんパス\n",
    "#fx_cross_validate(clf, X_train_kf, y_train)"
   ]
  },
  {
   "cell_type": "code",
   "execution_count": 74,
   "metadata": {},
   "outputs": [
    {
     "name": "stderr",
     "output_type": "stream",
     "text": [
      "/home/ec2-user/anaconda3/lib/python3.7/site-packages/sklearn/svm/base.py:929: ConvergenceWarning: Liblinear failed to converge, increase the number of iterations.\n",
      "  \"the number of iterations.\", ConvergenceWarning)\n"
     ]
    }
   ],
   "source": [
    "# いったんモデルを作ってみる\n",
    "clf.fit(X_train_kf, y_train)\n",
    "\n",
    "# ホールドアウトのデータで予測\n",
    "y_pred_test = clf.predict(X_test_kf)"
   ]
  },
  {
   "cell_type": "code",
   "execution_count": 75,
   "metadata": {},
   "outputs": [
    {
     "name": "stdout",
     "output_type": "stream",
     "text": [
      "acs: 0.5135582363616953\n",
      "log_loss:- 16.8014509558978\n",
      "AUC: 0.589805853926914\n"
     ]
    },
    {
     "data": {
      "image/png": "[encoded data removed]",
      "text/plain": [
       "<Figure size 432x288 with 1 Axes>"
      ]
     },
     "metadata": {
      "needs_background": "light"
     },
     "output_type": "display_data"
    }
   ],
   "source": [
    "fx_roc_curve(y_test, y_pred_test)"
   ]
  },
  {
   "cell_type": "code",
   "execution_count": 76,
   "metadata": {},
   "outputs": [
    {
     "name": "stdout",
     "output_type": "stream",
     "text": [
      "                   predict = Nagative  predict = Positive\n",
      "Actual = Nagative               15660               32581\n",
      "Actual = Positive                3871               22824\n"
     ]
    }
   ],
   "source": [
    "fx_confusion_matrix(y_test, y_pred_test)"
   ]
  },
  {
   "cell_type": "markdown",
   "metadata": {},
   "source": [
    "# STEP.12 決定木の実装"
   ]
  },
  {
   "cell_type": "code",
   "execution_count": 77,
   "metadata": {},
   "outputs": [
    {
     "name": "stdout",
     "output_type": "stream",
     "text": [
      "Cross-Validation scores(accuracy): [0.65352216 0.65450633 0.65167059 0.65283245 0.65209268]\n",
      "Cross-Validation scores(recall): [0.41108933 0.40721553 0.4077756  0.40704784 0.404014  ]\n",
      "Cross-Validation scores(precision): [0.519309   0.52133126 0.51606615 0.51821261 0.51699218]\n",
      "Cross-Validation scores(log_loss): [-3.67941273 -3.64074441 -3.67328387 -3.67533899 -3.65003651]\n",
      "Cross-Validation scores(AUC): [0.65012555 0.64807903 0.6463665  0.64792571 0.646844  ]\n",
      "\n",
      "Average score(accuracy): 0.6529248428424779\n",
      "Average score(recall): 0.40742846132589977\n",
      "Average score(precision): 0.5183822409466516\n",
      "Average score(log_loss): -3.663763301851977\n",
      "Average score(AUC): 0.6478681574843891\n"
     ]
    }
   ],
   "source": [
    "clf = DecisionTreeClassifier(criterion=\"gini\", max_depth=None, min_samples_split=3, min_samples_leaf=3, random_state=1234)\n",
    "fx_cross_validate(clf, X_train_kf, y_train)"
   ]
  },
  {
   "cell_type": "code",
   "execution_count": 78,
   "metadata": {},
   "outputs": [],
   "source": [
    "# いったんモデルを作ってみる\n",
    "clf.fit(X_train_kf, y_train)\n",
    "\n",
    "# ホールドアウトのデータで予測\n",
    "y_pred_test = clf.predict(X_test_kf)"
   ]
  },
  {
   "cell_type": "code",
   "execution_count": 79,
   "metadata": {},
   "outputs": [
    {
     "name": "stdout",
     "output_type": "stream",
     "text": [
      "acs: 0.6466851713462154\n",
      "log_loss:- 12.203174618043398\n",
      "AUC: 0.5924998308832116\n"
     ]
    },
    {
     "data": {
      "image/png": "[encoded data removed]",
      "text/plain": [
       "<Figure size 432x288 with 1 Axes>"
      ]
     },
     "metadata": {
      "needs_background": "light"
     },
     "output_type": "display_data"
    }
   ],
   "source": [
    "fx_roc_curve(y_test, y_pred_test)"
   ]
  },
  {
   "cell_type": "code",
   "execution_count": 80,
   "metadata": {},
   "outputs": [
    {
     "name": "stdout",
     "output_type": "stream",
     "text": [
      "                   predict = Nagative  predict = Positive\n",
      "Actual = Nagative               37674               10567\n",
      "Actual = Positive               15909               10786\n"
     ]
    }
   ],
   "source": [
    "fx_confusion_matrix(y_test, y_pred_test)"
   ]
  },
  {
   "cell_type": "code",
   "execution_count": 81,
   "metadata": {},
   "outputs": [
    {
     "data": {
      "text/plain": [
       "'\\ndot_data = export_graphviz(clf, out_file=None,  \\n                     feature_names=[\"category\",\"main_category\",\"goal\",\"usd_goal_real\",\"datenum\"],  \\n                     class_names=[\"0\",\"1\",\"2\",\"3\",\"4\"],  \\n                     filled=True, rounded=True,  \\n                     special_characters=True) \\ngraph = pydotplus.graph_from_dot_data(dot_data) \\nImage(graph.create_png())\\n'"
      ]
     },
     "execution_count": 81,
     "metadata": {},
     "output_type": "execute_result"
    }
   ],
   "source": [
    "# 決定木の描画\n",
    "#dot_data = StringIO() #dotファイル情報の格納先\n",
    "\n",
    "# メモリ不足で断念\n",
    "'''\n",
    "dot_data = export_graphviz(clf, out_file=None,  \n",
    "                     feature_names=[\"category\",\"main_category\",\"goal\",\"usd_goal_real\",\"datenum\"],  \n",
    "                     class_names=[\"0\",\"1\",\"2\",\"3\",\"4\"],  \n",
    "                     filled=True, rounded=True,  \n",
    "                     special_characters=True) \n",
    "graph = pydotplus.graph_from_dot_data(dot_data) \n",
    "Image(graph.create_png())\n",
    "'''"
   ]
  },
  {
   "cell_type": "markdown",
   "metadata": {},
   "source": [
    "# STEP.13 ランダムフォレストの実装"
   ]
  },
  {
   "cell_type": "code",
   "execution_count": 82,
   "metadata": {},
   "outputs": [
    {
     "name": "stderr",
     "output_type": "stream",
     "text": [
      "/home/ec2-user/anaconda3/lib/python3.7/site-packages/sklearn/metrics/classification.py:1437: UndefinedMetricWarning: Precision is ill-defined and being set to 0.0 due to no predicted samples.\n",
      "  'precision', 'predicted', average, warn_for)\n",
      "/home/ec2-user/anaconda3/lib/python3.7/site-packages/sklearn/metrics/classification.py:1437: UndefinedMetricWarning: Precision is ill-defined and being set to 0.0 due to no predicted samples.\n",
      "  'precision', 'predicted', average, warn_for)\n",
      "/home/ec2-user/anaconda3/lib/python3.7/site-packages/sklearn/metrics/classification.py:1437: UndefinedMetricWarning: Precision is ill-defined and being set to 0.0 due to no predicted samples.\n",
      "  'precision', 'predicted', average, warn_for)\n",
      "/home/ec2-user/anaconda3/lib/python3.7/site-packages/sklearn/metrics/classification.py:1437: UndefinedMetricWarning: Precision is ill-defined and being set to 0.0 due to no predicted samples.\n",
      "  'precision', 'predicted', average, warn_for)\n"
     ]
    },
    {
     "name": "stdout",
     "output_type": "stream",
     "text": [
      "Cross-Validation scores(accuracy): [0.64259621 0.64259621 0.64259621 0.64260693 0.64260096]\n",
      "Cross-Validation scores(recall): [0. 0. 0. 0. 0.]\n",
      "Cross-Validation scores(precision): [0. 0. 0. 0. 0.]\n",
      "Cross-Validation scores(log_loss): [-0.62323246 -0.62346098 -0.62445842 -0.6240808  -0.62471988]\n",
      "Cross-Validation scores(AUC): [0.64522893 0.64178861 0.64115578 0.64196342 0.63933373]\n",
      "\n",
      "Average score(accuracy): 0.6425993021029688\n",
      "Average score(recall): 0.0\n",
      "Average score(precision): 0.0\n",
      "Average score(log_loss): -0.6239905085283726\n",
      "Average score(AUC): 0.6418940920210584\n"
     ]
    },
    {
     "name": "stderr",
     "output_type": "stream",
     "text": [
      "/home/ec2-user/anaconda3/lib/python3.7/site-packages/sklearn/metrics/classification.py:1437: UndefinedMetricWarning: Precision is ill-defined and being set to 0.0 due to no predicted samples.\n",
      "  'precision', 'predicted', average, warn_for)\n"
     ]
    }
   ],
   "source": [
    "clf = RandomForestClassifier(n_estimators=10, max_depth=2, criterion=\"gini\",\n",
    "                                                 min_samples_leaf=2, min_samples_split=2, random_state=1234, n_jobs=cpu_cnt)\n",
    "fx_cross_validate(clf, X_train_kf, y_train)"
   ]
  },
  {
   "cell_type": "code",
   "execution_count": 83,
   "metadata": {},
   "outputs": [],
   "source": [
    "# いったんモデルを作ってみる\n",
    "clf.fit(X_train_kf, y_train)\n",
    "\n",
    "# ホールドアウトのデータで予測\n",
    "y_pred_test = clf.predict(X_test_kf)"
   ]
  },
  {
   "cell_type": "code",
   "execution_count": 84,
   "metadata": {},
   "outputs": [
    {
     "name": "stdout",
     "output_type": "stream",
     "text": [
      "acs: 0.643762677484787\n",
      "log_loss:- 12.30400122587462\n",
      "AUC: 0.5\n"
     ]
    },
    {
     "data": {
      "image/png": "[encoded data removed]",
      "text/plain": [
       "<Figure size 432x288 with 1 Axes>"
      ]
     },
     "metadata": {
      "needs_background": "light"
     },
     "output_type": "display_data"
    }
   ],
   "source": [
    "fx_roc_curve(y_test, y_pred_test)"
   ]
  },
  {
   "cell_type": "code",
   "execution_count": 85,
   "metadata": {},
   "outputs": [
    {
     "name": "stdout",
     "output_type": "stream",
     "text": [
      "                   predict = Nagative  predict = Positive\n",
      "Actual = Nagative               48241                   0\n",
      "Actual = Positive               26695                   0\n"
     ]
    }
   ],
   "source": [
    "fx_confusion_matrix(y_test, y_pred_test)"
   ]
  },
  {
   "cell_type": "code",
   "execution_count": 86,
   "metadata": {},
   "outputs": [
    {
     "name": "stdout",
     "output_type": "stream",
     "text": [
      "[0.00614003 0.01928517 0.59750613 0.27234331 0.10472536]\n"
     ]
    },
    {
     "data": {
      "image/png": "[encoded data removed]",
      "text/plain": [
       "<Figure size 504x144 with 1 Axes>"
      ]
     },
     "metadata": {
      "needs_background": "light"
     },
     "output_type": "display_data"
    }
   ],
   "source": [
    "# 説明変数の重要度を出力する\n",
    "# scikit-learnで算出される重要度は、ある説明変数による不純度の減少量合計である。\n",
    "print(clf.feature_importances_)\n",
    "pd.DataFrame(clf.feature_importances_, index=X.columns).plot.bar(figsize=(7,2))\n",
    "plt.ylabel(\"Importance\")\n",
    "plt.xlabel(\"Features\")\n",
    "plt.show()"
   ]
  },
  {
   "cell_type": "markdown",
   "metadata": {},
   "source": [
    "# STEP.14 XGBoostでの実装"
   ]
  },
  {
   "cell_type": "code",
   "execution_count": 87,
   "metadata": {},
   "outputs": [],
   "source": [
    "dtrain = xgb.DMatrix(X_train_kf, label=y_train)\n",
    "dtest = xgb.DMatrix(X_test_kf, label=y_test)"
   ]
  },
  {
   "cell_type": "code",
   "execution_count": 88,
   "metadata": {},
   "outputs": [
    {
     "name": "stdout",
     "output_type": "stream",
     "text": [
      "Fitting 3 folds for each of 9 candidates, totalling 27 fits\n"
     ]
    },
    {
     "name": "stderr",
     "output_type": "stream",
     "text": [
      "/home/ec2-user/anaconda3/lib/python3.7/site-packages/sklearn/model_selection/_split.py:1978: FutureWarning: The default value of cv will change from 3 to 5 in version 0.22. Specify it explicitly to silence this warning.\n",
      "  warnings.warn(CV_WARNING, FutureWarning)\n",
      "[Parallel(n_jobs=-1)]: Using backend SequentialBackend with 1 concurrent workers.\n",
      "[Parallel(n_jobs=-1)]: Done  27 out of  27 | elapsed:  4.7min finished\n"
     ]
    },
    {
     "name": "stdout",
     "output_type": "stream",
     "text": [
      "{'max_depth': 6, 'n_estimators': 200} 0.6985274002308652\n"
     ]
    }
   ],
   "source": [
    "clf = xgb.XGBClassifier()\n",
    "\n",
    "# ハイパーパラメータ探索\n",
    "clf_cv = GridSearchCV(clf, {'max_depth': [2,4,6], 'n_estimators': [50,100,200]}, verbose=1, n_jobs=cpu_cnt)\n",
    "clf_cv.fit(X_train_kf, y_train)\n",
    "print(clf_cv.best_params_, clf_cv.best_score_)"
   ]
  },
  {
   "cell_type": "code",
   "execution_count": 89,
   "metadata": {},
   "outputs": [],
   "source": [
    "# 改めて最適パラメータで学習\n",
    "clf = xgb.XGBClassifier(**clf_cv.best_params_, n_jobs=cpu_cnt)\n",
    "clf.fit(X_train_kf, y_train)\n",
    "# ホールドアウトのデータで予測\n",
    "y_pred_test = clf.predict(X_test_kf)"
   ]
  },
  {
   "cell_type": "code",
   "execution_count": 90,
   "metadata": {},
   "outputs": [
    {
     "name": "stdout",
     "output_type": "stream",
     "text": [
      "acs: 0.7007980143055407\n",
      "log_loss:- 10.334134919386857\n",
      "AUC: 0.6305715276966825\n"
     ]
    },
    {
     "data": {
      "image/png": "[encoded data removed]",
      "text/plain": [
       "<Figure size 432x288 with 1 Axes>"
      ]
     },
     "metadata": {
      "needs_background": "light"
     },
     "output_type": "display_data"
    }
   ],
   "source": [
    "fx_roc_curve(y_test, y_pred_test)"
   ]
  },
  {
   "cell_type": "markdown",
   "metadata": {},
   "source": [
    "# STEP.15 ニューラルネットワークで実装"
   ]
  },
  {
   "cell_type": "code",
   "execution_count": 91,
   "metadata": {},
   "outputs": [
    {
     "name": "stderr",
     "output_type": "stream",
     "text": [
      "WARNING: Logging before flag parsing goes to stderr.\n",
      "W0807 15:12:14.349156 140055791331008 deprecation.py:506] From /home/ec2-user/anaconda3/lib/python3.7/site-packages/tensorflow/python/ops/init_ops.py:1251: calling VarianceScaling.__init__ (from tensorflow.python.ops.init_ops) with dtype is deprecated and will be removed in a future version.\n",
      "Instructions for updating:\n",
      "Call initializer instance with the dtype argument instead of passing it to the constructor\n"
     ]
    }
   ],
   "source": [
    "model = Sequential()\n",
    "model.add(Dense(6, activation='relu', input_dim=5))\n",
    "model.add(Dense(5, activation='relu', input_dim=6))\n",
    "model.add(Dense(3, activation='softmax'))#最終層のactivationは変更しないこと\n",
    "\n",
    "# ------ 最適化手法 ------\n",
    "sgd = SGD(lr=0.01, momentum=0.9, nesterov=False)\n",
    "# rms = RMSprop(lr=0.01)\n",
    "# adag = Adagrad(lr=0.01)\n",
    "# adad = Adadelta(lr=0.01)\n",
    "# adam = Adam(lr=0.01)\n",
    "# -----------------------------\n",
    "\n",
    "model.compile(loss='sparse_categorical_crossentropy',\n",
    "              optimizer=sgd,\n",
    "              metrics=['accuracy'])"
   ]
  },
  {
   "cell_type": "code",
   "execution_count": 92,
   "metadata": {},
   "outputs": [
    {
     "name": "stdout",
     "output_type": "stream",
     "text": [
      "Train on 299742 samples, validate on 74936 samples\n",
      "Epoch 1/50\n",
      "299742/299742 [==============================] - 15s 50us/sample - loss: 0.6237 - acc: 0.6471 - val_loss: 1252.0503 - val_acc: 0.6439\n",
      "Epoch 2/50\n",
      "299742/299742 [==============================] - 15s 50us/sample - loss: 0.6183 - acc: 0.6520 - val_loss: 742.2194 - val_acc: 0.6438\n",
      "Epoch 3/50\n",
      "299742/299742 [==============================] - 15s 50us/sample - loss: 0.6177 - acc: 0.6527 - val_loss: 1434.2248 - val_acc: 0.6438\n",
      "Epoch 4/50\n",
      "299742/299742 [==============================] - 15s 50us/sample - loss: 0.6166 - acc: 0.6550 - val_loss: 823.0180 - val_acc: 0.6438\n",
      "Epoch 5/50\n",
      "299742/299742 [==============================] - 15s 50us/sample - loss: 0.6158 - acc: 0.6560 - val_loss: 930.4794 - val_acc: 0.6438\n",
      "Epoch 6/50\n",
      "299742/299742 [==============================] - 15s 50us/sample - loss: 0.6149 - acc: 0.6569 - val_loss: 1387.0264 - val_acc: 0.6438\n",
      "Epoch 7/50\n",
      "299742/299742 [==============================] - 15s 50us/sample - loss: 0.6142 - acc: 0.6576 - val_loss: 760.7134 - val_acc: 0.6438\n",
      "Epoch 8/50\n",
      "299742/299742 [==============================] - 15s 50us/sample - loss: 0.6139 - acc: 0.6578 - val_loss: 576.8396 - val_acc: 0.6438\n",
      "Epoch 9/50\n",
      "299742/299742 [==============================] - 15s 50us/sample - loss: 0.6136 - acc: 0.6588 - val_loss: 704.9954 - val_acc: 0.6438\n",
      "Epoch 10/50\n",
      "299742/299742 [==============================] - 15s 50us/sample - loss: 0.6137 - acc: 0.6591 - val_loss: 1058.9353 - val_acc: 0.6438\n",
      "Epoch 11/50\n",
      "299742/299742 [==============================] - 15s 50us/sample - loss: 0.6136 - acc: 0.6592 - val_loss: 1477.3939 - val_acc: 0.6438\n",
      "Epoch 12/50\n",
      "299742/299742 [==============================] - 15s 50us/sample - loss: 0.6134 - acc: 0.6602 - val_loss: 957.9113 - val_acc: 0.6438\n",
      "Epoch 13/50\n",
      "299742/299742 [==============================] - 15s 50us/sample - loss: 0.6134 - acc: 0.6597 - val_loss: 1141.7543 - val_acc: 0.6438\n",
      "Epoch 14/50\n",
      "299742/299742 [==============================] - 15s 49us/sample - loss: 0.6132 - acc: 0.6598 - val_loss: 1436.1109 - val_acc: 0.6438\n",
      "Epoch 15/50\n",
      "299742/299742 [==============================] - 15s 50us/sample - loss: 0.6131 - acc: 0.6601 - val_loss: 1178.3805 - val_acc: 0.6438\n",
      "Epoch 16/50\n",
      "299742/299742 [==============================] - 15s 50us/sample - loss: 0.6131 - acc: 0.6600 - val_loss: 1664.0985 - val_acc: 0.6438\n",
      "Epoch 17/50\n",
      "299742/299742 [==============================] - 15s 50us/sample - loss: 0.6131 - acc: 0.6595 - val_loss: 1595.6642 - val_acc: 0.6438\n",
      "Epoch 18/50\n",
      "299742/299742 [==============================] - 15s 50us/sample - loss: 0.6129 - acc: 0.6598 - val_loss: 1189.2846 - val_acc: 0.6438\n",
      "Epoch 19/50\n",
      "299742/299742 [==============================] - 15s 50us/sample - loss: 0.6131 - acc: 0.6608 - val_loss: 1531.3085 - val_acc: 0.6438\n",
      "Epoch 20/50\n",
      "299742/299742 [==============================] - 15s 50us/sample - loss: 0.6132 - acc: 0.6601 - val_loss: 1268.5729 - val_acc: 0.6438\n",
      "Epoch 21/50\n",
      "299742/299742 [==============================] - 15s 50us/sample - loss: 0.6130 - acc: 0.6603 - val_loss: 1454.1731 - val_acc: 0.6438\n",
      "Epoch 22/50\n",
      "299742/299742 [==============================] - 15s 50us/sample - loss: 0.6128 - acc: 0.6610 - val_loss: 1168.0046 - val_acc: 0.6438\n",
      "Epoch 23/50\n",
      "299742/299742 [==============================] - 15s 50us/sample - loss: 0.6128 - acc: 0.6603 - val_loss: 1157.7346 - val_acc: 0.6438\n",
      "Epoch 24/50\n",
      "299742/299742 [==============================] - 15s 50us/sample - loss: 0.6128 - acc: 0.6603 - val_loss: 1603.7176 - val_acc: 0.6438\n",
      "Epoch 25/50\n",
      "299742/299742 [==============================] - 15s 50us/sample - loss: 0.6129 - acc: 0.6600 - val_loss: 1611.2699 - val_acc: 0.6438\n",
      "Epoch 26/50\n",
      "299742/299742 [==============================] - 15s 50us/sample - loss: 0.6126 - acc: 0.6606 - val_loss: 1429.4640 - val_acc: 0.6438\n",
      "Epoch 27/50\n",
      "299742/299742 [==============================] - 15s 49us/sample - loss: 0.6129 - acc: 0.6602 - val_loss: 913.7262 - val_acc: 0.6438\n",
      "Epoch 28/50\n",
      "299742/299742 [==============================] - 15s 50us/sample - loss: 0.6128 - acc: 0.6603 - val_loss: 1524.6511 - val_acc: 0.6438\n",
      "Epoch 29/50\n",
      "299742/299742 [==============================] - 15s 49us/sample - loss: 0.6127 - acc: 0.6604 - val_loss: 1657.4276 - val_acc: 0.6438\n",
      "Epoch 30/50\n",
      "299742/299742 [==============================] - 15s 50us/sample - loss: 0.6126 - acc: 0.6604 - val_loss: 1000.6659 - val_acc: 0.6438\n",
      "Epoch 31/50\n",
      "299742/299742 [==============================] - 15s 50us/sample - loss: 0.6126 - acc: 0.6602 - val_loss: 1431.6504 - val_acc: 0.6438\n",
      "Epoch 32/50\n",
      "299742/299742 [==============================] - 15s 50us/sample - loss: 0.6126 - acc: 0.6608 - val_loss: 1301.5460 - val_acc: 0.6438\n",
      "Epoch 33/50\n",
      "299742/299742 [==============================] - 15s 50us/sample - loss: 0.6123 - acc: 0.6611 - val_loss: 1793.0915 - val_acc: 0.6438\n",
      "Epoch 34/50\n",
      "299742/299742 [==============================] - 15s 50us/sample - loss: 0.6123 - acc: 0.6608 - val_loss: 1950.3755 - val_acc: 0.6438\n",
      "Epoch 35/50\n",
      "299742/299742 [==============================] - 15s 50us/sample - loss: 0.6121 - acc: 0.6602 - val_loss: 1557.7339 - val_acc: 0.6438\n",
      "Epoch 36/50\n",
      "299742/299742 [==============================] - 15s 50us/sample - loss: 0.6120 - acc: 0.6600 - val_loss: 1073.3268 - val_acc: 0.6438\n",
      "Epoch 37/50\n",
      "299742/299742 [==============================] - 15s 50us/sample - loss: 0.6121 - acc: 0.6600 - val_loss: 1330.0112 - val_acc: 0.6438\n",
      "Epoch 38/50\n",
      "299742/299742 [==============================] - 15s 50us/sample - loss: 0.6121 - acc: 0.6585 - val_loss: 1240.7435 - val_acc: 0.6438\n",
      "Epoch 39/50\n",
      "299742/299742 [==============================] - 15s 50us/sample - loss: 0.6119 - acc: 0.6599 - val_loss: 1540.3500 - val_acc: 0.6438\n",
      "Epoch 40/50\n",
      "299742/299742 [==============================] - 15s 50us/sample - loss: 0.6119 - acc: 0.6593 - val_loss: 1203.6872 - val_acc: 0.6438\n",
      "Epoch 41/50\n",
      "299742/299742 [==============================] - 15s 49us/sample - loss: 0.6118 - acc: 0.6590 - val_loss: 1386.4485 - val_acc: 0.6438\n",
      "Epoch 42/50\n",
      "299742/299742 [==============================] - 15s 50us/sample - loss: 0.6117 - acc: 0.6599 - val_loss: 1531.8032 - val_acc: 0.6438\n",
      "Epoch 43/50\n",
      "299742/299742 [==============================] - 15s 50us/sample - loss: 0.6116 - acc: 0.6596 - val_loss: 1705.4108 - val_acc: 0.6438\n",
      "Epoch 44/50\n",
      "299742/299742 [==============================] - 15s 50us/sample - loss: 0.6117 - acc: 0.6603 - val_loss: 1389.4518 - val_acc: 0.6438\n",
      "Epoch 45/50\n",
      "299742/299742 [==============================] - 15s 49us/sample - loss: 0.6116 - acc: 0.6606 - val_loss: 1897.3368 - val_acc: 0.6438\n",
      "Epoch 46/50\n",
      "299742/299742 [==============================] - 15s 50us/sample - loss: 0.6118 - acc: 0.6601 - val_loss: 1585.7369 - val_acc: 0.6438\n",
      "Epoch 47/50\n",
      "299742/299742 [==============================] - 15s 50us/sample - loss: 0.6117 - acc: 0.6605 - val_loss: 1509.3603 - val_acc: 0.6438\n",
      "Epoch 48/50\n",
      "299742/299742 [==============================] - 15s 50us/sample - loss: 0.6116 - acc: 0.6615 - val_loss: 1332.5226 - val_acc: 0.6439\n",
      "Epoch 49/50\n",
      "299742/299742 [==============================] - 15s 49us/sample - loss: 0.6115 - acc: 0.6610 - val_loss: 1252.5232 - val_acc: 0.6439\n",
      "Epoch 50/50\n",
      "299742/299742 [==============================] - 15s 50us/sample - loss: 0.6116 - acc: 0.6604 - val_loss: 1254.6764 - val_acc: 0.6439\n"
     ]
    },
    {
     "data": {
      "image/png": "[encoded data removed]",
      "text/plain": [
       "<Figure size 432x288 with 1 Axes>"
      ]
     },
     "metadata": {
      "needs_background": "light"
     },
     "output_type": "display_data"
    },
    {
     "data": {
      "image/png": "[encoded data removed]",
      "text/plain": [
       "<Figure size 432x288 with 1 Axes>"
      ]
     },
     "metadata": {
      "needs_background": "light"
     },
     "output_type": "display_data"
    }
   ],
   "source": [
    "# 計算の実行\n",
    "fit = model.fit(X_train_kf, y_train,\n",
    "          epochs=50,\n",
    "          batch_size=20,validation_data=(X_test, y_test))\n",
    "\n",
    "# 各epochにおける損失と精度をdfに入れる\n",
    "df = pd.DataFrame(fit.history)\n",
    "\n",
    "# グラフ化\n",
    "df[[\"loss\", \"val_loss\"]].plot()\n",
    "plt.ylabel(\"loss\")\n",
    "plt.xlabel(\"epoch\")\n",
    "plt.show()\n",
    "\n",
    "df[[\"acc\", \"val_acc\"]].plot()\n",
    "plt.ylabel(\"acc\")\n",
    "plt.xlabel(\"epoch\")\n",
    "plt.ylim([0,1.0])\n",
    "plt.show()"
   ]
  },
  {
   "cell_type": "code",
   "execution_count": 93,
   "metadata": {},
   "outputs": [],
   "source": [
    "y_pred_test = np.argmax(model.predict(X_test_kf),axis=1)"
   ]
  },
  {
   "cell_type": "code",
   "execution_count": 94,
   "metadata": {},
   "outputs": [
    {
     "name": "stdout",
     "output_type": "stream",
     "text": [
      "acs: 0.6671025942137291\n",
      "log_loss:- 11.497914335424072\n",
      "AUC: 0.5682536399207391\n"
     ]
    },
    {
     "data": {
      "image/png": "[encoded data removed]",
      "text/plain": [
       "<Figure size 432x288 with 1 Axes>"
      ]
     },
     "metadata": {
      "needs_background": "light"
     },
     "output_type": "display_data"
    }
   ],
   "source": [
    "fx_roc_curve(y_test, y_pred_test)"
   ]
  },
  {
   "cell_type": "code",
   "execution_count": null,
   "metadata": {},
   "outputs": [],
   "source": []
  }
 ],
 "metadata": {
  "kernelspec": {
   "display_name": "Python 3",
   "language": "python",
   "name": "python3"
  },
  "language_info": {
   "codemirror_mode": {
    "name": "ipython",
    "version": 3
   },
   "file_extension": ".py",
   "mimetype": "text/x-python",
   "name": "python",
   "nbconvert_exporter": "python",
   "pygments_lexer": "ipython3",
   "version": "3.7.3"
  }
 },
 "nbformat": 4,
 "nbformat_minor": 2
}
